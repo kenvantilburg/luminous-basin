{
 "cells": [
  {
   "cell_type": "markdown",
   "metadata": {},
   "source": [
    "# Preamble"
   ]
  },
  {
   "cell_type": "code",
   "execution_count": 1,
   "metadata": {},
   "outputs": [],
   "source": [
    "from load_functions import *\n",
    "from model_functions import *\n",
    "import emcee\n",
    "\n",
    "plt.rcdefaults()\n",
    "fontsize = 14\n",
    "rcParams['font.family'] = 'sans-serif'\n",
    "font_manager.findfont('serif', rebuild_if_missing=True)\n",
    "rcParams.update({'font.size':fontsize})"
   ]
  },
  {
   "cell_type": "code",
   "execution_count": 2,
   "metadata": {},
   "outputs": [],
   "source": [
    "HomeDir = '/Users/kvantilburg/Dropbox/projects/LuminousBasin/LuminousBasin/luminous-basin/'\n",
    "DataDir = HomeDir+'data/likelihood_yellin_data/products_80610202001_orbit1_chu12_spatialARF/'\n",
    "ResultsDir = HomeDir+'data/results/'\n",
    "import sys\n",
    "sys.path.insert(0, HomeDir)"
   ]
  },
  {
   "cell_type": "markdown",
   "metadata": {},
   "source": [
    "# Parameters"
   ]
  },
  {
   "cell_type": "code",
   "execution_count": 40,
   "metadata": {},
   "outputs": [],
   "source": [
    "m = 6 # axion mass\n",
    "sigma_E = 0.166 # energy resolution"
   ]
  },
  {
   "cell_type": "code",
   "execution_count": 41,
   "metadata": {},
   "outputs": [],
   "source": [
    "good_time_ints = [\n",
    "(  3.37603080e+08,   3.37603330e+08),\n",
    "(  3.37603330e+08,   3.37603380e+08),\n",
    "(  3.37603380e+08,   3.37603380e+08),\n",
    "(  3.37603580e+08,   3.37603581e+08),\n",
    "(  3.37603630e+08,   3.37605080e+08),\n",
    "(  3.37605081e+08,   3.37605230e+08)]\n",
    "exposure = np.sum([interval[1]-interval[0] for interval in good_time_ints])\n",
    "livetime = np.asarray([1501.16599845754, 1481.86081041239])/exposure # effective fractional livetime of A and B\n",
    "duration = np.max(good_time_ints)- np.min(good_time_ints)"
   ]
  },
  {
   "cell_type": "code",
   "execution_count": 42,
   "metadata": {},
   "outputs": [],
   "source": [
    "# time bins\n",
    "N_bins_t = 10\n",
    "bins_t = np.linspace(good_time_ints[1][0], good_time_ints[-1][1], N_bins_t+1)\n",
    "# energy bins\n",
    "width_E = 0.04 # energy bin width is 40 keV\n",
    "bins_E = np.arange(1.6,200.01,width_E)\n",
    "n_sigma_E = 3"
   ]
  },
  {
   "cell_type": "code",
   "execution_count": 43,
   "metadata": {},
   "outputs": [],
   "source": [
    "list_file_events = [DataDir+'event_lists/'+file for file in listdir(DataDir+'event_lists/') if file[0:2]=='nu'] #select only files starting with 'nu'\n",
    "file_box_centers = DataDir+'box_centers.txt'\n",
    "list_file_arf = [DataDir+'arfs/'+file for file in listdir(DataDir+'arfs/')]"
   ]
  },
  {
   "cell_type": "code",
   "execution_count": 44,
   "metadata": {},
   "outputs": [],
   "source": [
    "# fiducial solar position \n",
    "ra_sun_fid = 170.66855149 * degree\n",
    "dec_sun_fid = 4.02092024 * degree\n",
    "# error on solar position \n",
    "sigma_sun = 2 * arcmin\n",
    "# shift in solar position over duration starting from t_min\n",
    "delta_ra_sun = 0.01962028 * degree\n",
    "delta_dec_sun = -0.00835105 * degree\n",
    "t_min = 3.37603341e+08\n",
    "sigma_sun = 2*arcmin # error on solar position\n",
    "\n",
    "# initial solar position\n",
    "ra_sun_0 = ra_sun_fid\n",
    "dec_sun_0 = dec_sun_fid"
   ]
  },
  {
   "cell_type": "markdown",
   "metadata": {},
   "source": [
    "# Load Data"
   ]
  },
  {
   "cell_type": "code",
   "execution_count": 45,
   "metadata": {},
   "outputs": [],
   "source": [
    "df_data = load_data(m,sigma_E,good_time_ints,livetime,bins_t,bins_E,n_sigma_E,list_file_events,file_box_centers,list_file_arf)"
   ]
  },
  {
   "cell_type": "code",
   "execution_count": 46,
   "metadata": {},
   "outputs": [
    {
     "data": {
      "text/html": [
       "<div>\n",
       "<style scoped>\n",
       "    .dataframe tbody tr th:only-of-type {\n",
       "        vertical-align: middle;\n",
       "    }\n",
       "\n",
       "    .dataframe tbody tr th {\n",
       "        vertical-align: top;\n",
       "    }\n",
       "\n",
       "    .dataframe thead th {\n",
       "        text-align: right;\n",
       "    }\n",
       "</style>\n",
       "<table border=\"1\" class=\"dataframe\">\n",
       "  <thead>\n",
       "    <tr style=\"text-align: right;\">\n",
       "      <th></th>\n",
       "      <th>detector</th>\n",
       "      <th>idx_t</th>\n",
       "      <th>idx_E</th>\n",
       "      <th>i1</th>\n",
       "      <th>i2</th>\n",
       "      <th>t</th>\n",
       "      <th>E</th>\n",
       "      <th>ra</th>\n",
       "      <th>dec</th>\n",
       "      <th>exp</th>\n",
       "      <th>arf</th>\n",
       "      <th>Omega</th>\n",
       "      <th>counts</th>\n",
       "    </tr>\n",
       "  </thead>\n",
       "  <tbody>\n",
       "    <tr>\n",
       "      <th>0</th>\n",
       "      <td>A</td>\n",
       "      <td>0</td>\n",
       "      <td>23</td>\n",
       "      <td>-6</td>\n",
       "      <td>-6</td>\n",
       "      <td>337603330.0</td>\n",
       "      <td>2.52</td>\n",
       "      <td>170.889</td>\n",
       "      <td>3.75981</td>\n",
       "      <td>39.504368</td>\n",
       "      <td>13.011951</td>\n",
       "      <td>1.0</td>\n",
       "      <td>0</td>\n",
       "    </tr>\n",
       "    <tr>\n",
       "      <th>1</th>\n",
       "      <td>A</td>\n",
       "      <td>0</td>\n",
       "      <td>23</td>\n",
       "      <td>-6</td>\n",
       "      <td>-5</td>\n",
       "      <td>337603330.0</td>\n",
       "      <td>2.52</td>\n",
       "      <td>170.881</td>\n",
       "      <td>3.77425</td>\n",
       "      <td>39.504368</td>\n",
       "      <td>9.464325</td>\n",
       "      <td>1.0</td>\n",
       "      <td>0</td>\n",
       "    </tr>\n",
       "    <tr>\n",
       "      <th>2</th>\n",
       "      <td>A</td>\n",
       "      <td>0</td>\n",
       "      <td>23</td>\n",
       "      <td>-6</td>\n",
       "      <td>-4</td>\n",
       "      <td>337603330.0</td>\n",
       "      <td>2.52</td>\n",
       "      <td>170.872</td>\n",
       "      <td>3.78868</td>\n",
       "      <td>39.504368</td>\n",
       "      <td>15.619421</td>\n",
       "      <td>1.0</td>\n",
       "      <td>0</td>\n",
       "    </tr>\n",
       "    <tr>\n",
       "      <th>3</th>\n",
       "      <td>A</td>\n",
       "      <td>0</td>\n",
       "      <td>23</td>\n",
       "      <td>-6</td>\n",
       "      <td>-3</td>\n",
       "      <td>337603330.0</td>\n",
       "      <td>2.52</td>\n",
       "      <td>170.864</td>\n",
       "      <td>3.80311</td>\n",
       "      <td>39.504368</td>\n",
       "      <td>15.297169</td>\n",
       "      <td>1.0</td>\n",
       "      <td>0</td>\n",
       "    </tr>\n",
       "    <tr>\n",
       "      <th>4</th>\n",
       "      <td>A</td>\n",
       "      <td>0</td>\n",
       "      <td>23</td>\n",
       "      <td>-6</td>\n",
       "      <td>-2</td>\n",
       "      <td>337603330.0</td>\n",
       "      <td>2.52</td>\n",
       "      <td>170.856</td>\n",
       "      <td>3.81755</td>\n",
       "      <td>39.504368</td>\n",
       "      <td>26.678152</td>\n",
       "      <td>1.0</td>\n",
       "      <td>0</td>\n",
       "    </tr>\n",
       "    <tr>\n",
       "      <th>...</th>\n",
       "      <td>...</td>\n",
       "      <td>...</td>\n",
       "      <td>...</td>\n",
       "      <td>...</td>\n",
       "      <td>...</td>\n",
       "      <td>...</td>\n",
       "      <td>...</td>\n",
       "      <td>...</td>\n",
       "      <td>...</td>\n",
       "      <td>...</td>\n",
       "      <td>...</td>\n",
       "      <td>...</td>\n",
       "      <td>...</td>\n",
       "    </tr>\n",
       "    <tr>\n",
       "      <th>84495</th>\n",
       "      <td>B</td>\n",
       "      <td>9</td>\n",
       "      <td>47</td>\n",
       "      <td>6</td>\n",
       "      <td>2</td>\n",
       "      <td>337605040.0</td>\n",
       "      <td>3.48</td>\n",
       "      <td>171.009</td>\n",
       "      <td>3.97187</td>\n",
       "      <td>147.406154</td>\n",
       "      <td>51.640018</td>\n",
       "      <td>1.0</td>\n",
       "      <td>0</td>\n",
       "    </tr>\n",
       "    <tr>\n",
       "      <th>84496</th>\n",
       "      <td>B</td>\n",
       "      <td>9</td>\n",
       "      <td>47</td>\n",
       "      <td>6</td>\n",
       "      <td>3</td>\n",
       "      <td>337605040.0</td>\n",
       "      <td>3.48</td>\n",
       "      <td>171.001</td>\n",
       "      <td>3.98630</td>\n",
       "      <td>147.406154</td>\n",
       "      <td>42.378998</td>\n",
       "      <td>1.0</td>\n",
       "      <td>0</td>\n",
       "    </tr>\n",
       "    <tr>\n",
       "      <th>84497</th>\n",
       "      <td>B</td>\n",
       "      <td>9</td>\n",
       "      <td>47</td>\n",
       "      <td>6</td>\n",
       "      <td>4</td>\n",
       "      <td>337605040.0</td>\n",
       "      <td>3.48</td>\n",
       "      <td>170.992</td>\n",
       "      <td>4.00073</td>\n",
       "      <td>147.406154</td>\n",
       "      <td>30.613941</td>\n",
       "      <td>1.0</td>\n",
       "      <td>0</td>\n",
       "    </tr>\n",
       "    <tr>\n",
       "      <th>84498</th>\n",
       "      <td>B</td>\n",
       "      <td>9</td>\n",
       "      <td>47</td>\n",
       "      <td>6</td>\n",
       "      <td>5</td>\n",
       "      <td>337605040.0</td>\n",
       "      <td>3.48</td>\n",
       "      <td>170.984</td>\n",
       "      <td>4.01517</td>\n",
       "      <td>147.406154</td>\n",
       "      <td>30.099318</td>\n",
       "      <td>1.0</td>\n",
       "      <td>0</td>\n",
       "    </tr>\n",
       "    <tr>\n",
       "      <th>84499</th>\n",
       "      <td>B</td>\n",
       "      <td>9</td>\n",
       "      <td>47</td>\n",
       "      <td>6</td>\n",
       "      <td>6</td>\n",
       "      <td>337605040.0</td>\n",
       "      <td>3.48</td>\n",
       "      <td>170.976</td>\n",
       "      <td>4.02960</td>\n",
       "      <td>147.406154</td>\n",
       "      <td>22.577829</td>\n",
       "      <td>1.0</td>\n",
       "      <td>0</td>\n",
       "    </tr>\n",
       "  </tbody>\n",
       "</table>\n",
       "<p>84500 rows × 13 columns</p>\n",
       "</div>"
      ],
      "text/plain": [
       "      detector  idx_t  idx_E  i1  i2            t     E       ra      dec  \\\n",
       "0            A      0     23  -6  -6  337603330.0  2.52  170.889  3.75981   \n",
       "1            A      0     23  -6  -5  337603330.0  2.52  170.881  3.77425   \n",
       "2            A      0     23  -6  -4  337603330.0  2.52  170.872  3.78868   \n",
       "3            A      0     23  -6  -3  337603330.0  2.52  170.864  3.80311   \n",
       "4            A      0     23  -6  -2  337603330.0  2.52  170.856  3.81755   \n",
       "...        ...    ...    ...  ..  ..          ...   ...      ...      ...   \n",
       "84495        B      9     47   6   2  337605040.0  3.48  171.009  3.97187   \n",
       "84496        B      9     47   6   3  337605040.0  3.48  171.001  3.98630   \n",
       "84497        B      9     47   6   4  337605040.0  3.48  170.992  4.00073   \n",
       "84498        B      9     47   6   5  337605040.0  3.48  170.984  4.01517   \n",
       "84499        B      9     47   6   6  337605040.0  3.48  170.976  4.02960   \n",
       "\n",
       "              exp        arf  Omega  counts  \n",
       "0       39.504368  13.011951    1.0       0  \n",
       "1       39.504368   9.464325    1.0       0  \n",
       "2       39.504368  15.619421    1.0       0  \n",
       "3       39.504368  15.297169    1.0       0  \n",
       "4       39.504368  26.678152    1.0       0  \n",
       "...           ...        ...    ...     ...  \n",
       "84495  147.406154  51.640018    1.0       0  \n",
       "84496  147.406154  42.378998    1.0       0  \n",
       "84497  147.406154  30.613941    1.0       0  \n",
       "84498  147.406154  30.099318    1.0       0  \n",
       "84499  147.406154  22.577829    1.0       0  \n",
       "\n",
       "[84500 rows x 13 columns]"
      ]
     },
     "execution_count": 46,
     "metadata": {},
     "output_type": "execute_result"
    }
   ],
   "source": [
    "df_data"
   ]
  },
  {
   "cell_type": "code",
   "execution_count": 74,
   "metadata": {},
   "outputs": [],
   "source": [
    "t = df_data['t'].to_numpy()\n",
    "E = df_data['E'].to_numpy()\n",
    "ra = df_data['ra'].to_numpy()\n",
    "dec = df_data['dec'].to_numpy()\n",
    "eps = df_data['exp'].to_numpy() * df_data['arf'].to_numpy() * (df_data['Omega'].to_numpy() * arcmin**2 / (degree**2)) * width_E\n",
    "counts = df_data['counts'].to_numpy()"
   ]
  },
  {
   "cell_type": "code",
   "execution_count": 75,
   "metadata": {},
   "outputs": [
    {
     "data": {
      "text/html": [
       "<div>\n",
       "<style scoped>\n",
       "    .dataframe tbody tr th:only-of-type {\n",
       "        vertical-align: middle;\n",
       "    }\n",
       "\n",
       "    .dataframe tbody tr th {\n",
       "        vertical-align: top;\n",
       "    }\n",
       "\n",
       "    .dataframe thead th {\n",
       "        text-align: right;\n",
       "    }\n",
       "</style>\n",
       "<table border=\"1\" class=\"dataframe\">\n",
       "  <thead>\n",
       "    <tr style=\"text-align: right;\">\n",
       "      <th></th>\n",
       "      <th>m</th>\n",
       "      <th>ra_sun_0</th>\n",
       "      <th>dec_sun_0</th>\n",
       "      <th>rho_0</th>\n",
       "      <th>N_data</th>\n",
       "      <th>N_sig_lim_poisson</th>\n",
       "      <th>S_0_lim_poisson</th>\n",
       "      <th>N_sig_lim_yellin</th>\n",
       "      <th>S_0_lim_yellin</th>\n",
       "    </tr>\n",
       "  </thead>\n",
       "  <tbody>\n",
       "    <tr>\n",
       "      <th>0</th>\n",
       "      <td>3.2</td>\n",
       "      <td>2.978728</td>\n",
       "      <td>0.070178</td>\n",
       "      <td>296.513448</td>\n",
       "      <td>12721</td>\n",
       "      <td>12864.742387</td>\n",
       "      <td>43.386708</td>\n",
       "      <td>6325.111361</td>\n",
       "      <td>21.331617</td>\n",
       "    </tr>\n",
       "    <tr>\n",
       "      <th>1</th>\n",
       "      <td>3.3</td>\n",
       "      <td>2.978728</td>\n",
       "      <td>0.070178</td>\n",
       "      <td>398.950885</td>\n",
       "      <td>13348</td>\n",
       "      <td>13495.882921</td>\n",
       "      <td>33.828432</td>\n",
       "      <td>6319.313656</td>\n",
       "      <td>15.839829</td>\n",
       "    </tr>\n",
       "    <tr>\n",
       "      <th>2</th>\n",
       "      <td>3.4</td>\n",
       "      <td>2.978728</td>\n",
       "      <td>0.070178</td>\n",
       "      <td>514.408935</td>\n",
       "      <td>13930</td>\n",
       "      <td>14079.962107</td>\n",
       "      <td>27.371146</td>\n",
       "      <td>6463.155766</td>\n",
       "      <td>12.564237</td>\n",
       "    </tr>\n",
       "    <tr>\n",
       "      <th>3</th>\n",
       "      <td>3.5</td>\n",
       "      <td>2.978728</td>\n",
       "      <td>0.070178</td>\n",
       "      <td>645.655228</td>\n",
       "      <td>14995</td>\n",
       "      <td>15151.017660</td>\n",
       "      <td>23.466112</td>\n",
       "      <td>5806.716361</td>\n",
       "      <td>8.993525</td>\n",
       "    </tr>\n",
       "    <tr>\n",
       "      <th>4</th>\n",
       "      <td>3.6</td>\n",
       "      <td>2.978728</td>\n",
       "      <td>0.070178</td>\n",
       "      <td>785.449821</td>\n",
       "      <td>15448</td>\n",
       "      <td>15607.089944</td>\n",
       "      <td>19.870257</td>\n",
       "      <td>5558.469388</td>\n",
       "      <td>7.076798</td>\n",
       "    </tr>\n",
       "    <tr>\n",
       "      <th>...</th>\n",
       "      <td>...</td>\n",
       "      <td>...</td>\n",
       "      <td>...</td>\n",
       "      <td>...</td>\n",
       "      <td>...</td>\n",
       "      <td>...</td>\n",
       "      <td>...</td>\n",
       "      <td>...</td>\n",
       "      <td>...</td>\n",
       "    </tr>\n",
       "    <tr>\n",
       "      <th>363</th>\n",
       "      <td>39.5</td>\n",
       "      <td>2.978728</td>\n",
       "      <td>0.070178</td>\n",
       "      <td>25392.314178</td>\n",
       "      <td>9</td>\n",
       "      <td>14.204028</td>\n",
       "      <td>0.000559</td>\n",
       "      <td>2.303297</td>\n",
       "      <td>0.000091</td>\n",
       "    </tr>\n",
       "    <tr>\n",
       "      <th>364</th>\n",
       "      <td>39.6</td>\n",
       "      <td>2.978728</td>\n",
       "      <td>0.070178</td>\n",
       "      <td>25307.006674</td>\n",
       "      <td>9</td>\n",
       "      <td>14.204028</td>\n",
       "      <td>0.000561</td>\n",
       "      <td>2.303297</td>\n",
       "      <td>0.000091</td>\n",
       "    </tr>\n",
       "    <tr>\n",
       "      <th>365</th>\n",
       "      <td>39.7</td>\n",
       "      <td>2.978728</td>\n",
       "      <td>0.070178</td>\n",
       "      <td>25218.871552</td>\n",
       "      <td>9</td>\n",
       "      <td>14.204028</td>\n",
       "      <td>0.000563</td>\n",
       "      <td>2.303297</td>\n",
       "      <td>0.000091</td>\n",
       "    </tr>\n",
       "    <tr>\n",
       "      <th>366</th>\n",
       "      <td>39.8</td>\n",
       "      <td>2.978728</td>\n",
       "      <td>0.070178</td>\n",
       "      <td>25089.057583</td>\n",
       "      <td>9</td>\n",
       "      <td>14.204028</td>\n",
       "      <td>0.000566</td>\n",
       "      <td>2.303297</td>\n",
       "      <td>0.000092</td>\n",
       "    </tr>\n",
       "    <tr>\n",
       "      <th>367</th>\n",
       "      <td>39.9</td>\n",
       "      <td>2.978728</td>\n",
       "      <td>0.070178</td>\n",
       "      <td>25045.304543</td>\n",
       "      <td>10</td>\n",
       "      <td>15.406070</td>\n",
       "      <td>0.000615</td>\n",
       "      <td>2.570988</td>\n",
       "      <td>0.000103</td>\n",
       "    </tr>\n",
       "  </tbody>\n",
       "</table>\n",
       "<p>368 rows × 9 columns</p>\n",
       "</div>"
      ],
      "text/plain": [
       "        m  ra_sun_0  dec_sun_0         rho_0  N_data  N_sig_lim_poisson  \\\n",
       "0     3.2  2.978728   0.070178    296.513448   12721       12864.742387   \n",
       "1     3.3  2.978728   0.070178    398.950885   13348       13495.882921   \n",
       "2     3.4  2.978728   0.070178    514.408935   13930       14079.962107   \n",
       "3     3.5  2.978728   0.070178    645.655228   14995       15151.017660   \n",
       "4     3.6  2.978728   0.070178    785.449821   15448       15607.089944   \n",
       "..    ...       ...        ...           ...     ...                ...   \n",
       "363  39.5  2.978728   0.070178  25392.314178       9          14.204028   \n",
       "364  39.6  2.978728   0.070178  25307.006674       9          14.204028   \n",
       "365  39.7  2.978728   0.070178  25218.871552       9          14.204028   \n",
       "366  39.8  2.978728   0.070178  25089.057583       9          14.204028   \n",
       "367  39.9  2.978728   0.070178  25045.304543      10          15.406070   \n",
       "\n",
       "     S_0_lim_poisson  N_sig_lim_yellin  S_0_lim_yellin  \n",
       "0          43.386708       6325.111361       21.331617  \n",
       "1          33.828432       6319.313656       15.839829  \n",
       "2          27.371146       6463.155766       12.564237  \n",
       "3          23.466112       5806.716361        8.993525  \n",
       "4          19.870257       5558.469388        7.076798  \n",
       "..               ...               ...             ...  \n",
       "363         0.000559          2.303297        0.000091  \n",
       "364         0.000561          2.303297        0.000091  \n",
       "365         0.000563          2.303297        0.000091  \n",
       "366         0.000566          2.303297        0.000092  \n",
       "367         0.000615          2.570988        0.000103  \n",
       "\n",
       "[368 rows x 9 columns]"
      ]
     },
     "execution_count": 75,
     "metadata": {},
     "output_type": "execute_result"
    }
   ],
   "source": [
    "df_results_yellin = pd.read_csv(ResultsDir+'results_k10_fid.csv')\n",
    "df_results_yellin"
   ]
  },
  {
   "cell_type": "code",
   "execution_count": 138,
   "metadata": {},
   "outputs": [
    {
     "data": {
      "text/plain": [
       "m                        6.000000\n",
       "ra_sun_0                 2.978728\n",
       "dec_sun_0                0.070178\n",
       "rho_0                13780.517150\n",
       "N_data                1571.000000\n",
       "N_sig_lim_poisson     1622.826544\n",
       "S_0_lim_poisson          0.117762\n",
       "N_sig_lim_yellin       422.506733\n",
       "S_0_lim_yellin           0.030660\n",
       "Name: 28, dtype: float64"
      ]
     },
     "execution_count": 138,
     "metadata": {},
     "output_type": "execute_result"
    }
   ],
   "source": [
    "idx = np.where(np.abs(df_results_yellin['m']-m)<0.05)[0][0]\n",
    "S0_guess = df_results_yellin['S_0_lim_yellin'][idx]\n",
    "df_results_yellin.iloc[idx]"
   ]
  },
  {
   "cell_type": "markdown",
   "metadata": {},
   "source": [
    "# Checks"
   ]
  },
  {
   "cell_type": "code",
   "execution_count": 139,
   "metadata": {},
   "outputs": [
    {
     "data": {
      "text/plain": [
       "(1877, 1571.0)"
      ]
     },
     "execution_count": 139,
     "metadata": {},
     "output_type": "execute_result"
    }
   ],
   "source": [
    "np.sum(counts), df_results_yellin.iloc[idx]['N_data']"
   ]
  },
  {
   "cell_type": "code",
   "execution_count": 140,
   "metadata": {},
   "outputs": [
    {
     "data": {
      "text/plain": [
       "380.26788120293986"
      ]
     },
     "execution_count": 140,
     "metadata": {},
     "output_type": "execute_result"
    }
   ],
   "source": [
    "S0_guess * np.mean(T_flux_template(t,ra,dec,ra_sun_0,dec_sun_0,delta_ra_sun,delta_dec_sun,t_min,duration)) * np.mean(df_data['arf']) * (2*13**2*arcmin**2 / degree**2) * exposure * 4 * sigma_E"
   ]
  },
  {
   "cell_type": "markdown",
   "metadata": {},
   "source": [
    "# MCMC"
   ]
  },
  {
   "cell_type": "markdown",
   "metadata": {},
   "source": [
    "## 3 dimensions"
   ]
  },
  {
   "cell_type": "code",
   "execution_count": 233,
   "metadata": {},
   "outputs": [],
   "source": [
    "def LL_prior_BTS(B0,T0,S0):\n",
    "    LL_prior_T0 = np.piecewise(T0,[T0<=0,T0>0],[-1e1*T0,1e0*T0])\n",
    "    LL_prior_B0 = np.piecewise(B0,[B0<=0,B0>0],[-1e5*B0,1e-10*B0])\n",
    "    LL_prior_S0 = np.piecewise(S0,[S0<=0,S0>0],[-1e-5*S0,1e-5*S0])\n",
    "    return LL_prior_T0 + LL_prior_B0 + LL_prior_S0"
   ]
  },
  {
   "cell_type": "code",
   "execution_count": 242,
   "metadata": {},
   "outputs": [],
   "source": [
    "def likelihood_MCMC_3(model_inputs,m,t,E,ra,dec,eps,counts):\n",
    "    B0 = model_inputs[0]\n",
    "    T0 = model_inputs[1]\n",
    "    S0 = model_inputs[2]\n",
    "    #alpha0=170.66855149\n",
    "    #delta0=4.02092024\n",
    "    ra_sun_0 = ra_sun_fid\n",
    "    dec_sun_0 = dec_sun_fid\n",
    "    flux_bkgd = B0*np.exp(-(E-m/2)/T0)\n",
    "    flux_signal = S0 * T_flux_template(t,ra,dec,ra_sun_0,dec_sun_0,delta_ra_sun,delta_dec_sun,t_min,duration) * np.exp(-(E-m/2)**2/(2*sigma_E**2)) / np.sqrt(2 * np.pi * sigma_E**2)\n",
    "    mu = (flux_bkgd + flux_signal) * eps\n",
    "    \n",
    "    LLp = LL_prior_BTS(B0,T0,S0)\n",
    "    \n",
    "    if np.min(mu) < 0: \n",
    "        return -np.inf\n",
    "    else:\n",
    "        try:\n",
    "            #LL = counts*np.log(mu)-mu-np.log(factorial_vec(counts)) \n",
    "            LL = counts*np.log(mu)-mu # not including factorial, as it does not depend on model params\n",
    "            loss = 2 * (np.sum(LL) - LLp)\n",
    "            return loss\n",
    "        else:\n",
    "            return -np.inf"
   ]
  },
  {
   "cell_type": "code",
   "execution_count": 243,
   "metadata": {},
   "outputs": [],
   "source": [
    "nwalkers = 32\n",
    "ndim = 3 # B0,T0,S0,alpha0,delta0\n",
    "p0_B0 = np.abs(np.random.normal(S0_guess,0.3*S0_guess,nwalkers))\n",
    "p0_T0 = np.abs(np.random.normal(0.2,0.05,nwalkers))\n",
    "p0_S0 = np.random.normal(S0_guess,0.3*S0_guess,nwalkers)\n",
    "p0 = np.transpose([p0_B0,p0_T0,p0_S0])"
   ]
  },
  {
   "cell_type": "code",
   "execution_count": 244,
   "metadata": {},
   "outputs": [],
   "source": [
    "sampler = emcee.EnsembleSampler(nwalkers, ndim, likelihood_MCMC_3, args=[m,t,E,ra,dec,eps,counts])"
   ]
  },
  {
   "cell_type": "code",
   "execution_count": 245,
   "metadata": {},
   "outputs": [
    {
     "name": "stderr",
     "output_type": "stream",
     "text": [
      "/var/folders/x1/dts9vq8x5016gkhg985pdgjm0001m4/T/ipykernel_98129/1894312291.py:9: RuntimeWarning: overflow encountered in exp\n",
      "  flux_bkgd = B0*np.exp(-(E-m/2)/T0)\n",
      "/var/folders/x1/dts9vq8x5016gkhg985pdgjm0001m4/T/ipykernel_98129/1894312291.py:19: RuntimeWarning: invalid value encountered in multiply\n",
      "  LL = counts*np.log(mu)-mu # not including factorial, as it does not depend on model params\n",
      "/var/folders/x1/dts9vq8x5016gkhg985pdgjm0001m4/T/ipykernel_98129/1894312291.py:19: RuntimeWarning: invalid value encountered in subtract\n",
      "  LL = counts*np.log(mu)-mu # not including factorial, as it does not depend on model params\n"
     ]
    },
    {
     "ename": "ValueError",
     "evalue": "Probability function returned NaN",
     "output_type": "error",
     "traceback": [
      "\u001b[0;31m---------------------------------------------------------------------------\u001b[0m",
      "\u001b[0;31mValueError\u001b[0m                                Traceback (most recent call last)",
      "\u001b[0;32m/var/folders/x1/dts9vq8x5016gkhg985pdgjm0001m4/T/ipykernel_98129/1805023969.py\u001b[0m in \u001b[0;36m<module>\u001b[0;34m\u001b[0m\n\u001b[0;32m----> 1\u001b[0;31m \u001b[0mstate\u001b[0m \u001b[0;34m=\u001b[0m \u001b[0msampler\u001b[0m\u001b[0;34m.\u001b[0m\u001b[0mrun_mcmc\u001b[0m\u001b[0;34m(\u001b[0m\u001b[0mp0\u001b[0m\u001b[0;34m,\u001b[0m \u001b[0;36m100\u001b[0m\u001b[0;34m)\u001b[0m\u001b[0;34m\u001b[0m\u001b[0;34m\u001b[0m\u001b[0m\n\u001b[0m\u001b[1;32m      2\u001b[0m \u001b[0msampler\u001b[0m\u001b[0;34m.\u001b[0m\u001b[0mreset\u001b[0m\u001b[0;34m(\u001b[0m\u001b[0;34m)\u001b[0m\u001b[0;34m\u001b[0m\u001b[0;34m\u001b[0m\u001b[0m\n",
      "\u001b[0;32m~/opt/anaconda3/lib/python3.8/site-packages/emcee/ensemble.py\u001b[0m in \u001b[0;36mrun_mcmc\u001b[0;34m(self, initial_state, nsteps, **kwargs)\u001b[0m\n\u001b[1;32m    441\u001b[0m \u001b[0;34m\u001b[0m\u001b[0m\n\u001b[1;32m    442\u001b[0m         \u001b[0mresults\u001b[0m \u001b[0;34m=\u001b[0m \u001b[0;32mNone\u001b[0m\u001b[0;34m\u001b[0m\u001b[0;34m\u001b[0m\u001b[0m\n\u001b[0;32m--> 443\u001b[0;31m         \u001b[0;32mfor\u001b[0m \u001b[0mresults\u001b[0m \u001b[0;32min\u001b[0m \u001b[0mself\u001b[0m\u001b[0;34m.\u001b[0m\u001b[0msample\u001b[0m\u001b[0;34m(\u001b[0m\u001b[0minitial_state\u001b[0m\u001b[0;34m,\u001b[0m \u001b[0miterations\u001b[0m\u001b[0;34m=\u001b[0m\u001b[0mnsteps\u001b[0m\u001b[0;34m,\u001b[0m \u001b[0;34m**\u001b[0m\u001b[0mkwargs\u001b[0m\u001b[0;34m)\u001b[0m\u001b[0;34m:\u001b[0m\u001b[0;34m\u001b[0m\u001b[0;34m\u001b[0m\u001b[0m\n\u001b[0m\u001b[1;32m    444\u001b[0m             \u001b[0;32mpass\u001b[0m\u001b[0;34m\u001b[0m\u001b[0;34m\u001b[0m\u001b[0m\n\u001b[1;32m    445\u001b[0m \u001b[0;34m\u001b[0m\u001b[0m\n",
      "\u001b[0;32m~/opt/anaconda3/lib/python3.8/site-packages/emcee/ensemble.py\u001b[0m in \u001b[0;36msample\u001b[0;34m(self, initial_state, log_prob0, rstate0, blobs0, iterations, tune, skip_initial_state_check, thin_by, thin, store, progress, progress_kwargs)\u001b[0m\n\u001b[1;32m    400\u001b[0m \u001b[0;34m\u001b[0m\u001b[0m\n\u001b[1;32m    401\u001b[0m                     \u001b[0;31m# Propose\u001b[0m\u001b[0;34m\u001b[0m\u001b[0;34m\u001b[0m\u001b[0;34m\u001b[0m\u001b[0m\n\u001b[0;32m--> 402\u001b[0;31m                     \u001b[0mstate\u001b[0m\u001b[0;34m,\u001b[0m \u001b[0maccepted\u001b[0m \u001b[0;34m=\u001b[0m \u001b[0mmove\u001b[0m\u001b[0;34m.\u001b[0m\u001b[0mpropose\u001b[0m\u001b[0;34m(\u001b[0m\u001b[0mmodel\u001b[0m\u001b[0;34m,\u001b[0m \u001b[0mstate\u001b[0m\u001b[0;34m)\u001b[0m\u001b[0;34m\u001b[0m\u001b[0;34m\u001b[0m\u001b[0m\n\u001b[0m\u001b[1;32m    403\u001b[0m                     \u001b[0mstate\u001b[0m\u001b[0;34m.\u001b[0m\u001b[0mrandom_state\u001b[0m \u001b[0;34m=\u001b[0m \u001b[0mself\u001b[0m\u001b[0;34m.\u001b[0m\u001b[0mrandom_state\u001b[0m\u001b[0;34m\u001b[0m\u001b[0;34m\u001b[0m\u001b[0m\n\u001b[1;32m    404\u001b[0m \u001b[0;34m\u001b[0m\u001b[0m\n",
      "\u001b[0;32m~/opt/anaconda3/lib/python3.8/site-packages/emcee/moves/red_blue.py\u001b[0m in \u001b[0;36mpropose\u001b[0;34m(self, model, state)\u001b[0m\n\u001b[1;32m     91\u001b[0m \u001b[0;34m\u001b[0m\u001b[0m\n\u001b[1;32m     92\u001b[0m             \u001b[0;31m# Compute the lnprobs of the proposed position.\u001b[0m\u001b[0;34m\u001b[0m\u001b[0;34m\u001b[0m\u001b[0;34m\u001b[0m\u001b[0m\n\u001b[0;32m---> 93\u001b[0;31m             \u001b[0mnew_log_probs\u001b[0m\u001b[0;34m,\u001b[0m \u001b[0mnew_blobs\u001b[0m \u001b[0;34m=\u001b[0m \u001b[0mmodel\u001b[0m\u001b[0;34m.\u001b[0m\u001b[0mcompute_log_prob_fn\u001b[0m\u001b[0;34m(\u001b[0m\u001b[0mq\u001b[0m\u001b[0;34m)\u001b[0m\u001b[0;34m\u001b[0m\u001b[0;34m\u001b[0m\u001b[0m\n\u001b[0m\u001b[1;32m     94\u001b[0m \u001b[0;34m\u001b[0m\u001b[0m\n\u001b[1;32m     95\u001b[0m             \u001b[0;31m# Loop over the walkers and update them accordingly.\u001b[0m\u001b[0;34m\u001b[0m\u001b[0;34m\u001b[0m\u001b[0;34m\u001b[0m\u001b[0m\n",
      "\u001b[0;32m~/opt/anaconda3/lib/python3.8/site-packages/emcee/ensemble.py\u001b[0m in \u001b[0;36mcompute_log_prob\u001b[0;34m(self, coords)\u001b[0m\n\u001b[1;32m    533\u001b[0m         \u001b[0;31m# Check for log_prob returning NaN.\u001b[0m\u001b[0;34m\u001b[0m\u001b[0;34m\u001b[0m\u001b[0;34m\u001b[0m\u001b[0m\n\u001b[1;32m    534\u001b[0m         \u001b[0;32mif\u001b[0m \u001b[0mnp\u001b[0m\u001b[0;34m.\u001b[0m\u001b[0many\u001b[0m\u001b[0;34m(\u001b[0m\u001b[0mnp\u001b[0m\u001b[0;34m.\u001b[0m\u001b[0misnan\u001b[0m\u001b[0;34m(\u001b[0m\u001b[0mlog_prob\u001b[0m\u001b[0;34m)\u001b[0m\u001b[0;34m)\u001b[0m\u001b[0;34m:\u001b[0m\u001b[0;34m\u001b[0m\u001b[0;34m\u001b[0m\u001b[0m\n\u001b[0;32m--> 535\u001b[0;31m             \u001b[0;32mraise\u001b[0m \u001b[0mValueError\u001b[0m\u001b[0;34m(\u001b[0m\u001b[0;34m\"Probability function returned NaN\"\u001b[0m\u001b[0;34m)\u001b[0m\u001b[0;34m\u001b[0m\u001b[0;34m\u001b[0m\u001b[0m\n\u001b[0m\u001b[1;32m    536\u001b[0m \u001b[0;34m\u001b[0m\u001b[0m\n\u001b[1;32m    537\u001b[0m         \u001b[0;32mreturn\u001b[0m \u001b[0mlog_prob\u001b[0m\u001b[0;34m,\u001b[0m \u001b[0mblob\u001b[0m\u001b[0;34m\u001b[0m\u001b[0;34m\u001b[0m\u001b[0m\n",
      "\u001b[0;31mValueError\u001b[0m: Probability function returned NaN"
     ]
    }
   ],
   "source": [
    "state = sampler.run_mcmc(p0, 100)\n",
    "sampler.reset()"
   ]
  },
  {
   "cell_type": "code",
   "execution_count": null,
   "metadata": {},
   "outputs": [],
   "source": [
    "from multiprocessing import Pool\n",
    "\n",
    "with Pool() as pool:\n",
    "    sampler = emcee.EnsembleSampler(nwalkers, ndim, likelihood_MCMC_3, pool=pool)\n",
    "    tic = tit\n",
    "    sampler.run_mcmc(initial, nsteps, progress=True)\n",
    "    end = time.time()\n",
    "    multi_time = end - start"
   ]
  },
  {
   "cell_type": "raw",
   "metadata": {},
   "source": [
    "tic = tictoc();\n",
    "sampler.run_mcmc(state, 2000);\n",
    "toc = tictoc();\n",
    "print(toc-tic)"
   ]
  },
  {
   "cell_type": "code",
   "execution_count": null,
   "metadata": {},
   "outputs": [],
   "source": [
    "samples = sampler.get_chain(flat=True)"
   ]
  },
  {
   "cell_type": "code",
   "execution_count": null,
   "metadata": {},
   "outputs": [],
   "source": [
    "x_labels = ['$B_0$','$T_0$','$S_0$']\n",
    "fig,ax=plt.subplots(3,3,figsize=(8,8))\n",
    "corner.corner(samples,fig=fig);\n",
    "for i,x_label in enumerate(x_labels):\n",
    "    ax[2,i].set_xlabel(x_label)"
   ]
  },
  {
   "cell_type": "markdown",
   "metadata": {},
   "source": [
    "## 5 dimensions"
   ]
  },
  {
   "cell_type": "code",
   "execution_count": 192,
   "metadata": {},
   "outputs": [],
   "source": [
    "def LL_prior_sun(ra_sun_0,dec_sun_0,sigma_sun=sigma_sun,ra_sun_fid=ra_sun_fid,dec_sun_fid=dec_sun_fid):\n",
    "    return (np.cos(dec_sun_fid)**2 * (ra_sun_0 - ra_sun_fid)**2 + (dec_sun_0 - dec_sun_fid)**2) / (2 * sigma_sun**2)\n",
    "\n",
    "def LL_prior_BTS(B0,T0,S0):\n",
    "    LL_prior_T0 = np.piecewise(T0,[T0<=0,T0>0],[-1e1*T0,1e0*T0])\n",
    "    LL_prior_B0 = np.piecewise(B0,[B0<=0,B0>0],[-1e5*B0,1e-10*B0])\n",
    "    LL_prior_S0 = np.piecewise(S0,[S0<=0,S0>0],[-1e-5*S0,1e-5*S0])\n",
    "    return LL_prior_T0 + LL_prior_B0 + LL_prior_S0\n",
    "\n",
    "def LL_prior(B0,T0,S0,ra_sun_0,dec_sun_0):\n",
    "    return LL_prior_sun(ra_sun_0,dec_sun_0) + LL_prior_BTS(B0,T0,S0)"
   ]
  },
  {
   "cell_type": "code",
   "execution_count": 196,
   "metadata": {},
   "outputs": [],
   "source": [
    "def likelihood_MCMC_5(model_inputs,m,t,E,ra,dec,eps,counts):\n",
    "    B0 = model_inputs[0]\n",
    "    T0 = model_inputs[1]\n",
    "    S0 = model_inputs[2]\n",
    "    #alpha0=170.66855149\n",
    "    #delta0=4.02092024\n",
    "    ra_sun_0 = model_inputs[3]\n",
    "    dec_sun_0 = model_inputs[4]\n",
    "    flux_bkgd = B0*np.exp(-(E-m/2)/T0)\n",
    "    flux_signal = S0 * T_flux_template(t,ra,dec,ra_sun_0,dec_sun_0,delta_ra_sun,delta_dec_sun,t_min,duration) * np.exp(-(E-m/2)**2/(2*sigma_E**2)) / np.sqrt(2 * np.pi * sigma_E**2)\n",
    "    mu = (flux_bkgd + flux_signal) * eps\n",
    "    \n",
    "    if np.min(mu) < 0: \n",
    "        return -np.inf\n",
    "    else:\n",
    "        LLp = LL_prior(B0,T0,S0,ra_sun_0,dec_sun_0)\n",
    "        LL = counts*np.log(mu)-mu-np.log(factorial_vec(counts)) \n",
    "        loss = 2 * (np.sum(LL) - LLp)\n",
    "        return loss"
   ]
  },
  {
   "cell_type": "code",
   "execution_count": 191,
   "metadata": {},
   "outputs": [],
   "source": [
    "nwalkers = 10\n",
    "ndim = 5 # B0,T0,S0,alpha0,delta0\n",
    "p0_B0 = np.abs(np.random.normal(0.1*S0_guess,0.1*S0_guess,nwalkers))\n",
    "p0_T0 = np.abs(np.random.normal(0.2,0.05,nwalkers))\n",
    "p0_S0 = np.random.normal(S0_guess,0.1*S0_guess,nwalkers)\n",
    "p0_ra_sun_0 = np.random.normal(ra_sun_fid,sigma_sun,nwalkers)\n",
    "p0_dec_sun_0 = np.random.normal(dec_sun_fid,sigma_sun,nwalkers)\n",
    "p0 = np.transpose([p0_B0,p0_T0,p0_S0,p0_ra_sun_0,p0_dec_sun_0])"
   ]
  },
  {
   "cell_type": "code",
   "execution_count": null,
   "metadata": {},
   "outputs": [],
   "source": []
  },
  {
   "cell_type": "code",
   "execution_count": 177,
   "metadata": {},
   "outputs": [],
   "source": [
    "sampler = emcee.EnsembleSampler(nwalkers, ndim, likelihood_MCMC, args=[m,t,E,ra,dec,eps,counts])"
   ]
  },
  {
   "cell_type": "code",
   "execution_count": 178,
   "metadata": {},
   "outputs": [],
   "source": [
    "state = sampler.run_mcmc(p0, 100)\n",
    "sampler.reset()"
   ]
  },
  {
   "cell_type": "code",
   "execution_count": 179,
   "metadata": {},
   "outputs": [],
   "source": [
    "sampler.run_mcmc(state, 500);"
   ]
  },
  {
   "cell_type": "code",
   "execution_count": 180,
   "metadata": {},
   "outputs": [],
   "source": [
    "samples = sampler.get_chain(flat=True)"
   ]
  },
  {
   "cell_type": "raw",
   "metadata": {},
   "source": [
    "print(\n",
    "    \"Mean acceptance fraction: {0:.3f}\".format(\n",
    "        np.mean(sampler.acceptance_fraction))\n",
    ")\n",
    "print(\n",
    "    \"Mean autocorrelation time: {0:.3f} steps\".format(\n",
    "        np.mean(sampler.get_autocorr_time()))\n",
    ")"
   ]
  },
  {
   "cell_type": "code",
   "execution_count": 181,
   "metadata": {},
   "outputs": [
    {
     "data": {
      "text/plain": [
       "(5000, 5)"
      ]
     },
     "execution_count": 181,
     "metadata": {},
     "output_type": "execute_result"
    }
   ],
   "source": [
    "np.shape(samples)"
   ]
  },
  {
   "cell_type": "code",
   "execution_count": 182,
   "metadata": {},
   "outputs": [],
   "source": [
    "import corner"
   ]
  },
  {
   "cell_type": "code",
   "execution_count": 189,
   "metadata": {},
   "outputs": [
    {
     "name": "stderr",
     "output_type": "stream",
     "text": [
      "WARNING:root:Too few points to create valid contours\n",
      "WARNING:root:Too few points to create valid contours\n",
      "WARNING:root:Too few points to create valid contours\n",
      "WARNING:root:Too few points to create valid contours\n",
      "WARNING:root:Too few points to create valid contours\n"
     ]
    },
    {
     "data": {
      "image/png": "[encoded data removed]",
      "text/plain": [
       "<Figure size 1200x1200 with 25 Axes>"
      ]
     },
     "metadata": {},
     "output_type": "display_data"
    }
   ],
   "source": [
    "fig,ax=plt.subplots(5,5,figsize=(12,12))\n",
    "corner.corner(samples,fig=fig);\n",
    "#plt.tight_layout()"
   ]
  },
  {
   "cell_type": "markdown",
   "metadata": {},
   "source": [
    "# Likelihood"
   ]
  },
  {
   "cell_type": "code",
   "execution_count": 13,
   "metadata": {},
   "outputs": [],
   "source": [
    "B0 = 1.0\n",
    "T0 = 5.3\n",
    "S0 = 10\n",
    "alpha0 = 171\n",
    "delta0 = 4.5"
   ]
  },
  {
   "cell_type": "code",
   "execution_count": 14,
   "metadata": {},
   "outputs": [],
   "source": [
    "mu_bckg_slope = np.exp(-(E-m/2)/T0)\n",
    "mu_sig_T = T_flux_template(ra,dec,t,duration,alpha0,delta0)\n",
    "mu_sig_lineshape = np.exp(-(E-m/2)**2/(2*sigma_E**2)) / np.sqrt(2 * np.pi * sigma_E**2)"
   ]
  },
  {
   "cell_type": "code",
   "execution_count": 21,
   "metadata": {},
   "outputs": [],
   "source": [
    "mu = B0 * mu_bckg_slope + S0 * mu_sig_T * mu_sig_lineshape * eps "
   ]
  },
  {
   "cell_type": "code",
   "execution_count": 22,
   "metadata": {},
   "outputs": [
    {
     "name": "stdout",
     "output_type": "stream",
     "text": [
      "135 µs ± 825 ns per loop (mean ± std. dev. of 7 runs, 10000 loops each)\n"
     ]
    }
   ],
   "source": [
    "%timeit mu = B0 * mu_bckg_slope + S0 * mu_sig_T * mu_sig_lineshape * eps"
   ]
  },
  {
   "cell_type": "code",
   "execution_count": 17,
   "metadata": {},
   "outputs": [],
   "source": [
    "def flux_model(t,E,ra,dec,m,B0,T0,S0,alpha0,delta0,duration,sigma_E=0.166):\n",
    "    flux_bckg = B0*np.exp(-(E-m/2)/T0)\n",
    "    flux_signal = S0 * T_flux_template(ra,dec,t,duration,alpha0,delta0) * np.exp(-(E-m/2)**2/(2*sigma_E**2)) / np.sqrt(2 * np.pi * sigma_E**2)\n",
    "    return flux_bckg + flux_signal"
   ]
  },
  {
   "cell_type": "code",
   "execution_count": 18,
   "metadata": {},
   "outputs": [],
   "source": [
    "mu = flux_model(t,E,ra,dec,m,B0,T0,S0,alpha0,delta0,duration) * eps"
   ]
  },
  {
   "cell_type": "code",
   "execution_count": 20,
   "metadata": {},
   "outputs": [
    {
     "data": {
      "text/plain": [
       "60840"
      ]
     },
     "execution_count": 20,
     "metadata": {},
     "output_type": "execute_result"
    }
   ],
   "source": [
    "len(mu)"
   ]
  },
  {
   "cell_type": "code",
   "execution_count": 15,
   "metadata": {},
   "outputs": [
    {
     "name": "stdout",
     "output_type": "stream",
     "text": [
      "9.17 ms ± 560 µs per loop (mean ± std. dev. of 7 runs, 100 loops each)\n"
     ]
    }
   ],
   "source": [
    "%timeit flux_model(t,E,ra,dec,m,B0,T0,S0,alpha0,delta0,duration) * eps"
   ]
  },
  {
   "cell_type": "code",
   "execution_count": 24,
   "metadata": {},
   "outputs": [],
   "source": [
    "def likelihood(mu,counts):\n",
    "    return -counts*np.log(mu)+mu+np.log(factorial_vec(counts))"
   ]
  },
  {
   "cell_type": "code",
   "execution_count": 25,
   "metadata": {},
   "outputs": [
    {
     "name": "stdout",
     "output_type": "stream",
     "text": [
      "4.43 ms ± 258 µs per loop (mean ± std. dev. of 7 runs, 100 loops each)\n"
     ]
    }
   ],
   "source": [
    "%timeit likelihood(mu,counts)"
   ]
  },
  {
   "cell_type": "code",
   "execution_count": 26,
   "metadata": {},
   "outputs": [
    {
     "name": "stdout",
     "output_type": "stream",
     "text": [
      "379 µs ± 4.39 µs per loop (mean ± std. dev. of 7 runs, 1000 loops each)\n"
     ]
    }
   ],
   "source": [
    "%timeit np.sum(-counts*np.log(mu)+mu)"
   ]
  },
  {
   "cell_type": "markdown",
   "metadata": {},
   "source": [
    "# Tests"
   ]
  },
  {
   "cell_type": "markdown",
   "metadata": {},
   "source": [
    "## Load events"
   ]
  },
  {
   "cell_type": "code",
   "execution_count": 14,
   "metadata": {},
   "outputs": [
    {
     "data": {
      "text/html": [
       "<div>\n",
       "<style scoped>\n",
       "    .dataframe tbody tr th:only-of-type {\n",
       "        vertical-align: middle;\n",
       "    }\n",
       "\n",
       "    .dataframe tbody tr th {\n",
       "        vertical-align: top;\n",
       "    }\n",
       "\n",
       "    .dataframe thead th {\n",
       "        text-align: right;\n",
       "    }\n",
       "</style>\n",
       "<table border=\"1\" class=\"dataframe\">\n",
       "  <thead>\n",
       "    <tr style=\"text-align: right;\">\n",
       "      <th></th>\n",
       "      <th>detector</th>\n",
       "      <th>t</th>\n",
       "      <th>E</th>\n",
       "      <th>ra</th>\n",
       "      <th>dec</th>\n",
       "    </tr>\n",
       "  </thead>\n",
       "  <tbody>\n",
       "    <tr>\n",
       "      <th>0</th>\n",
       "      <td>A</td>\n",
       "      <td>3.376033e+08</td>\n",
       "      <td>2.04</td>\n",
       "      <td>170.894753</td>\n",
       "      <td>3.983816</td>\n",
       "    </tr>\n",
       "    <tr>\n",
       "      <th>1</th>\n",
       "      <td>A</td>\n",
       "      <td>3.376033e+08</td>\n",
       "      <td>1.88</td>\n",
       "      <td>170.902966</td>\n",
       "      <td>3.914852</td>\n",
       "    </tr>\n",
       "    <tr>\n",
       "      <th>2</th>\n",
       "      <td>A</td>\n",
       "      <td>3.376033e+08</td>\n",
       "      <td>2.20</td>\n",
       "      <td>170.859849</td>\n",
       "      <td>3.921680</td>\n",
       "    </tr>\n",
       "    <tr>\n",
       "      <th>3</th>\n",
       "      <td>A</td>\n",
       "      <td>3.376033e+08</td>\n",
       "      <td>2.48</td>\n",
       "      <td>170.910495</td>\n",
       "      <td>3.991327</td>\n",
       "    </tr>\n",
       "    <tr>\n",
       "      <th>4</th>\n",
       "      <td>A</td>\n",
       "      <td>3.376033e+08</td>\n",
       "      <td>2.88</td>\n",
       "      <td>170.956349</td>\n",
       "      <td>3.940799</td>\n",
       "    </tr>\n",
       "    <tr>\n",
       "      <th>...</th>\n",
       "      <td>...</td>\n",
       "      <td>...</td>\n",
       "      <td>...</td>\n",
       "      <td>...</td>\n",
       "      <td>...</td>\n",
       "    </tr>\n",
       "    <tr>\n",
       "      <th>13688</th>\n",
       "      <td>B</td>\n",
       "      <td>3.376052e+08</td>\n",
       "      <td>2.64</td>\n",
       "      <td>170.911179</td>\n",
       "      <td>3.826770</td>\n",
       "    </tr>\n",
       "    <tr>\n",
       "      <th>13689</th>\n",
       "      <td>B</td>\n",
       "      <td>3.376052e+08</td>\n",
       "      <td>2.72</td>\n",
       "      <td>170.913917</td>\n",
       "      <td>3.998155</td>\n",
       "    </tr>\n",
       "    <tr>\n",
       "      <th>13690</th>\n",
       "      <td>B</td>\n",
       "      <td>3.376052e+08</td>\n",
       "      <td>2.24</td>\n",
       "      <td>170.905704</td>\n",
       "      <td>3.992010</td>\n",
       "    </tr>\n",
       "    <tr>\n",
       "      <th>13691</th>\n",
       "      <td>B</td>\n",
       "      <td>3.376052e+08</td>\n",
       "      <td>1.80</td>\n",
       "      <td>170.878328</td>\n",
       "      <td>3.922363</td>\n",
       "    </tr>\n",
       "    <tr>\n",
       "      <th>13692</th>\n",
       "      <td>B</td>\n",
       "      <td>3.376052e+08</td>\n",
       "      <td>2.00</td>\n",
       "      <td>170.887910</td>\n",
       "      <td>3.927143</td>\n",
       "    </tr>\n",
       "  </tbody>\n",
       "</table>\n",
       "<p>26498 rows × 5 columns</p>\n",
       "</div>"
      ],
      "text/plain": [
       "      detector             t     E          ra       dec\n",
       "0            A  3.376033e+08  2.04  170.894753  3.983816\n",
       "1            A  3.376033e+08  1.88  170.902966  3.914852\n",
       "2            A  3.376033e+08  2.20  170.859849  3.921680\n",
       "3            A  3.376033e+08  2.48  170.910495  3.991327\n",
       "4            A  3.376033e+08  2.88  170.956349  3.940799\n",
       "...        ...           ...   ...         ...       ...\n",
       "13688        B  3.376052e+08  2.64  170.911179  3.826770\n",
       "13689        B  3.376052e+08  2.72  170.913917  3.998155\n",
       "13690        B  3.376052e+08  2.24  170.905704  3.992010\n",
       "13691        B  3.376052e+08  1.80  170.878328  3.922363\n",
       "13692        B  3.376052e+08  2.00  170.887910  3.927143\n",
       "\n",
       "[26498 rows x 5 columns]"
      ]
     },
     "execution_count": 14,
     "metadata": {},
     "output_type": "execute_result"
    }
   ],
   "source": [
    "df_events = load_events(list_file_events)\n",
    "df_events"
   ]
  },
  {
   "cell_type": "code",
   "execution_count": 57,
   "metadata": {},
   "outputs": [
    {
     "data": {
      "text/plain": [
       "51"
      ]
     },
     "execution_count": 57,
     "metadata": {},
     "output_type": "execute_result"
    }
   ],
   "source": [
    "df_events_m = load_events_m(list_file_events,m,sigma_E,n_sigma_E)\n",
    "len(df_events_m)"
   ]
  },
  {
   "cell_type": "markdown",
   "metadata": {},
   "source": [
    "## Load exposure"
   ]
  },
  {
   "cell_type": "code",
   "execution_count": 9,
   "metadata": {},
   "outputs": [
    {
     "data": {
      "text/html": [
       "<div>\n",
       "<style scoped>\n",
       "    .dataframe tbody tr th:only-of-type {\n",
       "        vertical-align: middle;\n",
       "    }\n",
       "\n",
       "    .dataframe tbody tr th {\n",
       "        vertical-align: top;\n",
       "    }\n",
       "\n",
       "    .dataframe thead th {\n",
       "        text-align: right;\n",
       "    }\n",
       "</style>\n",
       "<table border=\"1\" class=\"dataframe\">\n",
       "  <thead>\n",
       "    <tr style=\"text-align: right;\">\n",
       "      <th></th>\n",
       "      <th>idx_t</th>\n",
       "      <th>exp</th>\n",
       "    </tr>\n",
       "  </thead>\n",
       "  <tbody>\n",
       "    <tr>\n",
       "      <th>0</th>\n",
       "      <td>0</td>\n",
       "      <td>50.0</td>\n",
       "    </tr>\n",
       "    <tr>\n",
       "      <th>1</th>\n",
       "      <td>1</td>\n",
       "      <td>81.0</td>\n",
       "    </tr>\n",
       "    <tr>\n",
       "      <th>2</th>\n",
       "      <td>2</td>\n",
       "      <td>190.0</td>\n",
       "    </tr>\n",
       "    <tr>\n",
       "      <th>3</th>\n",
       "      <td>3</td>\n",
       "      <td>190.0</td>\n",
       "    </tr>\n",
       "    <tr>\n",
       "      <th>4</th>\n",
       "      <td>4</td>\n",
       "      <td>190.0</td>\n",
       "    </tr>\n",
       "    <tr>\n",
       "      <th>5</th>\n",
       "      <td>5</td>\n",
       "      <td>190.0</td>\n",
       "    </tr>\n",
       "    <tr>\n",
       "      <th>6</th>\n",
       "      <td>6</td>\n",
       "      <td>190.0</td>\n",
       "    </tr>\n",
       "    <tr>\n",
       "      <th>7</th>\n",
       "      <td>7</td>\n",
       "      <td>190.0</td>\n",
       "    </tr>\n",
       "    <tr>\n",
       "      <th>8</th>\n",
       "      <td>8</td>\n",
       "      <td>190.0</td>\n",
       "    </tr>\n",
       "    <tr>\n",
       "      <th>9</th>\n",
       "      <td>9</td>\n",
       "      <td>189.0</td>\n",
       "    </tr>\n",
       "  </tbody>\n",
       "</table>\n",
       "</div>"
      ],
      "text/plain": [
       "  idx_t    exp\n",
       "0     0   50.0\n",
       "1     1   81.0\n",
       "2     2  190.0\n",
       "3     3  190.0\n",
       "4     4  190.0\n",
       "5     5  190.0\n",
       "6     6  190.0\n",
       "7     7  190.0\n",
       "8     8  190.0\n",
       "9     9  189.0"
      ]
     },
     "execution_count": 9,
     "metadata": {},
     "output_type": "execute_result"
    }
   ],
   "source": [
    "df_exp = load_exp(bins_t,good_time_ints)\n",
    "df_exp"
   ]
  },
  {
   "cell_type": "markdown",
   "metadata": {},
   "source": [
    "## Load box centers"
   ]
  },
  {
   "cell_type": "code",
   "execution_count": 10,
   "metadata": {},
   "outputs": [
    {
     "data": {
      "text/html": [
       "<div>\n",
       "<style scoped>\n",
       "    .dataframe tbody tr th:only-of-type {\n",
       "        vertical-align: middle;\n",
       "    }\n",
       "\n",
       "    .dataframe tbody tr th {\n",
       "        vertical-align: top;\n",
       "    }\n",
       "\n",
       "    .dataframe thead th {\n",
       "        text-align: right;\n",
       "    }\n",
       "</style>\n",
       "<table border=\"1\" class=\"dataframe\">\n",
       "  <thead>\n",
       "    <tr style=\"text-align: right;\">\n",
       "      <th></th>\n",
       "      <th>detector</th>\n",
       "      <th>i1</th>\n",
       "      <th>i2</th>\n",
       "      <th>ra</th>\n",
       "      <th>dec</th>\n",
       "      <th>delta_x</th>\n",
       "      <th>delta_y</th>\n",
       "      <th>rotation</th>\n",
       "    </tr>\n",
       "  </thead>\n",
       "  <tbody>\n",
       "    <tr>\n",
       "      <th>0</th>\n",
       "      <td>A</td>\n",
       "      <td>0</td>\n",
       "      <td>0</td>\n",
       "      <td>170.926</td>\n",
       "      <td>3.89641</td>\n",
       "      <td>1.000'</td>\n",
       "      <td>1.000'</td>\n",
       "      <td>330</td>\n",
       "    </tr>\n",
       "    <tr>\n",
       "      <th>1</th>\n",
       "      <td>A</td>\n",
       "      <td>1</td>\n",
       "      <td>0</td>\n",
       "      <td>170.940</td>\n",
       "      <td>3.90475</td>\n",
       "      <td>1.000'</td>\n",
       "      <td>1.000'</td>\n",
       "      <td>330</td>\n",
       "    </tr>\n",
       "    <tr>\n",
       "      <th>2</th>\n",
       "      <td>A</td>\n",
       "      <td>-1</td>\n",
       "      <td>0</td>\n",
       "      <td>170.911</td>\n",
       "      <td>3.88808</td>\n",
       "      <td>1.000'</td>\n",
       "      <td>1.000'</td>\n",
       "      <td>330</td>\n",
       "    </tr>\n",
       "    <tr>\n",
       "      <th>3</th>\n",
       "      <td>A</td>\n",
       "      <td>2</td>\n",
       "      <td>0</td>\n",
       "      <td>170.955</td>\n",
       "      <td>3.91308</td>\n",
       "      <td>1.000'</td>\n",
       "      <td>1.000'</td>\n",
       "      <td>330</td>\n",
       "    </tr>\n",
       "    <tr>\n",
       "      <th>4</th>\n",
       "      <td>A</td>\n",
       "      <td>-2</td>\n",
       "      <td>0</td>\n",
       "      <td>170.897</td>\n",
       "      <td>3.87975</td>\n",
       "      <td>1.000'</td>\n",
       "      <td>1.000'</td>\n",
       "      <td>330</td>\n",
       "    </tr>\n",
       "    <tr>\n",
       "      <th>...</th>\n",
       "      <td>...</td>\n",
       "      <td>...</td>\n",
       "      <td>...</td>\n",
       "      <td>...</td>\n",
       "      <td>...</td>\n",
       "      <td>...</td>\n",
       "      <td>...</td>\n",
       "      <td>...</td>\n",
       "    </tr>\n",
       "    <tr>\n",
       "      <th>333</th>\n",
       "      <td>B</td>\n",
       "      <td>6</td>\n",
       "      <td>5</td>\n",
       "      <td>170.984</td>\n",
       "      <td>4.01517</td>\n",
       "      <td>1.000'</td>\n",
       "      <td>1.000'</td>\n",
       "      <td>330</td>\n",
       "    </tr>\n",
       "    <tr>\n",
       "      <th>334</th>\n",
       "      <td>B</td>\n",
       "      <td>-6</td>\n",
       "      <td>-6</td>\n",
       "      <td>170.902</td>\n",
       "      <td>3.75640</td>\n",
       "      <td>1.000'</td>\n",
       "      <td>1.000'</td>\n",
       "      <td>330</td>\n",
       "    </tr>\n",
       "    <tr>\n",
       "      <th>335</th>\n",
       "      <td>B</td>\n",
       "      <td>6</td>\n",
       "      <td>-6</td>\n",
       "      <td>171.076</td>\n",
       "      <td>3.85640</td>\n",
       "      <td>1.000'</td>\n",
       "      <td>1.000'</td>\n",
       "      <td>330</td>\n",
       "    </tr>\n",
       "    <tr>\n",
       "      <th>336</th>\n",
       "      <td>B</td>\n",
       "      <td>-6</td>\n",
       "      <td>6</td>\n",
       "      <td>170.802</td>\n",
       "      <td>3.92960</td>\n",
       "      <td>1.000'</td>\n",
       "      <td>1.000'</td>\n",
       "      <td>330</td>\n",
       "    </tr>\n",
       "    <tr>\n",
       "      <th>337</th>\n",
       "      <td>B</td>\n",
       "      <td>6</td>\n",
       "      <td>6</td>\n",
       "      <td>170.976</td>\n",
       "      <td>4.02960</td>\n",
       "      <td>1.000'</td>\n",
       "      <td>1.000'</td>\n",
       "      <td>330</td>\n",
       "    </tr>\n",
       "  </tbody>\n",
       "</table>\n",
       "<p>338 rows × 8 columns</p>\n",
       "</div>"
      ],
      "text/plain": [
       "    detector  i1  i2       ra      dec delta_x delta_y  rotation\n",
       "0          A   0   0  170.926  3.89641  1.000'  1.000'       330\n",
       "1          A   1   0  170.940  3.90475  1.000'  1.000'       330\n",
       "2          A  -1   0  170.911  3.88808  1.000'  1.000'       330\n",
       "3          A   2   0  170.955  3.91308  1.000'  1.000'       330\n",
       "4          A  -2   0  170.897  3.87975  1.000'  1.000'       330\n",
       "..       ...  ..  ..      ...      ...     ...     ...       ...\n",
       "333        B   6   5  170.984  4.01517  1.000'  1.000'       330\n",
       "334        B  -6  -6  170.902  3.75640  1.000'  1.000'       330\n",
       "335        B   6  -6  171.076  3.85640  1.000'  1.000'       330\n",
       "336        B  -6   6  170.802  3.92960  1.000'  1.000'       330\n",
       "337        B   6   6  170.976  4.02960  1.000'  1.000'       330\n",
       "\n",
       "[338 rows x 8 columns]"
      ]
     },
     "execution_count": 10,
     "metadata": {},
     "output_type": "execute_result"
    }
   ],
   "source": [
    "df_box = load_box(file_box_centers)\n",
    "df_box"
   ]
  },
  {
   "cell_type": "markdown",
   "metadata": {},
   "source": [
    "## Load ARFs"
   ]
  },
  {
   "cell_type": "code",
   "execution_count": 10,
   "metadata": {},
   "outputs": [
    {
     "name": "stderr",
     "output_type": "stream",
     "text": [
      "338it [00:36,  9.30it/s]\n"
     ]
    }
   ],
   "source": [
    "df_arf = load_arf(list_file_arf,bins_E,df_box)"
   ]
  },
  {
   "cell_type": "code",
   "execution_count": 11,
   "metadata": {},
   "outputs": [
    {
     "data": {
      "text/html": [
       "<div>\n",
       "<style scoped>\n",
       "    .dataframe tbody tr th:only-of-type {\n",
       "        vertical-align: middle;\n",
       "    }\n",
       "\n",
       "    .dataframe tbody tr th {\n",
       "        vertical-align: top;\n",
       "    }\n",
       "\n",
       "    .dataframe thead th {\n",
       "        text-align: right;\n",
       "    }\n",
       "</style>\n",
       "<table border=\"1\" class=\"dataframe\">\n",
       "  <thead>\n",
       "    <tr style=\"text-align: right;\">\n",
       "      <th></th>\n",
       "      <th>detector</th>\n",
       "      <th>idx_E</th>\n",
       "      <th>i1</th>\n",
       "      <th>i2</th>\n",
       "      <th>ra</th>\n",
       "      <th>dec</th>\n",
       "      <th>arf</th>\n",
       "    </tr>\n",
       "  </thead>\n",
       "  <tbody>\n",
       "    <tr>\n",
       "      <th>0</th>\n",
       "      <td>B</td>\n",
       "      <td>0</td>\n",
       "      <td>6</td>\n",
       "      <td>1</td>\n",
       "      <td>171.017</td>\n",
       "      <td>3.95743</td>\n",
       "      <td>0.414818</td>\n",
       "    </tr>\n",
       "    <tr>\n",
       "      <th>1</th>\n",
       "      <td>B</td>\n",
       "      <td>0</td>\n",
       "      <td>6</td>\n",
       "      <td>1</td>\n",
       "      <td>171.017</td>\n",
       "      <td>3.95743</td>\n",
       "      <td>0.573579</td>\n",
       "    </tr>\n",
       "    <tr>\n",
       "      <th>2</th>\n",
       "      <td>B</td>\n",
       "      <td>2</td>\n",
       "      <td>6</td>\n",
       "      <td>1</td>\n",
       "      <td>171.017</td>\n",
       "      <td>3.95743</td>\n",
       "      <td>0.790342</td>\n",
       "    </tr>\n",
       "    <tr>\n",
       "      <th>3</th>\n",
       "      <td>B</td>\n",
       "      <td>3</td>\n",
       "      <td>6</td>\n",
       "      <td>1</td>\n",
       "      <td>171.017</td>\n",
       "      <td>3.95743</td>\n",
       "      <td>1.085458</td>\n",
       "    </tr>\n",
       "    <tr>\n",
       "      <th>4</th>\n",
       "      <td>B</td>\n",
       "      <td>3</td>\n",
       "      <td>6</td>\n",
       "      <td>1</td>\n",
       "      <td>171.017</td>\n",
       "      <td>3.95743</td>\n",
       "      <td>1.464541</td>\n",
       "    </tr>\n",
       "    <tr>\n",
       "      <th>...</th>\n",
       "      <td>...</td>\n",
       "      <td>...</td>\n",
       "      <td>...</td>\n",
       "      <td>...</td>\n",
       "      <td>...</td>\n",
       "      <td>...</td>\n",
       "      <td>...</td>\n",
       "    </tr>\n",
       "    <tr>\n",
       "      <th>1384443</th>\n",
       "      <td>A</td>\n",
       "      <td>4091</td>\n",
       "      <td>3</td>\n",
       "      <td>3</td>\n",
       "      <td>170.944</td>\n",
       "      <td>3.96472</td>\n",
       "      <td>0.000000</td>\n",
       "    </tr>\n",
       "    <tr>\n",
       "      <th>1384444</th>\n",
       "      <td>A</td>\n",
       "      <td>4091</td>\n",
       "      <td>3</td>\n",
       "      <td>3</td>\n",
       "      <td>170.944</td>\n",
       "      <td>3.96472</td>\n",
       "      <td>0.000000</td>\n",
       "    </tr>\n",
       "    <tr>\n",
       "      <th>1384445</th>\n",
       "      <td>A</td>\n",
       "      <td>4093</td>\n",
       "      <td>3</td>\n",
       "      <td>3</td>\n",
       "      <td>170.944</td>\n",
       "      <td>3.96472</td>\n",
       "      <td>0.000000</td>\n",
       "    </tr>\n",
       "    <tr>\n",
       "      <th>1384446</th>\n",
       "      <td>A</td>\n",
       "      <td>4094</td>\n",
       "      <td>3</td>\n",
       "      <td>3</td>\n",
       "      <td>170.944</td>\n",
       "      <td>3.96472</td>\n",
       "      <td>0.000000</td>\n",
       "    </tr>\n",
       "    <tr>\n",
       "      <th>1384447</th>\n",
       "      <td>A</td>\n",
       "      <td>4095</td>\n",
       "      <td>3</td>\n",
       "      <td>3</td>\n",
       "      <td>170.944</td>\n",
       "      <td>3.96472</td>\n",
       "      <td>0.000000</td>\n",
       "    </tr>\n",
       "  </tbody>\n",
       "</table>\n",
       "<p>1384448 rows × 7 columns</p>\n",
       "</div>"
      ],
      "text/plain": [
       "        detector  idx_E  i1  i2       ra      dec       arf\n",
       "0              B      0   6   1  171.017  3.95743  0.414818\n",
       "1              B      0   6   1  171.017  3.95743  0.573579\n",
       "2              B      2   6   1  171.017  3.95743  0.790342\n",
       "3              B      3   6   1  171.017  3.95743  1.085458\n",
       "4              B      3   6   1  171.017  3.95743  1.464541\n",
       "...          ...    ...  ..  ..      ...      ...       ...\n",
       "1384443        A   4091   3   3  170.944  3.96472  0.000000\n",
       "1384444        A   4091   3   3  170.944  3.96472  0.000000\n",
       "1384445        A   4093   3   3  170.944  3.96472  0.000000\n",
       "1384446        A   4094   3   3  170.944  3.96472  0.000000\n",
       "1384447        A   4095   3   3  170.944  3.96472  0.000000\n",
       "\n",
       "[1384448 rows x 7 columns]"
      ]
     },
     "execution_count": 11,
     "metadata": {},
     "output_type": "execute_result"
    }
   ],
   "source": [
    "df_arf"
   ]
  },
  {
   "cell_type": "code",
   "execution_count": 10,
   "metadata": {},
   "outputs": [
    {
     "name": "stderr",
     "output_type": "stream",
     "text": [
      "338it [00:34,  9.77it/s]\n"
     ]
    },
    {
     "data": {
      "text/html": [
       "<div>\n",
       "<style scoped>\n",
       "    .dataframe tbody tr th:only-of-type {\n",
       "        vertical-align: middle;\n",
       "    }\n",
       "\n",
       "    .dataframe tbody tr th {\n",
       "        vertical-align: top;\n",
       "    }\n",
       "\n",
       "    .dataframe thead th {\n",
       "        text-align: right;\n",
       "    }\n",
       "</style>\n",
       "<table border=\"1\" class=\"dataframe\">\n",
       "  <thead>\n",
       "    <tr style=\"text-align: right;\">\n",
       "      <th></th>\n",
       "      <th>detector</th>\n",
       "      <th>idx_E</th>\n",
       "      <th>i1</th>\n",
       "      <th>i2</th>\n",
       "      <th>ra</th>\n",
       "      <th>dec</th>\n",
       "      <th>arf</th>\n",
       "    </tr>\n",
       "  </thead>\n",
       "  <tbody>\n",
       "    <tr>\n",
       "      <th>0</th>\n",
       "      <td>A</td>\n",
       "      <td>47</td>\n",
       "      <td>-6</td>\n",
       "      <td>-6</td>\n",
       "      <td>170.889</td>\n",
       "      <td>3.75981</td>\n",
       "      <td>49.252083</td>\n",
       "    </tr>\n",
       "    <tr>\n",
       "      <th>1</th>\n",
       "      <td>A</td>\n",
       "      <td>47</td>\n",
       "      <td>-6</td>\n",
       "      <td>-6</td>\n",
       "      <td>170.889</td>\n",
       "      <td>3.75981</td>\n",
       "      <td>49.233070</td>\n",
       "    </tr>\n",
       "    <tr>\n",
       "      <th>2</th>\n",
       "      <td>A</td>\n",
       "      <td>47</td>\n",
       "      <td>-6</td>\n",
       "      <td>-5</td>\n",
       "      <td>170.881</td>\n",
       "      <td>3.77425</td>\n",
       "      <td>35.883560</td>\n",
       "    </tr>\n",
       "    <tr>\n",
       "      <th>3</th>\n",
       "      <td>A</td>\n",
       "      <td>47</td>\n",
       "      <td>-6</td>\n",
       "      <td>-5</td>\n",
       "      <td>170.881</td>\n",
       "      <td>3.77425</td>\n",
       "      <td>35.870827</td>\n",
       "    </tr>\n",
       "    <tr>\n",
       "      <th>4</th>\n",
       "      <td>A</td>\n",
       "      <td>47</td>\n",
       "      <td>-6</td>\n",
       "      <td>-4</td>\n",
       "      <td>170.872</td>\n",
       "      <td>3.78868</td>\n",
       "      <td>59.355179</td>\n",
       "    </tr>\n",
       "    <tr>\n",
       "      <th>...</th>\n",
       "      <td>...</td>\n",
       "      <td>...</td>\n",
       "      <td>...</td>\n",
       "      <td>...</td>\n",
       "      <td>...</td>\n",
       "      <td>...</td>\n",
       "      <td>...</td>\n",
       "    </tr>\n",
       "    <tr>\n",
       "      <th>6079</th>\n",
       "      <td>B</td>\n",
       "      <td>63</td>\n",
       "      <td>6</td>\n",
       "      <td>2</td>\n",
       "      <td>171.009</td>\n",
       "      <td>3.97187</td>\n",
       "      <td>73.245651</td>\n",
       "    </tr>\n",
       "    <tr>\n",
       "      <th>6080</th>\n",
       "      <td>B</td>\n",
       "      <td>63</td>\n",
       "      <td>6</td>\n",
       "      <td>3</td>\n",
       "      <td>171.001</td>\n",
       "      <td>3.98630</td>\n",
       "      <td>60.073997</td>\n",
       "    </tr>\n",
       "    <tr>\n",
       "      <th>6081</th>\n",
       "      <td>B</td>\n",
       "      <td>63</td>\n",
       "      <td>6</td>\n",
       "      <td>4</td>\n",
       "      <td>170.992</td>\n",
       "      <td>4.00073</td>\n",
       "      <td>43.383308</td>\n",
       "    </tr>\n",
       "    <tr>\n",
       "      <th>6082</th>\n",
       "      <td>B</td>\n",
       "      <td>63</td>\n",
       "      <td>6</td>\n",
       "      <td>5</td>\n",
       "      <td>170.984</td>\n",
       "      <td>4.01517</td>\n",
       "      <td>42.593803</td>\n",
       "    </tr>\n",
       "    <tr>\n",
       "      <th>6083</th>\n",
       "      <td>B</td>\n",
       "      <td>63</td>\n",
       "      <td>6</td>\n",
       "      <td>6</td>\n",
       "      <td>170.976</td>\n",
       "      <td>4.02960</td>\n",
       "      <td>31.877693</td>\n",
       "    </tr>\n",
       "  </tbody>\n",
       "</table>\n",
       "<p>6084 rows × 7 columns</p>\n",
       "</div>"
      ],
      "text/plain": [
       "     detector  idx_E  i1  i2       ra      dec        arf\n",
       "0           A     47  -6  -6  170.889  3.75981  49.252083\n",
       "1           A     47  -6  -6  170.889  3.75981  49.233070\n",
       "2           A     47  -6  -5  170.881  3.77425  35.883560\n",
       "3           A     47  -6  -5  170.881  3.77425  35.870827\n",
       "4           A     47  -6  -4  170.872  3.78868  59.355179\n",
       "...       ...    ...  ..  ..      ...      ...        ...\n",
       "6079        B     63   6   2  171.009  3.97187  73.245651\n",
       "6080        B     63   6   3  171.001  3.98630  60.073997\n",
       "6081        B     63   6   4  170.992  4.00073  43.383308\n",
       "6082        B     63   6   5  170.984  4.01517  42.593803\n",
       "6083        B     63   6   6  170.976  4.02960  31.877693\n",
       "\n",
       "[6084 rows x 7 columns]"
      ]
     },
     "execution_count": 10,
     "metadata": {},
     "output_type": "execute_result"
    }
   ],
   "source": [
    "df_arf_m = load_arf_m(list_file_arf,bins_E,df_box,m,sigma_E)\n",
    "df_arf_m"
   ]
  },
  {
   "cell_type": "markdown",
   "metadata": {},
   "source": [
    "## Bin events"
   ]
  },
  {
   "cell_type": "code",
   "execution_count": 13,
   "metadata": {},
   "outputs": [
    {
     "data": {
      "text/html": [
       "<div>\n",
       "<style scoped>\n",
       "    .dataframe tbody tr th:only-of-type {\n",
       "        vertical-align: middle;\n",
       "    }\n",
       "\n",
       "    .dataframe tbody tr th {\n",
       "        vertical-align: top;\n",
       "    }\n",
       "\n",
       "    .dataframe thead th {\n",
       "        text-align: right;\n",
       "    }\n",
       "</style>\n",
       "<table border=\"1\" class=\"dataframe\">\n",
       "  <thead>\n",
       "    <tr style=\"text-align: right;\">\n",
       "      <th></th>\n",
       "      <th>detector</th>\n",
       "      <th>idx_t</th>\n",
       "      <th>idx_E</th>\n",
       "      <th>i1</th>\n",
       "      <th>i2</th>\n",
       "      <th>counts</th>\n",
       "    </tr>\n",
       "  </thead>\n",
       "  <tbody>\n",
       "    <tr>\n",
       "      <th>0</th>\n",
       "      <td>A</td>\n",
       "      <td>0</td>\n",
       "      <td>53</td>\n",
       "      <td>-3</td>\n",
       "      <td>2</td>\n",
       "      <td>1</td>\n",
       "    </tr>\n",
       "    <tr>\n",
       "      <th>1</th>\n",
       "      <td>A</td>\n",
       "      <td>0</td>\n",
       "      <td>58</td>\n",
       "      <td>6</td>\n",
       "      <td>6</td>\n",
       "      <td>1</td>\n",
       "    </tr>\n",
       "    <tr>\n",
       "      <th>2</th>\n",
       "      <td>A</td>\n",
       "      <td>1</td>\n",
       "      <td>46</td>\n",
       "      <td>-6</td>\n",
       "      <td>2</td>\n",
       "      <td>1</td>\n",
       "    </tr>\n",
       "    <tr>\n",
       "      <th>3</th>\n",
       "      <td>A</td>\n",
       "      <td>1</td>\n",
       "      <td>47</td>\n",
       "      <td>2</td>\n",
       "      <td>3</td>\n",
       "      <td>1</td>\n",
       "    </tr>\n",
       "    <tr>\n",
       "      <th>4</th>\n",
       "      <td>A</td>\n",
       "      <td>1</td>\n",
       "      <td>48</td>\n",
       "      <td>-3</td>\n",
       "      <td>3</td>\n",
       "      <td>1</td>\n",
       "    </tr>\n",
       "    <tr>\n",
       "      <th>...</th>\n",
       "      <td>...</td>\n",
       "      <td>...</td>\n",
       "      <td>...</td>\n",
       "      <td>...</td>\n",
       "      <td>...</td>\n",
       "      <td>...</td>\n",
       "    </tr>\n",
       "    <tr>\n",
       "      <th>159</th>\n",
       "      <td>B</td>\n",
       "      <td>9</td>\n",
       "      <td>47</td>\n",
       "      <td>1</td>\n",
       "      <td>5</td>\n",
       "      <td>1</td>\n",
       "    </tr>\n",
       "    <tr>\n",
       "      <th>160</th>\n",
       "      <td>B</td>\n",
       "      <td>9</td>\n",
       "      <td>48</td>\n",
       "      <td>-3</td>\n",
       "      <td>6</td>\n",
       "      <td>1</td>\n",
       "    </tr>\n",
       "    <tr>\n",
       "      <th>161</th>\n",
       "      <td>B</td>\n",
       "      <td>9</td>\n",
       "      <td>49</td>\n",
       "      <td>3</td>\n",
       "      <td>6</td>\n",
       "      <td>1</td>\n",
       "    </tr>\n",
       "    <tr>\n",
       "      <th>162</th>\n",
       "      <td>B</td>\n",
       "      <td>9</td>\n",
       "      <td>50</td>\n",
       "      <td>-5</td>\n",
       "      <td>-2</td>\n",
       "      <td>1</td>\n",
       "    </tr>\n",
       "    <tr>\n",
       "      <th>163</th>\n",
       "      <td>B</td>\n",
       "      <td>9</td>\n",
       "      <td>56</td>\n",
       "      <td>-5</td>\n",
       "      <td>-1</td>\n",
       "      <td>1</td>\n",
       "    </tr>\n",
       "  </tbody>\n",
       "</table>\n",
       "<p>164 rows × 6 columns</p>\n",
       "</div>"
      ],
      "text/plain": [
       "    detector  idx_t  idx_E  i1  i2  counts\n",
       "0          A      0     53  -3   2       1\n",
       "1          A      0     58   6   6       1\n",
       "2          A      1     46  -6   2       1\n",
       "3          A      1     47   2   3       1\n",
       "4          A      1     48  -3   3       1\n",
       "..       ...    ...    ...  ..  ..     ...\n",
       "159        B      9     47   1   5       1\n",
       "160        B      9     48  -3   6       1\n",
       "161        B      9     49   3   6       1\n",
       "162        B      9     50  -5  -2       1\n",
       "163        B      9     56  -5  -1       1\n",
       "\n",
       "[164 rows x 6 columns]"
      ]
     },
     "execution_count": 13,
     "metadata": {},
     "output_type": "execute_result"
    }
   ],
   "source": [
    "df_events_bin = binned_events(df_events,bins_t,bins_E,df_box,m,sigma_E)\n",
    "df_events_bin"
   ]
  },
  {
   "cell_type": "markdown",
   "metadata": {
    "toc-hr-collapsed": true,
    "toc-nb-collapsed": true
   },
   "source": [
    "# Plots"
   ]
  },
  {
   "cell_type": "markdown",
   "metadata": {
    "toc-hr-collapsed": true,
    "toc-nb-collapsed": true
   },
   "source": [
    "## Raw data"
   ]
  },
  {
   "cell_type": "code",
   "execution_count": 29,
   "metadata": {},
   "outputs": [
    {
     "data": {
      "image/png": "[encoded data removed]",
      "text/plain": [
       "<Figure size 1600x800 with 1 Axes>"
      ]
     },
     "metadata": {},
     "output_type": "display_data"
    }
   ],
   "source": [
    "fig, ax = plt.subplots(1,1,figsize=(16,8))\n",
    "for i_int in range(len(good_time_ints)):\n",
    "    ax.fill_between(x = good_time_ints[i_int], y1 = 2*[10**5],alpha=0.5)\n",
    "ax.hist(df_events['t'],bins=200,color='black',alpha=0.9,log='False');\n",
    "ax.set_xlabel('t [s]'); \n",
    "ax.set_yscale('linear')\n",
    "ax.set_ylim(0.5,250);"
   ]
  },
  {
   "cell_type": "code",
   "execution_count": 30,
   "metadata": {},
   "outputs": [
    {
     "data": {
      "text/plain": [
       "(0.0, 100.0)"
      ]
     },
     "execution_count": 30,
     "metadata": {},
     "output_type": "execute_result"
    },
    {
     "data": {
      "image/png": "[encoded data removed]",
      "text/plain": [
       "<Figure size 800x800 with 1 Axes>"
      ]
     },
     "metadata": {},
     "output_type": "display_data"
    }
   ],
   "source": [
    "fig, ax = plt.subplots(1,1,figsize=(8,8))\n",
    "ax.hist2d(df_events['t'],df_events['E'],bins=[100,200],norm=mp.colors.LogNorm());\n",
    "ax.set_xlabel('t [s]'); ax.set_ylabel('E [keV]');\n",
    "ax.set_ylim(0,100)"
   ]
  },
  {
   "cell_type": "code",
   "execution_count": null,
   "metadata": {},
   "outputs": [],
   "source": []
  }
 ],
 "metadata": {
  "kernelspec": {
   "display_name": "Python 3",
   "language": "python",
   "name": "python3"
  },
  "language_info": {
   "codemirror_mode": {
    "name": "ipython",
    "version": 3
   },
   "file_extension": ".py",
   "mimetype": "text/x-python",
   "name": "python",
   "nbconvert_exporter": "python",
   "pygments_lexer": "ipython3",
   "version": "3.8.3"
  }
 },
 "nbformat": 4,
 "nbformat_minor": 4
}
