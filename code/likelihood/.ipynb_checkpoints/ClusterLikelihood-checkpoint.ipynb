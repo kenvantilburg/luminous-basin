{
 "cells": [
  {
   "cell_type": "markdown",
   "metadata": {},
   "source": [
    "# Preamble"
   ]
  },
  {
   "cell_type": "code",
   "execution_count": 20,
   "metadata": {},
   "outputs": [],
   "source": [
    "import pandas as pd\n",
    "import matplotlib as mpl\n",
    "import os\n",
    "import numpy as np\n",
    "import sys\n",
    "import emcee"
   ]
  },
  {
   "cell_type": "code",
   "execution_count": 21,
   "metadata": {},
   "outputs": [],
   "source": [
    "# FOR THE CLUSTER\n",
    "#from Likelihood_Functions import *\n",
    "#HomeDir = '/home/srw9487/LuminousBasin/'\n",
    "#DataDir = HomeDir+'products_80610202001_orbit1_chu12_spatialARF/'\n",
    "#MockDataDir = HomeDir+'mock data/Event Lists/'\n",
    "\n",
    "#FOR TESTING\n",
    "from Likelihood_Functions_ShalmaCopy import *\n",
    "HomeDir = '/Users/shalm/Dropbox/LuminousBasin/code/'\n",
    "DataDir = HomeDir+'master/likelihood/products_80610202001_orbit1_chu12_spatialARF/'\n",
    "MockDataDir = HomeDir+'Shalma code/mock data/Event Lists/'\n",
    "MockResultsDir = '/Users/shalm/Dropbox/LuminousBasin/luminous-basin/mocks/results/'\n",
    "sys.path.insert(0, HomeDir)"
   ]
  },
  {
   "cell_type": "code",
   "execution_count": 22,
   "metadata": {},
   "outputs": [],
   "source": [
    "from tqdm import tqdm\n",
    "\n",
    "#plt.rcdefaults()\n",
    "#fontsize = 14\n",
    "#rcParams['font.family'] = 'sans-serif'\n",
    "#font_manager.findfont('serif', rebuild_if_missing=True)\n",
    "#rcParams.update({'font.size':fontsize})"
   ]
  },
  {
   "cell_type": "code",
   "execution_count": 23,
   "metadata": {},
   "outputs": [],
   "source": [
    "if not os.path.exists(MockDataDir):\n",
    "    print('%s doesnt exist!' %MockDataDir,flush=True)\n",
    "    sys.exit()"
   ]
  },
  {
   "cell_type": "markdown",
   "metadata": {},
   "source": [
    "# Parameters"
   ]
  },
  {
   "cell_type": "code",
   "execution_count": 24,
   "metadata": {},
   "outputs": [],
   "source": [
    "sigma_E = 0.166 # energy resolution\n",
    "width_E = 0.04 # energy bin width is 40 keV\n",
    "alpha_f = 170.66855149 #fiducial\n",
    "delta_f = 4.02092024"
   ]
  },
  {
   "cell_type": "code",
   "execution_count": 74,
   "metadata": {},
   "outputs": [
    {
     "data": {
      "text/plain": [
       "(368,)"
      ]
     },
     "execution_count": 74,
     "metadata": {},
     "output_type": "execute_result"
    }
   ],
   "source": [
    "m_list = np.arange(3.2,40.0,0.1)\n",
    "np.shape(m_list)"
   ]
  },
  {
   "cell_type": "code",
   "execution_count": 26,
   "metadata": {},
   "outputs": [
    {
     "name": "stdout",
     "output_type": "stream",
     "text": [
      "m =  7.300000000000004\n"
     ]
    }
   ],
   "source": [
    "# FOR CLUSTER\n",
    "#i_mock = sys.argv[1]\n",
    "#i_m = sys.argv[2]\n",
    "#m = m_list[i_m]\n",
    "\n",
    "# FOR TESTING\n",
    "i_mock = 6\n",
    "i_m = 43\n",
    "m = m_list[i_m]\n",
    "print('m = ',m)"
   ]
  },
  {
   "cell_type": "code",
   "execution_count": 27,
   "metadata": {},
   "outputs": [],
   "source": [
    "# FOR REAL DATA:\n",
    "#good_time_ints = [\n",
    "#(  3.37603080e+08,   3.37603330e+08),\n",
    "#(  3.37603330e+08,   3.37603380e+08),\n",
    "#(  3.37603380e+08,   3.37603380e+08),\n",
    "#(  3.37603580e+08,   3.37603581e+08),\n",
    "#(  3.37603630e+08,   3.37605080e+08),\n",
    "#(  3.37605081e+08,   3.37605230e+08)]\n",
    "#duration = np.max(good_time_ints)- np.min(good_time_ints)\n",
    "# livetime = ????\n",
    "\n",
    "# FOR MOCK DATA: \n",
    "good_time_ints = np.asarray([\n",
    "    [3.37603341e+08, 3.376033795e+08],\n",
    "    [3.376036305e+08, 3.3760522972e+08]\n",
    "])\n",
    "duration = np.max(good_time_ints)- np.min(good_time_ints)\n",
    "exposure = ((good_time_ints[0,1]-good_time_ints[0,0]) + (good_time_ints[1,1]-good_time_ints[1,0]))\n",
    "livetime = np.asarray([1501.16599845754, 1481.86081041239])/exposure # effective fractional livetime of A and B"
   ]
  },
  {
   "cell_type": "code",
   "execution_count": 28,
   "metadata": {},
   "outputs": [],
   "source": [
    "# time bins\n",
    "N_bins_t = 10\n",
    "bins_t = np.linspace(good_time_ints[0][0], good_time_ints[-1][1], N_bins_t+1)\n",
    "\n",
    "# energy bins\n",
    "bins_E = np.arange(1.6,200.01,width_E)"
   ]
  },
  {
   "cell_type": "code",
   "execution_count": 29,
   "metadata": {},
   "outputs": [],
   "source": [
    "file_box_centers = DataDir+'box_centers.txt'\n",
    "list_file_arf = [DataDir+'arfs/'+file for file in listdir(DataDir+'arfs/')]\n",
    "df_box = load_box(file_box_centers)\n",
    "df_arf = load_arf(list_file_arf,bins_E,df_box)"
   ]
  },
  {
   "cell_type": "code",
   "execution_count": 30,
   "metadata": {},
   "outputs": [],
   "source": [
    "list_file_events = [MockDataDir+'%s_A.csv' %i_mock, MockDataDir+'%s_B.csv' %i_mock]"
   ]
  },
  {
   "cell_type": "code",
   "execution_count": 31,
   "metadata": {},
   "outputs": [
    {
     "name": "stdout",
     "output_type": "stream",
     "text": [
      "/Users/shalm/Dropbox/LuminousBasin/luminous-basin/mocks/results/results_k10_6_fid.csv\n"
     ]
    }
   ],
   "source": [
    "mock_results_dir = MockResultsDir+'results_k10_%s_fid.csv'%i_mock\n",
    "print(mock_results_dir)"
   ]
  },
  {
   "cell_type": "markdown",
   "metadata": {},
   "source": [
    "# Likelihood"
   ]
  },
  {
   "cell_type": "code",
   "execution_count": 32,
   "metadata": {},
   "outputs": [
    {
     "name": "stderr",
     "output_type": "stream",
     "text": [
      "C:\\Users\\shalm\\Anaconda3\\lib\\site-packages\\pandas\\core\\frame.py:7123: FutureWarning: Sorting because non-concatenation axis is not aligned. A future version\n",
      "of pandas will change to not sort by default.\n",
      "\n",
      "To accept the future behavior, pass 'sort=False'.\n",
      "\n",
      "To retain the current behavior and silence the warning, pass 'sort=True'.\n",
      "\n",
      "  sort=sort,\n"
     ]
    }
   ],
   "source": [
    "df_data = load_data(m,sigma_E,df_box,df_arf,good_time_ints,livetime,bins_t,bins_E,list_file_events,file_box_centers,list_file_arf)"
   ]
  },
  {
   "cell_type": "code",
   "execution_count": 33,
   "metadata": {},
   "outputs": [
    {
     "data": {
      "text/html": [
       "<div>\n",
       "<style scoped>\n",
       "    .dataframe tbody tr th:only-of-type {\n",
       "        vertical-align: middle;\n",
       "    }\n",
       "\n",
       "    .dataframe tbody tr th {\n",
       "        vertical-align: top;\n",
       "    }\n",
       "\n",
       "    .dataframe thead th {\n",
       "        text-align: right;\n",
       "    }\n",
       "</style>\n",
       "<table border=\"1\" class=\"dataframe\">\n",
       "  <thead>\n",
       "    <tr style=\"text-align: right;\">\n",
       "      <th></th>\n",
       "      <th>detector</th>\n",
       "      <th>idx_t</th>\n",
       "      <th>idx_E</th>\n",
       "      <th>i1</th>\n",
       "      <th>i2</th>\n",
       "      <th>t</th>\n",
       "      <th>E</th>\n",
       "      <th>ra</th>\n",
       "      <th>dec</th>\n",
       "      <th>exp</th>\n",
       "      <th>arf</th>\n",
       "      <th>Omega</th>\n",
       "      <th>counts</th>\n",
       "    </tr>\n",
       "  </thead>\n",
       "  <tbody>\n",
       "    <tr>\n",
       "      <td>0</td>\n",
       "      <td>A</td>\n",
       "      <td>0</td>\n",
       "      <td>44</td>\n",
       "      <td>-6</td>\n",
       "      <td>-6</td>\n",
       "      <td>3.376033e+08</td>\n",
       "      <td>3.36</td>\n",
       "      <td>170.889</td>\n",
       "      <td>3.75981</td>\n",
       "      <td>35.289849</td>\n",
       "      <td>43.372936</td>\n",
       "      <td>1.0</td>\n",
       "      <td>0</td>\n",
       "    </tr>\n",
       "    <tr>\n",
       "      <td>1</td>\n",
       "      <td>A</td>\n",
       "      <td>0</td>\n",
       "      <td>44</td>\n",
       "      <td>-6</td>\n",
       "      <td>-5</td>\n",
       "      <td>3.376033e+08</td>\n",
       "      <td>3.36</td>\n",
       "      <td>170.881</td>\n",
       "      <td>3.77425</td>\n",
       "      <td>35.289849</td>\n",
       "      <td>31.654016</td>\n",
       "      <td>1.0</td>\n",
       "      <td>0</td>\n",
       "    </tr>\n",
       "    <tr>\n",
       "      <td>2</td>\n",
       "      <td>A</td>\n",
       "      <td>0</td>\n",
       "      <td>44</td>\n",
       "      <td>-6</td>\n",
       "      <td>-4</td>\n",
       "      <td>3.376033e+08</td>\n",
       "      <td>3.36</td>\n",
       "      <td>170.872</td>\n",
       "      <td>3.78868</td>\n",
       "      <td>35.289849</td>\n",
       "      <td>52.484219</td>\n",
       "      <td>1.0</td>\n",
       "      <td>0</td>\n",
       "    </tr>\n",
       "    <tr>\n",
       "      <td>3</td>\n",
       "      <td>A</td>\n",
       "      <td>0</td>\n",
       "      <td>44</td>\n",
       "      <td>-6</td>\n",
       "      <td>-3</td>\n",
       "      <td>3.376033e+08</td>\n",
       "      <td>3.36</td>\n",
       "      <td>170.864</td>\n",
       "      <td>3.80311</td>\n",
       "      <td>35.289849</td>\n",
       "      <td>51.703667</td>\n",
       "      <td>1.0</td>\n",
       "      <td>0</td>\n",
       "    </tr>\n",
       "    <tr>\n",
       "      <td>4</td>\n",
       "      <td>A</td>\n",
       "      <td>0</td>\n",
       "      <td>44</td>\n",
       "      <td>-6</td>\n",
       "      <td>-2</td>\n",
       "      <td>3.376033e+08</td>\n",
       "      <td>3.36</td>\n",
       "      <td>170.856</td>\n",
       "      <td>3.81755</td>\n",
       "      <td>35.289849</td>\n",
       "      <td>90.566414</td>\n",
       "      <td>1.0</td>\n",
       "      <td>0</td>\n",
       "    </tr>\n",
       "    <tr>\n",
       "      <td>...</td>\n",
       "      <td>...</td>\n",
       "      <td>...</td>\n",
       "      <td>...</td>\n",
       "      <td>...</td>\n",
       "      <td>...</td>\n",
       "      <td>...</td>\n",
       "      <td>...</td>\n",
       "      <td>...</td>\n",
       "      <td>...</td>\n",
       "      <td>...</td>\n",
       "      <td>...</td>\n",
       "      <td>...</td>\n",
       "      <td>...</td>\n",
       "    </tr>\n",
       "    <tr>\n",
       "      <td>57455</td>\n",
       "      <td>B</td>\n",
       "      <td>9</td>\n",
       "      <td>59</td>\n",
       "      <td>6</td>\n",
       "      <td>4</td>\n",
       "      <td>3.376050e+08</td>\n",
       "      <td>3.96</td>\n",
       "      <td>170.992</td>\n",
       "      <td>4.00073</td>\n",
       "      <td>170.897354</td>\n",
       "      <td>39.214531</td>\n",
       "      <td>1.0</td>\n",
       "      <td>0</td>\n",
       "    </tr>\n",
       "    <tr>\n",
       "      <td>57456</td>\n",
       "      <td>B</td>\n",
       "      <td>9</td>\n",
       "      <td>59</td>\n",
       "      <td>6</td>\n",
       "      <td>5</td>\n",
       "      <td>3.376050e+08</td>\n",
       "      <td>3.96</td>\n",
       "      <td>170.984</td>\n",
       "      <td>4.01517</td>\n",
       "      <td>170.897354</td>\n",
       "      <td>37.856091</td>\n",
       "      <td>1.0</td>\n",
       "      <td>1</td>\n",
       "    </tr>\n",
       "    <tr>\n",
       "      <td>57457</td>\n",
       "      <td>B</td>\n",
       "      <td>9</td>\n",
       "      <td>59</td>\n",
       "      <td>6</td>\n",
       "      <td>5</td>\n",
       "      <td>3.376050e+08</td>\n",
       "      <td>3.96</td>\n",
       "      <td>170.984</td>\n",
       "      <td>4.01517</td>\n",
       "      <td>170.897354</td>\n",
       "      <td>38.478428</td>\n",
       "      <td>1.0</td>\n",
       "      <td>0</td>\n",
       "    </tr>\n",
       "    <tr>\n",
       "      <td>57458</td>\n",
       "      <td>B</td>\n",
       "      <td>9</td>\n",
       "      <td>59</td>\n",
       "      <td>6</td>\n",
       "      <td>6</td>\n",
       "      <td>3.376050e+08</td>\n",
       "      <td>3.96</td>\n",
       "      <td>170.976</td>\n",
       "      <td>4.02960</td>\n",
       "      <td>170.897354</td>\n",
       "      <td>28.309372</td>\n",
       "      <td>1.0</td>\n",
       "      <td>1</td>\n",
       "    </tr>\n",
       "    <tr>\n",
       "      <td>57459</td>\n",
       "      <td>B</td>\n",
       "      <td>9</td>\n",
       "      <td>59</td>\n",
       "      <td>6</td>\n",
       "      <td>6</td>\n",
       "      <td>3.376050e+08</td>\n",
       "      <td>3.96</td>\n",
       "      <td>170.976</td>\n",
       "      <td>4.02960</td>\n",
       "      <td>170.897354</td>\n",
       "      <td>28.779934</td>\n",
       "      <td>1.0</td>\n",
       "      <td>0</td>\n",
       "    </tr>\n",
       "  </tbody>\n",
       "</table>\n",
       "<p>57460 rows × 13 columns</p>\n",
       "</div>"
      ],
      "text/plain": [
       "      detector  idx_t  idx_E  i1  i2             t     E       ra      dec  \\\n",
       "0            A      0     44  -6  -6  3.376033e+08  3.36  170.889  3.75981   \n",
       "1            A      0     44  -6  -5  3.376033e+08  3.36  170.881  3.77425   \n",
       "2            A      0     44  -6  -4  3.376033e+08  3.36  170.872  3.78868   \n",
       "3            A      0     44  -6  -3  3.376033e+08  3.36  170.864  3.80311   \n",
       "4            A      0     44  -6  -2  3.376033e+08  3.36  170.856  3.81755   \n",
       "...        ...    ...    ...  ..  ..           ...   ...      ...      ...   \n",
       "57455        B      9     59   6   4  3.376050e+08  3.96  170.992  4.00073   \n",
       "57456        B      9     59   6   5  3.376050e+08  3.96  170.984  4.01517   \n",
       "57457        B      9     59   6   5  3.376050e+08  3.96  170.984  4.01517   \n",
       "57458        B      9     59   6   6  3.376050e+08  3.96  170.976  4.02960   \n",
       "57459        B      9     59   6   6  3.376050e+08  3.96  170.976  4.02960   \n",
       "\n",
       "              exp        arf  Omega  counts  \n",
       "0       35.289849  43.372936    1.0       0  \n",
       "1       35.289849  31.654016    1.0       0  \n",
       "2       35.289849  52.484219    1.0       0  \n",
       "3       35.289849  51.703667    1.0       0  \n",
       "4       35.289849  90.566414    1.0       0  \n",
       "...           ...        ...    ...     ...  \n",
       "57455  170.897354  39.214531    1.0       0  \n",
       "57456  170.897354  37.856091    1.0       1  \n",
       "57457  170.897354  38.478428    1.0       0  \n",
       "57458  170.897354  28.309372    1.0       1  \n",
       "57459  170.897354  28.779934    1.0       0  \n",
       "\n",
       "[57460 rows x 13 columns]"
      ]
     },
     "execution_count": 33,
     "metadata": {},
     "output_type": "execute_result"
    }
   ],
   "source": [
    "df_data"
   ]
  },
  {
   "cell_type": "code",
   "execution_count": 34,
   "metadata": {},
   "outputs": [],
   "source": [
    "t = df_data['t'].to_numpy()\n",
    "E = df_data['E'].to_numpy()\n",
    "ra = df_data['ra'].to_numpy()\n",
    "dec = df_data['dec'].to_numpy()\n",
    "eps = df_data['exp'].to_numpy() * df_data['arf'].to_numpy() * df_data['Omega'].to_numpy() * width_E\n",
    "counts = df_data['counts'].to_numpy()"
   ]
  },
  {
   "cell_type": "code",
   "execution_count": 35,
   "metadata": {},
   "outputs": [
    {
     "data": {
      "text/plain": [
       "0"
      ]
     },
     "execution_count": 35,
     "metadata": {},
     "output_type": "execute_result"
    }
   ],
   "source": [
    "min(counts)"
   ]
  },
  {
   "cell_type": "code",
   "execution_count": 36,
   "metadata": {},
   "outputs": [
    {
     "data": {
      "text/plain": [
       "223"
      ]
     },
     "execution_count": 36,
     "metadata": {},
     "output_type": "execute_result"
    }
   ],
   "source": [
    "sum(counts) "
   ]
  },
  {
   "cell_type": "code",
   "execution_count": 37,
   "metadata": {},
   "outputs": [
    {
     "name": "stdout",
     "output_type": "stream",
     "text": [
      "9.903423757415791e-06\n"
     ]
    }
   ],
   "source": [
    "S0_guess = np.mean(counts/eps)\n",
    "print(S0_guess)\n",
    "log_S0_guess = np.log10(S0_guess)"
   ]
  },
  {
   "cell_type": "markdown",
   "metadata": {},
   "source": [
    "### Gridding for Best Fit"
   ]
  },
  {
   "cell_type": "code",
   "execution_count": 19,
   "metadata": {},
   "outputs": [],
   "source": [
    "n_S0 = S0_guess\n",
    "S0_list_pos = [S0_guess]\n",
    "n = 1\n",
    "while n_S0 < S0_guess*10:\n",
    "    #log_S0 = log_S0_guess + n*np.log10(1.01)\n",
    "    n_S0 = S0_guess*(1.01**n)\n",
    "    S0_list_pos.append(n_S0)\n",
    "    n += 1\n",
    "S0_list_pos = np.asarray(S0_list_pos)"
   ]
  },
  {
   "cell_type": "code",
   "execution_count": 20,
   "metadata": {},
   "outputs": [
    {
     "data": {
      "text/plain": [
       "233"
      ]
     },
     "execution_count": 20,
     "metadata": {},
     "output_type": "execute_result"
    }
   ],
   "source": [
    "len(S0_list_pos)"
   ]
  },
  {
   "cell_type": "code",
   "execution_count": 21,
   "metadata": {},
   "outputs": [],
   "source": [
    "T0_list = np.linspace(0.1,10,20)\n",
    "S0_list = np.concatenate((np.flip(-S0_list_pos),[0],S0_list_pos),axis=0)\n",
    "B0_list = np.logspace(log_S0_guess-2,log_S0_guess+2,50)"
   ]
  },
  {
   "cell_type": "code",
   "execution_count": 26,
   "metadata": {},
   "outputs": [
    {
     "ename": "KeyboardInterrupt",
     "evalue": "",
     "output_type": "error",
     "traceback": [
      "\u001b[1;31m---------------------------------------------------------------------------\u001b[0m",
      "\u001b[1;31mKeyboardInterrupt\u001b[0m                         Traceback (most recent call last)",
      "\u001b[1;32m<ipython-input-26-fe1ea30fe3d3>\u001b[0m in \u001b[0;36m<module>\u001b[1;34m\u001b[0m\n\u001b[1;32m----> 1\u001b[1;33m \u001b[0mB0_optimum\u001b[0m\u001b[1;33m,\u001b[0m\u001b[0mT0_optimum\u001b[0m\u001b[1;33m,\u001b[0m\u001b[0mLL_optimum\u001b[0m\u001b[1;33m,\u001b[0m\u001b[0mLL_grid\u001b[0m \u001b[1;33m=\u001b[0m \u001b[0mLikelihood_optimize\u001b[0m\u001b[1;33m(\u001b[0m\u001b[0mcounts\u001b[0m\u001b[1;33m,\u001b[0m\u001b[0mm\u001b[0m\u001b[1;33m,\u001b[0m\u001b[0mB0_list\u001b[0m\u001b[1;33m,\u001b[0m\u001b[0mT0_list\u001b[0m\u001b[1;33m,\u001b[0m\u001b[0mS0_list\u001b[0m\u001b[1;33m,\u001b[0m\u001b[0meps\u001b[0m\u001b[1;33m,\u001b[0m\u001b[0mE\u001b[0m\u001b[1;33m,\u001b[0m\u001b[0mra\u001b[0m\u001b[1;33m,\u001b[0m\u001b[0mdec\u001b[0m\u001b[1;33m,\u001b[0m\u001b[0mt\u001b[0m\u001b[1;33m,\u001b[0m\u001b[0mduration\u001b[0m\u001b[1;33m)\u001b[0m\u001b[1;33m\u001b[0m\u001b[1;33m\u001b[0m\u001b[0m\n\u001b[0m",
      "\u001b[1;32m~\\Dropbox\\LuminousBasin\\code\\Shalma code\\Likelihood_Functions_ShalmaCopy.py\u001b[0m in \u001b[0;36mLikelihood_optimize\u001b[1;34m(counts, m, B0_list, T0_list, S0_list, eps, E, ra, dec, t, duration, alpha0, delta0)\u001b[0m\n\u001b[0;32m    266\u001b[0m             \u001b[1;32mfor\u001b[0m \u001b[0mj\u001b[0m \u001b[1;32min\u001b[0m \u001b[0mrange\u001b[0m\u001b[1;33m(\u001b[0m\u001b[0mlen\u001b[0m\u001b[1;33m(\u001b[0m\u001b[0mT0_list\u001b[0m\u001b[1;33m)\u001b[0m\u001b[1;33m)\u001b[0m\u001b[1;33m:\u001b[0m\u001b[1;33m\u001b[0m\u001b[1;33m\u001b[0m\u001b[0m\n\u001b[0;32m    267\u001b[0m                 \u001b[0mT0\u001b[0m \u001b[1;33m=\u001b[0m \u001b[0mT0_list\u001b[0m\u001b[1;33m[\u001b[0m\u001b[0mj\u001b[0m\u001b[1;33m]\u001b[0m\u001b[1;33m\u001b[0m\u001b[1;33m\u001b[0m\u001b[0m\n\u001b[1;32m--> 268\u001b[1;33m                 \u001b[0mmu_bkgd_slope\u001b[0m \u001b[1;33m=\u001b[0m \u001b[0mnp\u001b[0m\u001b[1;33m.\u001b[0m\u001b[0mexp\u001b[0m\u001b[1;33m(\u001b[0m\u001b[1;33m-\u001b[0m\u001b[1;33m(\u001b[0m\u001b[0mE\u001b[0m\u001b[1;33m-\u001b[0m\u001b[0mm\u001b[0m\u001b[1;33m/\u001b[0m\u001b[1;36m2\u001b[0m\u001b[1;33m)\u001b[0m\u001b[1;33m/\u001b[0m\u001b[0mT0\u001b[0m\u001b[1;33m)\u001b[0m\u001b[1;33m\u001b[0m\u001b[1;33m\u001b[0m\u001b[0m\n\u001b[0m\u001b[0;32m    269\u001b[0m                 \u001b[1;32mif\u001b[0m \u001b[0mS0\u001b[0m \u001b[1;33m<\u001b[0m \u001b[1;36m0\u001b[0m\u001b[1;33m:\u001b[0m\u001b[1;33m\u001b[0m\u001b[1;33m\u001b[0m\u001b[0m\n\u001b[0;32m    270\u001b[0m                     \u001b[0mB0_min\u001b[0m \u001b[1;33m=\u001b[0m \u001b[0mB0_lower_limit\u001b[0m\u001b[1;33m(\u001b[0m\u001b[0mm\u001b[0m\u001b[1;33m,\u001b[0m\u001b[0mT0\u001b[0m\u001b[1;33m,\u001b[0m\u001b[0mS0\u001b[0m\u001b[1;33m)\u001b[0m\u001b[1;33m\u001b[0m\u001b[1;33m\u001b[0m\u001b[0m\n",
      "\u001b[1;31mKeyboardInterrupt\u001b[0m: "
     ]
    }
   ],
   "source": [
    "B0_optimum,T0_optimum,LL_optimum,LL_grid = Likelihood_optimize(counts,m,B0_list,T0_list,S0_list,eps,E,ra,dec,t,duration)"
   ]
  },
  {
   "cell_type": "code",
   "execution_count": null,
   "metadata": {},
   "outputs": [],
   "source": [
    "%timeit Likelihood_optimize(counts,m,B0_list,T0_list,[10**(-6)],eps,E,ra,dec,t,duration)"
   ]
  },
  {
   "cell_type": "code",
   "execution_count": 23,
   "metadata": {},
   "outputs": [
    {
     "ename": "NameError",
     "evalue": "name 'LL_optimum' is not defined",
     "output_type": "error",
     "traceback": [
      "\u001b[1;31m---------------------------------------------------------------------------\u001b[0m",
      "\u001b[1;31mNameError\u001b[0m                                 Traceback (most recent call last)",
      "\u001b[1;32m<ipython-input-23-4e60f6b24842>\u001b[0m in \u001b[0;36m<module>\u001b[1;34m\u001b[0m\n\u001b[1;32m----> 1\u001b[1;33m \u001b[0mtest\u001b[0m \u001b[1;33m=\u001b[0m\u001b[0mnp\u001b[0m\u001b[1;33m.\u001b[0m\u001b[0mlog\u001b[0m\u001b[1;33m(\u001b[0m\u001b[0mLL_optimum\u001b[0m\u001b[1;33m[\u001b[0m\u001b[1;36m30\u001b[0m\u001b[1;33m]\u001b[0m\u001b[1;33m)\u001b[0m\u001b[1;33m+\u001b[0m\u001b[0mnp\u001b[0m\u001b[1;33m.\u001b[0m\u001b[0mlog\u001b[0m\u001b[1;33m(\u001b[0m\u001b[1;36m0.1\u001b[0m\u001b[1;33m)\u001b[0m\u001b[1;33m\u001b[0m\u001b[1;33m\u001b[0m\u001b[0m\n\u001b[0m\u001b[0;32m      2\u001b[0m \u001b[0mtest\u001b[0m\u001b[1;33m\u001b[0m\u001b[1;33m\u001b[0m\u001b[0m\n",
      "\u001b[1;31mNameError\u001b[0m: name 'LL_optimum' is not defined"
     ]
    }
   ],
   "source": [
    "test =np.log(LL_optimum[30])+np.log(0.1)\n",
    "test"
   ]
  },
  {
   "cell_type": "code",
   "execution_count": 24,
   "metadata": {},
   "outputs": [
    {
     "ename": "NameError",
     "evalue": "name 'LL_optimum' is not defined",
     "output_type": "error",
     "traceback": [
      "\u001b[1;31m---------------------------------------------------------------------------\u001b[0m",
      "\u001b[1;31mNameError\u001b[0m                                 Traceback (most recent call last)",
      "\u001b[1;32m<ipython-input-24-013aeccaf889>\u001b[0m in \u001b[0;36m<module>\u001b[1;34m\u001b[0m\n\u001b[1;32m----> 1\u001b[1;33m \u001b[0mn\u001b[0m \u001b[1;33m=\u001b[0m \u001b[0mnp\u001b[0m\u001b[1;33m.\u001b[0m\u001b[0margmin\u001b[0m\u001b[1;33m(\u001b[0m\u001b[0mLL_optimum\u001b[0m\u001b[1;33m-\u001b[0m\u001b[0mtest\u001b[0m\u001b[1;33m)\u001b[0m\u001b[1;33m\u001b[0m\u001b[1;33m\u001b[0m\u001b[0m\n\u001b[0m\u001b[0;32m      2\u001b[0m \u001b[0mprint\u001b[0m\u001b[1;33m(\u001b[0m\u001b[0mn\u001b[0m\u001b[1;33m)\u001b[0m\u001b[1;33m\u001b[0m\u001b[1;33m\u001b[0m\u001b[0m\n\u001b[0;32m      3\u001b[0m \u001b[0mprint\u001b[0m\u001b[1;33m(\u001b[0m\u001b[0mLL_optimum\u001b[0m\u001b[1;33m[\u001b[0m\u001b[0mn\u001b[0m\u001b[1;33m]\u001b[0m\u001b[1;33m)\u001b[0m\u001b[1;33m\u001b[0m\u001b[1;33m\u001b[0m\u001b[0m\n\u001b[0;32m      4\u001b[0m \u001b[0mOLD_S0_list\u001b[0m \u001b[1;33m=\u001b[0m \u001b[0mnp\u001b[0m\u001b[1;33m.\u001b[0m\u001b[0mconcatenate\u001b[0m\u001b[1;33m(\u001b[0m\u001b[1;33m(\u001b[0m\u001b[0mnp\u001b[0m\u001b[1;33m.\u001b[0m\u001b[0mflip\u001b[0m\u001b[1;33m(\u001b[0m\u001b[1;33m-\u001b[0m\u001b[0mnp\u001b[0m\u001b[1;33m.\u001b[0m\u001b[0mlogspace\u001b[0m\u001b[1;33m(\u001b[0m\u001b[0mlog_S0_guess\u001b[0m\u001b[1;33m-\u001b[0m\u001b[1;36m3\u001b[0m\u001b[1;33m,\u001b[0m\u001b[0mlog_S0_guess\u001b[0m\u001b[1;33m+\u001b[0m\u001b[1;36m3\u001b[0m\u001b[1;33m,\u001b[0m\u001b[1;36m30\u001b[0m\u001b[1;33m)\u001b[0m\u001b[1;33m)\u001b[0m\u001b[1;33m,\u001b[0m\u001b[1;33m[\u001b[0m\u001b[1;36m0\u001b[0m\u001b[1;33m]\u001b[0m\u001b[1;33m,\u001b[0m\u001b[0mnp\u001b[0m\u001b[1;33m.\u001b[0m\u001b[0mlogspace\u001b[0m\u001b[1;33m(\u001b[0m\u001b[0mlog_S0_guess\u001b[0m\u001b[1;33m-\u001b[0m\u001b[1;36m3\u001b[0m\u001b[1;33m,\u001b[0m\u001b[0mlog_S0_guess\u001b[0m\u001b[1;33m+\u001b[0m\u001b[1;36m3\u001b[0m\u001b[1;33m,\u001b[0m\u001b[1;36m30\u001b[0m\u001b[1;33m)\u001b[0m\u001b[1;33m)\u001b[0m\u001b[1;33m,\u001b[0m\u001b[0maxis\u001b[0m\u001b[1;33m=\u001b[0m\u001b[1;36m0\u001b[0m\u001b[1;33m)\u001b[0m\u001b[1;33m\u001b[0m\u001b[1;33m\u001b[0m\u001b[0m\n\u001b[0;32m      5\u001b[0m \u001b[0mprint\u001b[0m\u001b[1;33m(\u001b[0m\u001b[0mOLD_S0_list\u001b[0m\u001b[1;33m[\u001b[0m\u001b[0mn\u001b[0m\u001b[1;33m]\u001b[0m\u001b[1;33m)\u001b[0m\u001b[1;33m\u001b[0m\u001b[1;33m\u001b[0m\u001b[0m\n",
      "\u001b[1;31mNameError\u001b[0m: name 'LL_optimum' is not defined"
     ]
    }
   ],
   "source": [
    "n = np.argmin(LL_optimum-test)\n",
    "print(n)\n",
    "print(LL_optimum[n])\n",
    "OLD_S0_list = np.concatenate((np.flip(-np.logspace(log_S0_guess-3,log_S0_guess+3,30)),[0],np.logspace(log_S0_guess-3,log_S0_guess+3,30)),axis=0)\n",
    "print(OLD_S0_list[n])"
   ]
  },
  {
   "cell_type": "code",
   "execution_count": 25,
   "metadata": {},
   "outputs": [
    {
     "ename": "NameError",
     "evalue": "name 'LL_optimum' is not defined",
     "output_type": "error",
     "traceback": [
      "\u001b[1;31m---------------------------------------------------------------------------\u001b[0m",
      "\u001b[1;31mNameError\u001b[0m                                 Traceback (most recent call last)",
      "\u001b[1;32m<ipython-input-25-e94567ddc5e7>\u001b[0m in \u001b[0;36m<module>\u001b[1;34m\u001b[0m\n\u001b[1;32m----> 1\u001b[1;33m \u001b[0mLL_star\u001b[0m \u001b[1;33m=\u001b[0m \u001b[0mLL_optimum\u001b[0m\u001b[1;33m[\u001b[0m\u001b[0mn\u001b[0m\u001b[1;33m]\u001b[0m\u001b[1;33m\u001b[0m\u001b[1;33m\u001b[0m\u001b[0m\n\u001b[0m\u001b[0;32m      2\u001b[0m \u001b[0mB0_star\u001b[0m \u001b[1;33m=\u001b[0m \u001b[0mB0_optimum\u001b[0m\u001b[1;33m[\u001b[0m\u001b[0mn\u001b[0m\u001b[1;33m]\u001b[0m\u001b[1;33m\u001b[0m\u001b[1;33m\u001b[0m\u001b[0m\n\u001b[0;32m      3\u001b[0m \u001b[0mT0_star\u001b[0m \u001b[1;33m=\u001b[0m \u001b[0mT0_optimum\u001b[0m\u001b[1;33m[\u001b[0m\u001b[0mn\u001b[0m\u001b[1;33m]\u001b[0m\u001b[1;33m\u001b[0m\u001b[1;33m\u001b[0m\u001b[0m\n\u001b[0;32m      4\u001b[0m \u001b[0mS0_star\u001b[0m \u001b[1;33m=\u001b[0m \u001b[0mS0_list\u001b[0m\u001b[1;33m[\u001b[0m\u001b[0mn\u001b[0m\u001b[1;33m]\u001b[0m\u001b[1;33m\u001b[0m\u001b[1;33m\u001b[0m\u001b[0m\n",
      "\u001b[1;31mNameError\u001b[0m: name 'LL_optimum' is not defined"
     ]
    }
   ],
   "source": [
    "LL_star = LL_optimum[n]\n",
    "B0_star = B0_optimum[n]\n",
    "T0_star = T0_optimum[n]\n",
    "S0_star = S0_list[n]"
   ]
  },
  {
   "cell_type": "code",
   "execution_count": null,
   "metadata": {},
   "outputs": [],
   "source": [
    "print('n = ',n)\n",
    "print('B0_star = ',B0_star)\n",
    "print('T0_star = ',T0_star)\n",
    "print('S0_star = ',S0_star)"
   ]
  },
  {
   "cell_type": "code",
   "execution_count": null,
   "metadata": {},
   "outputs": [],
   "source": [
    "sig1p = np.argmin(LL-(LL[n]+1/2))\n",
    "sig1m = np.argmin(LL-(LL[n]-1/2))\n",
    "sig2p = np.argmin(LL-(LL[n]+2))\n",
    "sig2m = np.argmin(LL-(LL[n]-2))\n",
    "sig3p = np.argmin(LL-(LL[n]+9/2))\n",
    "sig3m = np.argmin(LL-(LL[n]-9/2))"
   ]
  },
  {
   "cell_type": "markdown",
   "metadata": {},
   "source": [
    "### MCMC for marginalization"
   ]
  },
  {
   "cell_type": "code",
   "execution_count": 38,
   "metadata": {},
   "outputs": [
    {
     "data": {
      "text/html": [
       "<div>\n",
       "<style scoped>\n",
       "    .dataframe tbody tr th:only-of-type {\n",
       "        vertical-align: middle;\n",
       "    }\n",
       "\n",
       "    .dataframe tbody tr th {\n",
       "        vertical-align: top;\n",
       "    }\n",
       "\n",
       "    .dataframe thead th {\n",
       "        text-align: right;\n",
       "    }\n",
       "</style>\n",
       "<table border=\"1\" class=\"dataframe\">\n",
       "  <thead>\n",
       "    <tr style=\"text-align: right;\">\n",
       "      <th></th>\n",
       "      <th>m</th>\n",
       "      <th>ra_sun_0</th>\n",
       "      <th>dec_sun_0</th>\n",
       "      <th>rho_0</th>\n",
       "      <th>N_data</th>\n",
       "      <th>N_sig_lim_poisson</th>\n",
       "      <th>S0_sig_lim_poisson</th>\n",
       "      <th>N_sig_lim_yellin</th>\n",
       "      <th>S0_sig_lim_yellin</th>\n",
       "    </tr>\n",
       "  </thead>\n",
       "  <tbody>\n",
       "    <tr>\n",
       "      <td>0</td>\n",
       "      <td>3.2</td>\n",
       "      <td>2.978728</td>\n",
       "      <td>0.070178</td>\n",
       "      <td>295.275973</td>\n",
       "      <td>12403</td>\n",
       "      <td>12546.453611</td>\n",
       "      <td>42.490601</td>\n",
       "      <td>7542.668376</td>\n",
       "      <td>25.544470</td>\n",
       "    </tr>\n",
       "    <tr>\n",
       "      <td>1</td>\n",
       "      <td>3.3</td>\n",
       "      <td>2.978728</td>\n",
       "      <td>0.070178</td>\n",
       "      <td>397.274484</td>\n",
       "      <td>13377</td>\n",
       "      <td>13525.748618</td>\n",
       "      <td>34.046356</td>\n",
       "      <td>9063.990215</td>\n",
       "      <td>22.815435</td>\n",
       "    </tr>\n",
       "    <tr>\n",
       "      <td>2</td>\n",
       "      <td>3.4</td>\n",
       "      <td>2.978728</td>\n",
       "      <td>0.070178</td>\n",
       "      <td>512.231215</td>\n",
       "      <td>14376</td>\n",
       "      <td>14530.535600</td>\n",
       "      <td>28.367142</td>\n",
       "      <td>10193.422877</td>\n",
       "      <td>19.900042</td>\n",
       "    </tr>\n",
       "    <tr>\n",
       "      <td>3</td>\n",
       "      <td>3.5</td>\n",
       "      <td>2.978728</td>\n",
       "      <td>0.070178</td>\n",
       "      <td>642.900585</td>\n",
       "      <td>16409</td>\n",
       "      <td>16573.040590</td>\n",
       "      <td>25.778543</td>\n",
       "      <td>10180.571195</td>\n",
       "      <td>15.835374</td>\n",
       "    </tr>\n",
       "    <tr>\n",
       "      <td>4</td>\n",
       "      <td>3.6</td>\n",
       "      <td>2.978728</td>\n",
       "      <td>0.070178</td>\n",
       "      <td>782.074265</td>\n",
       "      <td>17411</td>\n",
       "      <td>17579.335311</td>\n",
       "      <td>22.477834</td>\n",
       "      <td>12391.811748</td>\n",
       "      <td>15.844802</td>\n",
       "    </tr>\n",
       "    <tr>\n",
       "      <td>...</td>\n",
       "      <td>...</td>\n",
       "      <td>...</td>\n",
       "      <td>...</td>\n",
       "      <td>...</td>\n",
       "      <td>...</td>\n",
       "      <td>...</td>\n",
       "      <td>...</td>\n",
       "      <td>...</td>\n",
       "      <td>...</td>\n",
       "    </tr>\n",
       "    <tr>\n",
       "      <td>363</td>\n",
       "      <td>39.5</td>\n",
       "      <td>2.978728</td>\n",
       "      <td>0.070178</td>\n",
       "      <td>25233.482328</td>\n",
       "      <td>10</td>\n",
       "      <td>15.406070</td>\n",
       "      <td>0.000611</td>\n",
       "      <td>2.998817</td>\n",
       "      <td>0.000119</td>\n",
       "    </tr>\n",
       "    <tr>\n",
       "      <td>364</td>\n",
       "      <td>39.6</td>\n",
       "      <td>2.978728</td>\n",
       "      <td>0.070178</td>\n",
       "      <td>25148.565663</td>\n",
       "      <td>10</td>\n",
       "      <td>15.406070</td>\n",
       "      <td>0.000613</td>\n",
       "      <td>2.998817</td>\n",
       "      <td>0.000119</td>\n",
       "    </tr>\n",
       "    <tr>\n",
       "      <td>365</td>\n",
       "      <td>39.7</td>\n",
       "      <td>2.978728</td>\n",
       "      <td>0.070178</td>\n",
       "      <td>25060.846940</td>\n",
       "      <td>11</td>\n",
       "      <td>16.596335</td>\n",
       "      <td>0.000662</td>\n",
       "      <td>3.421764</td>\n",
       "      <td>0.000137</td>\n",
       "    </tr>\n",
       "    <tr>\n",
       "      <td>366</td>\n",
       "      <td>39.8</td>\n",
       "      <td>2.978728</td>\n",
       "      <td>0.070178</td>\n",
       "      <td>24931.713987</td>\n",
       "      <td>10</td>\n",
       "      <td>15.406070</td>\n",
       "      <td>0.000618</td>\n",
       "      <td>2.998817</td>\n",
       "      <td>0.000120</td>\n",
       "    </tr>\n",
       "    <tr>\n",
       "      <td>367</td>\n",
       "      <td>39.9</td>\n",
       "      <td>2.978728</td>\n",
       "      <td>0.070178</td>\n",
       "      <td>24888.109142</td>\n",
       "      <td>10</td>\n",
       "      <td>15.406070</td>\n",
       "      <td>0.000619</td>\n",
       "      <td>2.998817</td>\n",
       "      <td>0.000120</td>\n",
       "    </tr>\n",
       "  </tbody>\n",
       "</table>\n",
       "<p>368 rows × 9 columns</p>\n",
       "</div>"
      ],
      "text/plain": [
       "        m  ra_sun_0  dec_sun_0         rho_0  N_data  N_sig_lim_poisson  \\\n",
       "0     3.2  2.978728   0.070178    295.275973   12403       12546.453611   \n",
       "1     3.3  2.978728   0.070178    397.274484   13377       13525.748618   \n",
       "2     3.4  2.978728   0.070178    512.231215   14376       14530.535600   \n",
       "3     3.5  2.978728   0.070178    642.900585   16409       16573.040590   \n",
       "4     3.6  2.978728   0.070178    782.074265   17411       17579.335311   \n",
       "..    ...       ...        ...           ...     ...                ...   \n",
       "363  39.5  2.978728   0.070178  25233.482328      10          15.406070   \n",
       "364  39.6  2.978728   0.070178  25148.565663      10          15.406070   \n",
       "365  39.7  2.978728   0.070178  25060.846940      11          16.596335   \n",
       "366  39.8  2.978728   0.070178  24931.713987      10          15.406070   \n",
       "367  39.9  2.978728   0.070178  24888.109142      10          15.406070   \n",
       "\n",
       "     S0_sig_lim_poisson  N_sig_lim_yellin  S0_sig_lim_yellin  \n",
       "0             42.490601       7542.668376          25.544470  \n",
       "1             34.046356       9063.990215          22.815435  \n",
       "2             28.367142      10193.422877          19.900042  \n",
       "3             25.778543      10180.571195          15.835374  \n",
       "4             22.477834      12391.811748          15.844802  \n",
       "..                  ...               ...                ...  \n",
       "363            0.000611          2.998817           0.000119  \n",
       "364            0.000613          2.998817           0.000119  \n",
       "365            0.000662          3.421764           0.000137  \n",
       "366            0.000618          2.998817           0.000120  \n",
       "367            0.000619          2.998817           0.000120  \n",
       "\n",
       "[368 rows x 9 columns]"
      ]
     },
     "execution_count": 38,
     "metadata": {},
     "output_type": "execute_result"
    }
   ],
   "source": [
    "df_yellin_results = pd.read_csv(mock_results_dir,engine='python',header=0,names=['m','ra_sun_0','dec_sun_0','rho_0','N_data','N_sig_lim_poisson','S0_sig_lim_poisson','N_sig_lim_yellin','S0_sig_lim_yellin'])\n",
    "df_yellin_results"
   ]
  },
  {
   "cell_type": "code",
   "execution_count": 39,
   "metadata": {},
   "outputs": [
    {
     "name": "stdout",
     "output_type": "stream",
     "text": [
      "41\n",
      "7.300000000000003\n"
     ]
    }
   ],
   "source": [
    "m_mock_list = df_yellin_results['m'].to_numpy(dtype=float)\n",
    "#print(m_mock_list)\n",
    "n_mock = np.argmin(np.abs(m_mock_list-m))\n",
    "print(n_mock)\n",
    "print(m_mock_list[n_mock])"
   ]
  },
  {
   "cell_type": "code",
   "execution_count": 40,
   "metadata": {},
   "outputs": [
    {
     "data": {
      "text/plain": [
       "2.871791208017405e-06"
      ]
     },
     "execution_count": 40,
     "metadata": {},
     "output_type": "execute_result"
    }
   ],
   "source": [
    "S0_guess = (df_yellin_results['S0_sig_lim_yellin'][n_mock])/(60**2)\n",
    "S0_guess"
   ]
  },
  {
   "cell_type": "code",
   "execution_count": null,
   "metadata": {},
   "outputs": [],
   "source": []
  },
  {
   "cell_type": "code",
   "execution_count": 61,
   "metadata": {},
   "outputs": [],
   "source": [
    "def LL_prior(alpha0,delta0):\n",
    "    alpha_f = 170.66855149\n",
    "    delta_f = 4.02092024\n",
    "    sigma = 0.0333 # 2 arcmin in deg\n",
    "    LLp = (np.cos(delta_f)**2 * (alpha0 - alpha_f)**2 + (delta0 - delta_f)**2)/(2*sigma**2)\n",
    "    return(LLp)\n",
    "\n",
    "\n",
    "def likelihood_MCMC(model_inputs,m,t,E,ra,dec,eps,counts):\n",
    "    B0 = model_inputs[0]\n",
    "    T0 = model_inputs[1]\n",
    "    S0 = model_inputs[2]\n",
    "    #alpha0=170.66855149\n",
    "    #delta0=4.02092024\n",
    "    alpha0 = model_inputs[3]\n",
    "    delta0 = model_inputs[4]\n",
    "    #if alpha0 < 360:\n",
    "    #    n = np.floor(alpha0/360)\n",
    "    #    alpha_adj = alpha0 - 360*n\n",
    "    #elif alpha0 < 0:\n",
    "        \n",
    "    if T0 < 0:\n",
    "        return(sum([-np.abs(np.log(np.abs(S0)))*10**20]))\n",
    "    if S0 < 0:\n",
    "        B0_min = B0_lower_limit(m,T0,S0)\n",
    "    #print('B0_min = ',B0_min)\n",
    "    else:\n",
    "        B0_min = 10**(-20)\n",
    "    if B0 < B0_min:\n",
    "        LL = [-np.abs(np.log(np.abs(S0)))*10**20]\n",
    "        LL_bg = [0]\n",
    "        #print('below min B0, S0 = ',S0)\n",
    "    else:\n",
    "        flux_bkgd = B0*np.exp(-(E-m/2)/T0)\n",
    "        flux_signal = S0 * T_flux_template(ra,dec,t,duration,alpha0,delta0) * np.exp(-(E-m/2)**2/(2*sigma_E**2)) / np.sqrt(2 * np.pi * sigma_E**2)\n",
    "        mu = (flux_bkgd + flux_signal) * eps\n",
    "        imin = np.argmin(mu)\n",
    "        LLp = LL_prior(alpha0,delta0)\n",
    "        LL = counts*np.log(mu)-mu-np.log(factorial_vec(counts)) - LLp\n",
    "        #print('LL = ',LL)\n",
    "        if np.isnan(LL).any() == True:\n",
    "            print('Warning! Nan in LL')\n",
    "            print('model inputs = ',model_inputs)\n",
    "            print('min mu = ',mu[imin])\n",
    "            print('B0_min = ',B0_min)  \n",
    "            print('S0 = ',S0)\n",
    "            print('bkd flux min = ',flux_bkgd[imin])\n",
    "            print('signal flux min = ',flux_signal[imin])\n",
    "            #print('T flux temp min = ',T_flux_template_test(ra,dec,t,duration,alpha0,delta0)[imin])\n",
    "            #print('other signal terms = ',[np.exp(-(E-m/2)**2/(2*sigma_E**2)) / np.sqrt(2 * np.pi * sigma_E**2)][imin])\n",
    "        mu_bg = flux_bkgd * eps\n",
    "        mu_bg = np.where(mu_bg == 0.0, mu_bg, 10**(-20))\n",
    "        LL_bg = counts*np.log(mu_bg)-mu_bg-np.log(factorial_vec(counts))-LLp\n",
    "    return(2*(sum(LL)-sum(LL_bg)))"
   ]
  },
  {
   "cell_type": "code",
   "execution_count": 76,
   "metadata": {},
   "outputs": [
    {
     "data": {
      "text/plain": [
       "Text(0.5, 0, 'alpha')"
      ]
     },
     "execution_count": 76,
     "metadata": {},
     "output_type": "execute_result"
    },
    {
     "data": {
      "image/png": "[encoded data removed]",
      "text/plain": [
       "<Figure size 432x288 with 1 Axes>"
      ]
     },
     "metadata": {
      "needs_background": "light"
     },
     "output_type": "display_data"
    }
   ],
   "source": [
    "alpha_list = np.linspace(0, 400,50)\n",
    "prior_list = []\n",
    "for a in alpha_list:\n",
    "    prior_list.append(LL_prior(a,delta_f))\n",
    "\n",
    "plt.plot(alpha_list,prior_list)\n",
    "plt.ylabel('prior')\n",
    "plt.xlabel('alpha')"
   ]
  },
  {
   "cell_type": "code",
   "execution_count": 97,
   "metadata": {},
   "outputs": [
    {
     "name": "stdout",
     "output_type": "stream",
     "text": [
      "[10 10  2  3  4]\n"
     ]
    }
   ],
   "source": [
    "test = np.asarray([0,0,2,3,4])\n",
    "test = np.where(test == 0, 10, test)\n",
    "print(test)"
   ]
  },
  {
   "cell_type": "code",
   "execution_count": 62,
   "metadata": {},
   "outputs": [],
   "source": [
    "nwalkers = 32\n",
    "ndim = 5 # B0,T0,S0,alpha0,delta0\n",
    "p0_B0 = np.abs(np.random.normal(S0_guess,0.1*S0_guess,nwalkers))\n",
    "p0_T0 = np.abs(np.random.normal(0.2,0.05,nwalkers))\n",
    "p0_S0 = np.random.normal(S0_guess,np.abs(0.1*S0_guess),nwalkers)\n",
    "p0_alpha0 = np.random.normal(alpha_f,np.abs(0.1*alpha_f),nwalkers)\n",
    "p0_delta0 = np.random.normal(delta_f,np.abs(0.1*delta_f),nwalkers)\n",
    "p0 = np.asarray([[p0_B0[i],p0_T0[i],p0_S0[i],p0_alpha0[i],p0_delta0[i]] for i in range(nwalkers)])"
   ]
  },
  {
   "cell_type": "code",
   "execution_count": 63,
   "metadata": {},
   "outputs": [
    {
     "name": "stdout",
     "output_type": "stream",
     "text": [
      "[2.97923234e-06 2.48245236e-01 2.67777919e-06 1.42168814e+02\n",
      " 3.64548514e+00]\n",
      "17050.37354660034\n"
     ]
    }
   ],
   "source": [
    "vec = p0[0]\n",
    "print(vec)\n",
    "\n",
    "ll_test = likelihood_MCMC(vec,m,t,E,ra,dec,eps,counts)\n",
    "print(ll_test)"
   ]
  },
  {
   "cell_type": "code",
   "execution_count": 64,
   "metadata": {},
   "outputs": [],
   "source": [
    "sampler = emcee.EnsembleSampler(nwalkers, ndim, likelihood_MCMC, args=[m,t,E,ra,dec,eps,counts])"
   ]
  },
  {
   "cell_type": "code",
   "execution_count": 65,
   "metadata": {},
   "outputs": [],
   "source": [
    "state = sampler.run_mcmc(p0, 100)\n",
    "sampler.reset()"
   ]
  },
  {
   "cell_type": "code",
   "execution_count": 73,
   "metadata": {},
   "outputs": [
    {
     "name": "stdout",
     "output_type": "stream",
     "text": [
      "emcee: Exception while calling your likelihood function:\n",
      "  params: [ 3.52475151e-05  1.98284731e+02  3.36827683e-04 -7.59236101e+04\n",
      "  4.93522732e+02]\n",
      "  args: [7.300000000000004, array([3.37603341e+08, 3.37603341e+08, 3.37603341e+08, ...,\n",
      "       3.37605041e+08, 3.37605041e+08, 3.37605041e+08]), array([3.36, 3.36, 3.36, ..., 3.96, 3.96, 3.96]), array([170.889, 170.881, 170.872, ..., 170.984, 170.976, 170.976]), array([3.75981, 3.77425, 3.78868, ..., 4.01517, 4.0296 , 4.0296 ]), array([ 61.22497424,  44.68261806,  74.08640524, ..., 263.03446081,\n",
      "       193.51987062, 196.73658252]), array([0, 0, 0, ..., 0, 1, 0], dtype=int64)]\n",
      "  kwargs: {}\n",
      "  exception:\n"
     ]
    },
    {
     "name": "stderr",
     "output_type": "stream",
     "text": [
      "Traceback (most recent call last):\n",
      "  File \"C:\\Users\\shalm\\Anaconda3\\lib\\site-packages\\emcee\\ensemble.py\", line 619, in __call__\n",
      "    return self.f(x, *self.args, **self.kwargs)\n",
      "  File \"<ipython-input-61-05c55796cb10>\", line 30, in likelihood_MCMC\n",
      "    flux_signal = S0 * T_flux_template(ra,dec,t,duration,alpha0,delta0) * np.exp(-(E-m/2)**2/(2*sigma_E**2)) / np.sqrt(2 * np.pi * sigma_E**2)\n",
      "  File \"C:\\Users\\shalm\\Dropbox\\LuminousBasin\\code\\Shalma code\\Likelihood_Functions_ShalmaCopy.py\", line 225, in T_flux_template\n",
      "    T[i] = theta[i]**(-3) * 10**(-10)\n",
      "KeyboardInterrupt\n"
     ]
    },
    {
     "ename": "KeyboardInterrupt",
     "evalue": "",
     "output_type": "error",
     "traceback": [
      "\u001b[1;31m---------------------------------------------------------------------------\u001b[0m",
      "\u001b[1;31mKeyboardInterrupt\u001b[0m                         Traceback (most recent call last)",
      "\u001b[1;32m<ipython-input-73-81bfcae74296>\u001b[0m in \u001b[0;36m<module>\u001b[1;34m\u001b[0m\n\u001b[1;32m----> 1\u001b[1;33m \u001b[0msampler\u001b[0m\u001b[1;33m.\u001b[0m\u001b[0mrun_mcmc\u001b[0m\u001b[1;33m(\u001b[0m\u001b[0mstate\u001b[0m\u001b[1;33m,\u001b[0m \u001b[1;36m1000\u001b[0m\u001b[1;33m)\u001b[0m\u001b[1;33m;\u001b[0m\u001b[1;33m\u001b[0m\u001b[1;33m\u001b[0m\u001b[0m\n\u001b[0m",
      "\u001b[1;32m~\\Anaconda3\\lib\\site-packages\\emcee\\ensemble.py\u001b[0m in \u001b[0;36mrun_mcmc\u001b[1;34m(self, initial_state, nsteps, **kwargs)\u001b[0m\n\u001b[0;32m    436\u001b[0m \u001b[1;33m\u001b[0m\u001b[0m\n\u001b[0;32m    437\u001b[0m         \u001b[0mresults\u001b[0m \u001b[1;33m=\u001b[0m \u001b[1;32mNone\u001b[0m\u001b[1;33m\u001b[0m\u001b[1;33m\u001b[0m\u001b[0m\n\u001b[1;32m--> 438\u001b[1;33m         \u001b[1;32mfor\u001b[0m \u001b[0mresults\u001b[0m \u001b[1;32min\u001b[0m \u001b[0mself\u001b[0m\u001b[1;33m.\u001b[0m\u001b[0msample\u001b[0m\u001b[1;33m(\u001b[0m\u001b[0minitial_state\u001b[0m\u001b[1;33m,\u001b[0m \u001b[0miterations\u001b[0m\u001b[1;33m=\u001b[0m\u001b[0mnsteps\u001b[0m\u001b[1;33m,\u001b[0m \u001b[1;33m**\u001b[0m\u001b[0mkwargs\u001b[0m\u001b[1;33m)\u001b[0m\u001b[1;33m:\u001b[0m\u001b[1;33m\u001b[0m\u001b[1;33m\u001b[0m\u001b[0m\n\u001b[0m\u001b[0;32m    439\u001b[0m             \u001b[1;32mpass\u001b[0m\u001b[1;33m\u001b[0m\u001b[1;33m\u001b[0m\u001b[0m\n\u001b[0;32m    440\u001b[0m \u001b[1;33m\u001b[0m\u001b[0m\n",
      "\u001b[1;32m~\\Anaconda3\\lib\\site-packages\\emcee\\ensemble.py\u001b[0m in \u001b[0;36msample\u001b[1;34m(self, initial_state, log_prob0, rstate0, blobs0, iterations, tune, skip_initial_state_check, thin_by, thin, store, progress)\u001b[0m\n\u001b[0;32m    395\u001b[0m \u001b[1;33m\u001b[0m\u001b[0m\n\u001b[0;32m    396\u001b[0m                     \u001b[1;31m# Propose\u001b[0m\u001b[1;33m\u001b[0m\u001b[1;33m\u001b[0m\u001b[1;33m\u001b[0m\u001b[0m\n\u001b[1;32m--> 397\u001b[1;33m                     \u001b[0mstate\u001b[0m\u001b[1;33m,\u001b[0m \u001b[0maccepted\u001b[0m \u001b[1;33m=\u001b[0m \u001b[0mmove\u001b[0m\u001b[1;33m.\u001b[0m\u001b[0mpropose\u001b[0m\u001b[1;33m(\u001b[0m\u001b[0mmodel\u001b[0m\u001b[1;33m,\u001b[0m \u001b[0mstate\u001b[0m\u001b[1;33m)\u001b[0m\u001b[1;33m\u001b[0m\u001b[1;33m\u001b[0m\u001b[0m\n\u001b[0m\u001b[0;32m    398\u001b[0m                     \u001b[0mstate\u001b[0m\u001b[1;33m.\u001b[0m\u001b[0mrandom_state\u001b[0m \u001b[1;33m=\u001b[0m \u001b[0mself\u001b[0m\u001b[1;33m.\u001b[0m\u001b[0mrandom_state\u001b[0m\u001b[1;33m\u001b[0m\u001b[1;33m\u001b[0m\u001b[0m\n\u001b[0;32m    399\u001b[0m \u001b[1;33m\u001b[0m\u001b[0m\n",
      "\u001b[1;32m~\\Anaconda3\\lib\\site-packages\\emcee\\moves\\red_blue.py\u001b[0m in \u001b[0;36mpropose\u001b[1;34m(self, model, state)\u001b[0m\n\u001b[0;32m     91\u001b[0m \u001b[1;33m\u001b[0m\u001b[0m\n\u001b[0;32m     92\u001b[0m             \u001b[1;31m# Compute the lnprobs of the proposed position.\u001b[0m\u001b[1;33m\u001b[0m\u001b[1;33m\u001b[0m\u001b[1;33m\u001b[0m\u001b[0m\n\u001b[1;32m---> 93\u001b[1;33m             \u001b[0mnew_log_probs\u001b[0m\u001b[1;33m,\u001b[0m \u001b[0mnew_blobs\u001b[0m \u001b[1;33m=\u001b[0m \u001b[0mmodel\u001b[0m\u001b[1;33m.\u001b[0m\u001b[0mcompute_log_prob_fn\u001b[0m\u001b[1;33m(\u001b[0m\u001b[0mq\u001b[0m\u001b[1;33m)\u001b[0m\u001b[1;33m\u001b[0m\u001b[1;33m\u001b[0m\u001b[0m\n\u001b[0m\u001b[0;32m     94\u001b[0m \u001b[1;33m\u001b[0m\u001b[0m\n\u001b[0;32m     95\u001b[0m             \u001b[1;31m# Loop over the walkers and update them accordingly.\u001b[0m\u001b[1;33m\u001b[0m\u001b[1;33m\u001b[0m\u001b[1;33m\u001b[0m\u001b[0m\n",
      "\u001b[1;32m~\\Anaconda3\\lib\\site-packages\\emcee\\ensemble.py\u001b[0m in \u001b[0;36mcompute_log_prob\u001b[1;34m(self, coords)\u001b[0m\n\u001b[0;32m    482\u001b[0m             \u001b[1;32melse\u001b[0m\u001b[1;33m:\u001b[0m\u001b[1;33m\u001b[0m\u001b[1;33m\u001b[0m\u001b[0m\n\u001b[0;32m    483\u001b[0m                 \u001b[0mmap_func\u001b[0m \u001b[1;33m=\u001b[0m \u001b[0mmap\u001b[0m\u001b[1;33m\u001b[0m\u001b[1;33m\u001b[0m\u001b[0m\n\u001b[1;32m--> 484\u001b[1;33m             \u001b[0mresults\u001b[0m \u001b[1;33m=\u001b[0m \u001b[0mlist\u001b[0m\u001b[1;33m(\u001b[0m\u001b[0mmap_func\u001b[0m\u001b[1;33m(\u001b[0m\u001b[0mself\u001b[0m\u001b[1;33m.\u001b[0m\u001b[0mlog_prob_fn\u001b[0m\u001b[1;33m,\u001b[0m \u001b[0mp\u001b[0m\u001b[1;33m)\u001b[0m\u001b[1;33m)\u001b[0m\u001b[1;33m\u001b[0m\u001b[1;33m\u001b[0m\u001b[0m\n\u001b[0m\u001b[0;32m    485\u001b[0m \u001b[1;33m\u001b[0m\u001b[0m\n\u001b[0;32m    486\u001b[0m         \u001b[1;32mtry\u001b[0m\u001b[1;33m:\u001b[0m\u001b[1;33m\u001b[0m\u001b[1;33m\u001b[0m\u001b[0m\n",
      "\u001b[1;32m~\\Anaconda3\\lib\\site-packages\\emcee\\ensemble.py\u001b[0m in \u001b[0;36m__call__\u001b[1;34m(self, x)\u001b[0m\n\u001b[0;32m    617\u001b[0m     \u001b[1;32mdef\u001b[0m \u001b[0m__call__\u001b[0m\u001b[1;33m(\u001b[0m\u001b[0mself\u001b[0m\u001b[1;33m,\u001b[0m \u001b[0mx\u001b[0m\u001b[1;33m)\u001b[0m\u001b[1;33m:\u001b[0m\u001b[1;33m\u001b[0m\u001b[1;33m\u001b[0m\u001b[0m\n\u001b[0;32m    618\u001b[0m         \u001b[1;32mtry\u001b[0m\u001b[1;33m:\u001b[0m\u001b[1;33m\u001b[0m\u001b[1;33m\u001b[0m\u001b[0m\n\u001b[1;32m--> 619\u001b[1;33m             \u001b[1;32mreturn\u001b[0m \u001b[0mself\u001b[0m\u001b[1;33m.\u001b[0m\u001b[0mf\u001b[0m\u001b[1;33m(\u001b[0m\u001b[0mx\u001b[0m\u001b[1;33m,\u001b[0m \u001b[1;33m*\u001b[0m\u001b[0mself\u001b[0m\u001b[1;33m.\u001b[0m\u001b[0margs\u001b[0m\u001b[1;33m,\u001b[0m \u001b[1;33m**\u001b[0m\u001b[0mself\u001b[0m\u001b[1;33m.\u001b[0m\u001b[0mkwargs\u001b[0m\u001b[1;33m)\u001b[0m\u001b[1;33m\u001b[0m\u001b[1;33m\u001b[0m\u001b[0m\n\u001b[0m\u001b[0;32m    620\u001b[0m         \u001b[1;32mexcept\u001b[0m\u001b[1;33m:\u001b[0m  \u001b[1;31m# pragma: no cover\u001b[0m\u001b[1;33m\u001b[0m\u001b[1;33m\u001b[0m\u001b[0m\n\u001b[0;32m    621\u001b[0m             \u001b[1;32mimport\u001b[0m \u001b[0mtraceback\u001b[0m\u001b[1;33m\u001b[0m\u001b[1;33m\u001b[0m\u001b[0m\n",
      "\u001b[1;32m<ipython-input-61-05c55796cb10>\u001b[0m in \u001b[0;36mlikelihood_MCMC\u001b[1;34m(model_inputs, m, t, E, ra, dec, eps, counts)\u001b[0m\n\u001b[0;32m     28\u001b[0m     \u001b[1;32melse\u001b[0m\u001b[1;33m:\u001b[0m\u001b[1;33m\u001b[0m\u001b[1;33m\u001b[0m\u001b[0m\n\u001b[0;32m     29\u001b[0m         \u001b[0mflux_bkgd\u001b[0m \u001b[1;33m=\u001b[0m \u001b[0mB0\u001b[0m\u001b[1;33m*\u001b[0m\u001b[0mnp\u001b[0m\u001b[1;33m.\u001b[0m\u001b[0mexp\u001b[0m\u001b[1;33m(\u001b[0m\u001b[1;33m-\u001b[0m\u001b[1;33m(\u001b[0m\u001b[0mE\u001b[0m\u001b[1;33m-\u001b[0m\u001b[0mm\u001b[0m\u001b[1;33m/\u001b[0m\u001b[1;36m2\u001b[0m\u001b[1;33m)\u001b[0m\u001b[1;33m/\u001b[0m\u001b[0mT0\u001b[0m\u001b[1;33m)\u001b[0m\u001b[1;33m\u001b[0m\u001b[1;33m\u001b[0m\u001b[0m\n\u001b[1;32m---> 30\u001b[1;33m         \u001b[0mflux_signal\u001b[0m \u001b[1;33m=\u001b[0m \u001b[0mS0\u001b[0m \u001b[1;33m*\u001b[0m \u001b[0mT_flux_template\u001b[0m\u001b[1;33m(\u001b[0m\u001b[0mra\u001b[0m\u001b[1;33m,\u001b[0m\u001b[0mdec\u001b[0m\u001b[1;33m,\u001b[0m\u001b[0mt\u001b[0m\u001b[1;33m,\u001b[0m\u001b[0mduration\u001b[0m\u001b[1;33m,\u001b[0m\u001b[0malpha0\u001b[0m\u001b[1;33m,\u001b[0m\u001b[0mdelta0\u001b[0m\u001b[1;33m)\u001b[0m \u001b[1;33m*\u001b[0m \u001b[0mnp\u001b[0m\u001b[1;33m.\u001b[0m\u001b[0mexp\u001b[0m\u001b[1;33m(\u001b[0m\u001b[1;33m-\u001b[0m\u001b[1;33m(\u001b[0m\u001b[0mE\u001b[0m\u001b[1;33m-\u001b[0m\u001b[0mm\u001b[0m\u001b[1;33m/\u001b[0m\u001b[1;36m2\u001b[0m\u001b[1;33m)\u001b[0m\u001b[1;33m**\u001b[0m\u001b[1;36m2\u001b[0m\u001b[1;33m/\u001b[0m\u001b[1;33m(\u001b[0m\u001b[1;36m2\u001b[0m\u001b[1;33m*\u001b[0m\u001b[0msigma_E\u001b[0m\u001b[1;33m**\u001b[0m\u001b[1;36m2\u001b[0m\u001b[1;33m)\u001b[0m\u001b[1;33m)\u001b[0m \u001b[1;33m/\u001b[0m \u001b[0mnp\u001b[0m\u001b[1;33m.\u001b[0m\u001b[0msqrt\u001b[0m\u001b[1;33m(\u001b[0m\u001b[1;36m2\u001b[0m \u001b[1;33m*\u001b[0m \u001b[0mnp\u001b[0m\u001b[1;33m.\u001b[0m\u001b[0mpi\u001b[0m \u001b[1;33m*\u001b[0m \u001b[0msigma_E\u001b[0m\u001b[1;33m**\u001b[0m\u001b[1;36m2\u001b[0m\u001b[1;33m)\u001b[0m\u001b[1;33m\u001b[0m\u001b[1;33m\u001b[0m\u001b[0m\n\u001b[0m\u001b[0;32m     31\u001b[0m         \u001b[0mmu\u001b[0m \u001b[1;33m=\u001b[0m \u001b[1;33m(\u001b[0m\u001b[0mflux_bkgd\u001b[0m \u001b[1;33m+\u001b[0m \u001b[0mflux_signal\u001b[0m\u001b[1;33m)\u001b[0m \u001b[1;33m*\u001b[0m \u001b[0meps\u001b[0m\u001b[1;33m\u001b[0m\u001b[1;33m\u001b[0m\u001b[0m\n\u001b[0;32m     32\u001b[0m         \u001b[0mimin\u001b[0m \u001b[1;33m=\u001b[0m \u001b[0mnp\u001b[0m\u001b[1;33m.\u001b[0m\u001b[0margmin\u001b[0m\u001b[1;33m(\u001b[0m\u001b[0mmu\u001b[0m\u001b[1;33m)\u001b[0m\u001b[1;33m\u001b[0m\u001b[1;33m\u001b[0m\u001b[0m\n",
      "\u001b[1;32m~\\Dropbox\\LuminousBasin\\code\\Shalma code\\Likelihood_Functions_ShalmaCopy.py\u001b[0m in \u001b[0;36mT_flux_template\u001b[1;34m(ra, dec, t, duration, alpha0, delta0)\u001b[0m\n\u001b[0;32m    223\u001b[0m     \u001b[1;32mfor\u001b[0m \u001b[0mi\u001b[0m \u001b[1;32min\u001b[0m \u001b[0mrange\u001b[0m\u001b[1;33m(\u001b[0m\u001b[0mlen\u001b[0m\u001b[1;33m(\u001b[0m\u001b[0mtheta\u001b[0m\u001b[1;33m)\u001b[0m\u001b[1;33m)\u001b[0m\u001b[1;33m:\u001b[0m\u001b[1;33m\u001b[0m\u001b[1;33m\u001b[0m\u001b[0m\n\u001b[0;32m    224\u001b[0m         \u001b[1;32mif\u001b[0m \u001b[0mtheta\u001b[0m\u001b[1;33m[\u001b[0m\u001b[0mi\u001b[0m\u001b[1;33m]\u001b[0m\u001b[1;33m>\u001b[0m\u001b[0mnp\u001b[0m\u001b[1;33m.\u001b[0m\u001b[0mpi\u001b[0m\u001b[1;33m:\u001b[0m\u001b[1;33m\u001b[0m\u001b[1;33m\u001b[0m\u001b[0m\n\u001b[1;32m--> 225\u001b[1;33m             \u001b[0mT\u001b[0m\u001b[1;33m[\u001b[0m\u001b[0mi\u001b[0m\u001b[1;33m]\u001b[0m \u001b[1;33m=\u001b[0m \u001b[0mtheta\u001b[0m\u001b[1;33m[\u001b[0m\u001b[0mi\u001b[0m\u001b[1;33m]\u001b[0m\u001b[1;33m**\u001b[0m\u001b[1;33m(\u001b[0m\u001b[1;33m-\u001b[0m\u001b[1;36m3\u001b[0m\u001b[1;33m)\u001b[0m \u001b[1;33m*\u001b[0m \u001b[1;36m10\u001b[0m\u001b[1;33m**\u001b[0m\u001b[1;33m(\u001b[0m\u001b[1;33m-\u001b[0m\u001b[1;36m10\u001b[0m\u001b[1;33m)\u001b[0m\u001b[1;33m\u001b[0m\u001b[1;33m\u001b[0m\u001b[0m\n\u001b[0m\u001b[0;32m    226\u001b[0m     \u001b[0mimin\u001b[0m \u001b[1;33m=\u001b[0m \u001b[0mnp\u001b[0m\u001b[1;33m.\u001b[0m\u001b[0margmin\u001b[0m\u001b[1;33m(\u001b[0m\u001b[0mT\u001b[0m\u001b[1;33m)\u001b[0m\u001b[1;33m\u001b[0m\u001b[1;33m\u001b[0m\u001b[0m\n\u001b[0;32m    227\u001b[0m     \u001b[1;32mif\u001b[0m \u001b[0mT\u001b[0m\u001b[1;33m[\u001b[0m\u001b[0mimin\u001b[0m\u001b[1;33m]\u001b[0m\u001b[1;33m<\u001b[0m\u001b[1;36m0\u001b[0m\u001b[1;33m:\u001b[0m\u001b[1;33m\u001b[0m\u001b[1;33m\u001b[0m\u001b[0m\n",
      "\u001b[1;31mKeyboardInterrupt\u001b[0m: "
     ]
    }
   ],
   "source": [
    "sampler.run_mcmc(state, 1000);"
   ]
  },
  {
   "cell_type": "code",
   "execution_count": 67,
   "metadata": {},
   "outputs": [],
   "source": [
    "samples = sampler.get_chain(flat=True)"
   ]
  },
  {
   "cell_type": "code",
   "execution_count": 72,
   "metadata": {},
   "outputs": [
    {
     "data": {
      "text/plain": [
       "Text(0.5, 0, 'B0')"
      ]
     },
     "execution_count": 72,
     "metadata": {},
     "output_type": "execute_result"
    },
    {
     "data": {
      "image/png": "[encoded data removed]",
      "text/plain": [
       "<Figure size 432x288 with 1 Axes>"
      ]
     },
     "metadata": {
      "needs_background": "light"
     },
     "output_type": "display_data"
    }
   ],
   "source": [
    "plt.hist(samples[:,0],bins=np.logspace(-7,0,50));\n",
    "plt.xscale('log'); plt.yscale('log');\n",
    "plt.xlabel('B0')"
   ]
  },
  {
   "cell_type": "code",
   "execution_count": 101,
   "metadata": {},
   "outputs": [
    {
     "data": {
      "text/plain": [
       "Text(0.5, 0, 'T0')"
      ]
     },
     "execution_count": 101,
     "metadata": {},
     "output_type": "execute_result"
    },
    {
     "data": {
      "image/png": "[encoded data removed]",
      "text/plain": [
       "<Figure size 432x288 with 1 Axes>"
      ]
     },
     "metadata": {
      "needs_background": "light"
     },
     "output_type": "display_data"
    }
   ],
   "source": [
    "plt.hist(samples[:,1],bins=np.linspace(0,0.5,100));\n",
    "#plt.xscale('log'); plt.yscale('log');\n",
    "plt.xlabel('T0')"
   ]
  },
  {
   "cell_type": "code",
   "execution_count": 151,
   "metadata": {},
   "outputs": [
    {
     "data": {
      "image/png": "[encoded data removed]",
      "text/plain": [
       "<Figure size 432x288 with 1 Axes>"
      ]
     },
     "metadata": {
      "needs_background": "light"
     },
     "output_type": "display_data"
    }
   ],
   "source": [
    "hist = plt.hist(samples[:,2],bins=100)#,bins=np.logspace(-9,34,100));\n",
    "plt.hist(-samples[:,2],bins=100)\n",
    "plt.xscale('log'); plt.yscale('log');\n",
    "plt.xlabel('$S_0$ [$arcmin^{-2}s^{-1}cm^{-2}$]')\n",
    "plt.ylabel('Log Likliehood')\n",
    "plt.title('Mock Signal Likelihood for $m_a = 12.138$ keV')\n",
    "plt.savefig('S0_likelihood_mcmc.png')\n",
    "#output histogram with 1000 bins\n",
    "#OR save samples array if it's not too big (np.save)"
   ]
  },
  {
   "cell_type": "code",
   "execution_count": null,
   "metadata": {},
   "outputs": [],
   "source": []
  },
  {
   "cell_type": "code",
   "execution_count": 103,
   "metadata": {},
   "outputs": [
    {
     "data": {
      "text/plain": [
       "Text(0.5, 0, 'alpha0')"
      ]
     },
     "execution_count": 103,
     "metadata": {},
     "output_type": "execute_result"
    },
    {
     "data": {
      "image/png": "[encoded data removed]",
      "text/plain": [
       "<Figure size 432x288 with 1 Axes>"
      ]
     },
     "metadata": {
      "needs_background": "light"
     },
     "output_type": "display_data"
    }
   ],
   "source": [
    "plt.hist(samples[:,3],bins=100)#,bins=np.logspace(-9,34,100));\n",
    "plt.hist(-samples[:,3],bins=100)\n",
    "plt.xscale('log'); plt.yscale('log');\n",
    "plt.xlabel('alpha0')"
   ]
  },
  {
   "cell_type": "code",
   "execution_count": 104,
   "metadata": {},
   "outputs": [
    {
     "data": {
      "text/plain": [
       "Text(0.5, 0, 'delta0')"
      ]
     },
     "execution_count": 104,
     "metadata": {},
     "output_type": "execute_result"
    },
    {
     "data": {
      "image/png": "[encoded data removed]",
      "text/plain": [
       "<Figure size 432x288 with 1 Axes>"
      ]
     },
     "metadata": {
      "needs_background": "light"
     },
     "output_type": "display_data"
    }
   ],
   "source": [
    "plt.hist(samples[:,4],bins=100)#,bins=np.logspace(-9,34,100));\n",
    "plt.hist(-samples[:,4],bins=100)\n",
    "plt.xscale('log'); plt.yscale('log');\n",
    "plt.xlabel('delta0')"
   ]
  },
  {
   "cell_type": "code",
   "execution_count": 85,
   "metadata": {},
   "outputs": [
    {
     "name": "stdout",
     "output_type": "stream",
     "text": [
      "Mean acceptance fraction: 0.647\n"
     ]
    }
   ],
   "source": [
    "print(\"Mean acceptance fraction: {0:.3f}\".format(np.mean(sampler.acceptance_fraction)))"
   ]
  },
  {
   "cell_type": "code",
   "execution_count": 84,
   "metadata": {},
   "outputs": [
    {
     "ename": "AutocorrError",
     "evalue": "The chain is shorter than 50 times the integrated autocorrelation time for 3 parameter(s). Use this estimate with caution and run a longer chain!\nN/50 = 20;\ntau: [24.604359   24.02606764 24.63488914]",
     "output_type": "error",
     "traceback": [
      "\u001b[1;31m---------------------------------------------------------------------------\u001b[0m",
      "\u001b[1;31mAutocorrError\u001b[0m                             Traceback (most recent call last)",
      "\u001b[1;32m<ipython-input-84-bc3e433bf21d>\u001b[0m in \u001b[0;36m<module>\u001b[1;34m\u001b[0m\n\u001b[0;32m      1\u001b[0m print(\n\u001b[0;32m      2\u001b[0m     \"Mean autocorrelation time: {0:.3f} steps\".format(\n\u001b[1;32m----> 3\u001b[1;33m         \u001b[0mnp\u001b[0m\u001b[1;33m.\u001b[0m\u001b[0mmean\u001b[0m\u001b[1;33m(\u001b[0m\u001b[0msampler\u001b[0m\u001b[1;33m.\u001b[0m\u001b[0mget_autocorr_time\u001b[0m\u001b[1;33m(\u001b[0m\u001b[1;33m)\u001b[0m\u001b[1;33m)\u001b[0m\u001b[1;33m\u001b[0m\u001b[1;33m\u001b[0m\u001b[0m\n\u001b[0m\u001b[0;32m      4\u001b[0m     )\n\u001b[0;32m      5\u001b[0m )\n",
      "\u001b[1;32m~\\Anaconda3\\lib\\site-packages\\emcee\\ensemble.py\u001b[0m in \u001b[0;36mget_autocorr_time\u001b[1;34m(self, **kwargs)\u001b[0m\n\u001b[0;32m    598\u001b[0m \u001b[1;33m\u001b[0m\u001b[0m\n\u001b[0;32m    599\u001b[0m     \u001b[1;32mdef\u001b[0m \u001b[0mget_autocorr_time\u001b[0m\u001b[1;33m(\u001b[0m\u001b[0mself\u001b[0m\u001b[1;33m,\u001b[0m \u001b[1;33m**\u001b[0m\u001b[0mkwargs\u001b[0m\u001b[1;33m)\u001b[0m\u001b[1;33m:\u001b[0m\u001b[1;33m\u001b[0m\u001b[1;33m\u001b[0m\u001b[0m\n\u001b[1;32m--> 600\u001b[1;33m         \u001b[1;32mreturn\u001b[0m \u001b[0mself\u001b[0m\u001b[1;33m.\u001b[0m\u001b[0mbackend\u001b[0m\u001b[1;33m.\u001b[0m\u001b[0mget_autocorr_time\u001b[0m\u001b[1;33m(\u001b[0m\u001b[1;33m**\u001b[0m\u001b[0mkwargs\u001b[0m\u001b[1;33m)\u001b[0m\u001b[1;33m\u001b[0m\u001b[1;33m\u001b[0m\u001b[0m\n\u001b[0m\u001b[0;32m    601\u001b[0m \u001b[1;33m\u001b[0m\u001b[0m\n\u001b[0;32m    602\u001b[0m     \u001b[0mget_autocorr_time\u001b[0m\u001b[1;33m.\u001b[0m\u001b[0m__doc__\u001b[0m \u001b[1;33m=\u001b[0m \u001b[0mBackend\u001b[0m\u001b[1;33m.\u001b[0m\u001b[0mget_autocorr_time\u001b[0m\u001b[1;33m.\u001b[0m\u001b[0m__doc__\u001b[0m\u001b[1;33m\u001b[0m\u001b[1;33m\u001b[0m\u001b[0m\n",
      "\u001b[1;32m~\\Anaconda3\\lib\\site-packages\\emcee\\backends\\backend.py\u001b[0m in \u001b[0;36mget_autocorr_time\u001b[1;34m(self, discard, thin, **kwargs)\u001b[0m\n\u001b[0;32m    148\u001b[0m         \"\"\"\n\u001b[0;32m    149\u001b[0m         \u001b[0mx\u001b[0m \u001b[1;33m=\u001b[0m \u001b[0mself\u001b[0m\u001b[1;33m.\u001b[0m\u001b[0mget_chain\u001b[0m\u001b[1;33m(\u001b[0m\u001b[0mdiscard\u001b[0m\u001b[1;33m=\u001b[0m\u001b[0mdiscard\u001b[0m\u001b[1;33m,\u001b[0m \u001b[0mthin\u001b[0m\u001b[1;33m=\u001b[0m\u001b[0mthin\u001b[0m\u001b[1;33m)\u001b[0m\u001b[1;33m\u001b[0m\u001b[1;33m\u001b[0m\u001b[0m\n\u001b[1;32m--> 150\u001b[1;33m         \u001b[1;32mreturn\u001b[0m \u001b[0mthin\u001b[0m \u001b[1;33m*\u001b[0m \u001b[0mautocorr\u001b[0m\u001b[1;33m.\u001b[0m\u001b[0mintegrated_time\u001b[0m\u001b[1;33m(\u001b[0m\u001b[0mx\u001b[0m\u001b[1;33m,\u001b[0m \u001b[1;33m**\u001b[0m\u001b[0mkwargs\u001b[0m\u001b[1;33m)\u001b[0m\u001b[1;33m\u001b[0m\u001b[1;33m\u001b[0m\u001b[0m\n\u001b[0m\u001b[0;32m    151\u001b[0m \u001b[1;33m\u001b[0m\u001b[0m\n\u001b[0;32m    152\u001b[0m     \u001b[1;33m@\u001b[0m\u001b[0mproperty\u001b[0m\u001b[1;33m\u001b[0m\u001b[1;33m\u001b[0m\u001b[0m\n",
      "\u001b[1;32m~\\Anaconda3\\lib\\site-packages\\emcee\\autocorr.py\u001b[0m in \u001b[0;36mintegrated_time\u001b[1;34m(x, c, tol, quiet)\u001b[0m\n\u001b[0;32m    110\u001b[0m         \u001b[0mmsg\u001b[0m \u001b[1;33m+=\u001b[0m \u001b[1;34m\"N/{0} = {1:.0f};\\ntau: {2}\"\u001b[0m\u001b[1;33m.\u001b[0m\u001b[0mformat\u001b[0m\u001b[1;33m(\u001b[0m\u001b[0mtol\u001b[0m\u001b[1;33m,\u001b[0m \u001b[0mn_t\u001b[0m \u001b[1;33m/\u001b[0m \u001b[0mtol\u001b[0m\u001b[1;33m,\u001b[0m \u001b[0mtau_est\u001b[0m\u001b[1;33m)\u001b[0m\u001b[1;33m\u001b[0m\u001b[1;33m\u001b[0m\u001b[0m\n\u001b[0;32m    111\u001b[0m         \u001b[1;32mif\u001b[0m \u001b[1;32mnot\u001b[0m \u001b[0mquiet\u001b[0m\u001b[1;33m:\u001b[0m\u001b[1;33m\u001b[0m\u001b[1;33m\u001b[0m\u001b[0m\n\u001b[1;32m--> 112\u001b[1;33m             \u001b[1;32mraise\u001b[0m \u001b[0mAutocorrError\u001b[0m\u001b[1;33m(\u001b[0m\u001b[0mtau_est\u001b[0m\u001b[1;33m,\u001b[0m \u001b[0mmsg\u001b[0m\u001b[1;33m)\u001b[0m\u001b[1;33m\u001b[0m\u001b[1;33m\u001b[0m\u001b[0m\n\u001b[0m\u001b[0;32m    113\u001b[0m         \u001b[0mlogger\u001b[0m\u001b[1;33m.\u001b[0m\u001b[0mwarning\u001b[0m\u001b[1;33m(\u001b[0m\u001b[0mmsg\u001b[0m\u001b[1;33m)\u001b[0m\u001b[1;33m\u001b[0m\u001b[1;33m\u001b[0m\u001b[0m\n\u001b[0;32m    114\u001b[0m \u001b[1;33m\u001b[0m\u001b[0m\n",
      "\u001b[1;31mAutocorrError\u001b[0m: The chain is shorter than 50 times the integrated autocorrelation time for 3 parameter(s). Use this estimate with caution and run a longer chain!\nN/50 = 20;\ntau: [24.604359   24.02606764 24.63488914]"
     ]
    }
   ],
   "source": [
    "print(\n",
    "    \"Mean autocorrelation time: {0:.3f} steps\".format(\n",
    "        np.mean(sampler.get_autocorr_time())\n",
    "    )\n",
    ")"
   ]
  },
  {
   "cell_type": "code",
   "execution_count": 164,
   "metadata": {},
   "outputs": [],
   "source": [
    "def likelihood_BG_MCMC(model_inputs,m,t,E,ra,dec,eps,counts):\n",
    "    B0 = model_inputs[0]\n",
    "    T0 = model_inputs[1]\n",
    "    #alpha0=170.66855149\n",
    "    #delta0=4.02092024\n",
    "    alpha0 = model_inputs[2]\n",
    "    delta0 = model_inputs[3]\n",
    "    if T0 < 0:\n",
    "        return(-10**(20))\n",
    "    if B0 < 0:\n",
    "        LL_bg = [-np.abs(np.log(np.abs(S0)))*10**20]\n",
    "        LL_bg = [0]\n",
    "        #print('below min B0, S0 = ',S0)\n",
    "    else:\n",
    "        flux_bkgd = B0*np.exp(-(E-m/2)/T0)\n",
    "        mu = flux_bkgd * eps\n",
    "        LLp = LL_prior(alpha0,delta0)\n",
    "        LL_bg = counts*np.log(mu)-mu-np.log(factorial_vec(counts)) - LLp\n",
    "        #print('LL = ',LL)\n",
    "        if np.isnan(LL_bg).any() == True:\n",
    "            print('Warning! Nan in LL')\n",
    "            print('model inputs = ',model_inputs) \n",
    "        #mu_bg = flux_bkgd * eps\n",
    "        #LL_bg = counts*np.log(mu_bg)-mu_bg-np.log(factorial_vec(counts))-LLp\n",
    "    return(sum(LL_bg))"
   ]
  },
  {
   "cell_type": "code",
   "execution_count": 165,
   "metadata": {},
   "outputs": [],
   "source": [
    "nwalkers = 32\n",
    "ndim = 4 # B0,T0,alpha0,delta0\n",
    "p0_B0 = np.abs(np.random.normal(S0_guess,0.1*S0_guess,nwalkers))\n",
    "p0_T0 = np.abs(np.random.normal(0.2,0.05,nwalkers))\n",
    "p0_alpha0 = np.random.normal(alpha_f,np.abs(0.1*alpha_f),nwalkers)\n",
    "p0_delta0 = np.random.normal(delta_f,np.abs(0.1*delta_f),nwalkers)\n",
    "p0 = np.asarray([[p0_B0[i],p0_T0[i],p0_alpha0[i],p0_delta0[i]] for i in range(nwalkers)])"
   ]
  },
  {
   "cell_type": "code",
   "execution_count": 166,
   "metadata": {},
   "outputs": [],
   "source": [
    "sampler_bg = emcee.EnsembleSampler(nwalkers, ndim, likelihood_BG_MCMC, args=[m,t,E,ra,dec,eps,counts])"
   ]
  },
  {
   "cell_type": "code",
   "execution_count": 167,
   "metadata": {},
   "outputs": [],
   "source": [
    "state = sampler_bg.run_mcmc(p0, 100)\n",
    "sampler_bg.reset()"
   ]
  },
  {
   "cell_type": "code",
   "execution_count": 169,
   "metadata": {},
   "outputs": [],
   "source": [
    "sampler_bg.run_mcmc(state, 1000);"
   ]
  },
  {
   "cell_type": "code",
   "execution_count": 170,
   "metadata": {},
   "outputs": [],
   "source": [
    "samples_bg = sampler_bg.get_chain(flat=True)"
   ]
  },
  {
   "cell_type": "code",
   "execution_count": 171,
   "metadata": {},
   "outputs": [
    {
     "data": {
      "text/plain": [
       "Text(0.5, 0, 'B0')"
      ]
     },
     "execution_count": 171,
     "metadata": {},
     "output_type": "execute_result"
    },
    {
     "data": {
      "image/png": "[encoded data removed]",
      "text/plain": [
       "<Figure size 432x288 with 1 Axes>"
      ]
     },
     "metadata": {
      "needs_background": "light"
     },
     "output_type": "display_data"
    }
   ],
   "source": [
    "plt.hist(samples[:,0],bins=np.logspace(-7,-2,100));\n",
    "plt.xscale('log'); plt.yscale('log');\n",
    "plt.xlabel('B0')"
   ]
  },
  {
   "cell_type": "markdown",
   "metadata": {},
   "source": [
    "## Save Results"
   ]
  },
  {
   "cell_type": "code",
   "execution_count": 85,
   "metadata": {},
   "outputs": [],
   "source": [
    "# Appends m, B0_star, T0_star, S0_star to a csv file (one file for all masses)\n",
    "d1 = {'m': m,'B0_star': [B0_star], 'T0_star': [T0_star], 'S0_star':[S0_star],'LL_star':[LL_star]}\n",
    "df_star = pd.DataFrame(data=d1)\n",
    "\n",
    "with open('output_star.csv', 'a') as f:\n",
    "    df_star.to_csv(f, index=False, mode='a',header=f.tell()==0)"
   ]
  },
  {
   "cell_type": "code",
   "execution_count": 86,
   "metadata": {},
   "outputs": [],
   "source": [
    "# Creates a new csv file for each axion mass\n",
    "d2 = {'S0': S0_list, 'Optimal LL': LL_optimum}\n",
    "df_LL = pd.DataFrame(data=d2)\n",
    "\n",
    "with open('output_LL_%s.csv'%i_m, 'a') as f:\n",
    "    df_LL.to_csv(f, index=False, mode='a',header=True)"
   ]
  },
  {
   "cell_type": "code",
   "execution_count": 236,
   "metadata": {},
   "outputs": [
    {
     "data": {
      "text/plain": [
       "23.75800000000004"
      ]
     },
     "execution_count": 236,
     "metadata": {},
     "output_type": "execute_result"
    }
   ],
   "source": [
    "m_list_test = np.arange(5.0,25.0,sigma_E)\n",
    "m_list_test[113]"
   ]
  },
  {
   "cell_type": "code",
   "execution_count": 88,
   "metadata": {},
   "outputs": [],
   "source": [
    "# Output: B0_star, T0_star, S0_star, S0_list, LL_optimum\n",
    "# 12 min for mass of 4 keV\n",
    "# 4 min for mass of 7.6 keV"
   ]
  },
  {
   "cell_type": "code",
   "execution_count": 124,
   "metadata": {},
   "outputs": [],
   "source": [
    "# Creates a new csv file for each axion mass\n",
    "d3 = {'S0': samples[:,2]}\n",
    "df_S0_hist = pd.DataFrame(data=d3)\n",
    "\n",
    "with open('test2_output_S0_hist_%s.csv'%i_m, 'a') as f:\n",
    "    df_S0_hist.to_csv(f, index=False, mode='a',header=True)"
   ]
  },
  {
   "cell_type": "code",
   "execution_count": null,
   "metadata": {},
   "outputs": [],
   "source": [
    "# FROM OLD CLUSTER CODE:\n",
    "#d1 ={'m':[m],'B0_star':[B0_star],'T0_star':[T0_star],'S0_star':[S0_star],'S0_1sig_p$\n",
    "#df_star = pd.DataFrame(data=d1)\n",
    "#with open('Output/Results/Mock_6_take3/output_star.csv', 'a') as f:\n",
    "#    df_star.to_csv(f, index=False, mode='a',header=f.tell()==0)\n",
    "\n",
    "#d2 = {'m':[m]*len(S0_list),'S0': S0_list, 'Optimal LL': LL_optimum}\n",
    "#df_LL = pd.DataFrame(data=d2)\n",
    "#with open('Output/Results/Mock_6_take3/output_LL_%s.csv'%i_m, 'a') as f:\n",
    "#    df_LL.to_csv(f, index=False, mode='a',header=True)"
   ]
  },
  {
   "cell_type": "markdown",
   "metadata": {},
   "source": [
    "## Power Constrained Limit"
   ]
  },
  {
   "cell_type": "code",
   "execution_count": null,
   "metadata": {},
   "outputs": [],
   "source": []
  }
 ],
 "metadata": {
  "kernelspec": {
   "display_name": "Python 3",
   "language": "python",
   "name": "python3"
  },
  "language_info": {
   "codemirror_mode": {
    "name": "ipython",
    "version": 3
   },
   "file_extension": ".py",
   "mimetype": "text/x-python",
   "name": "python",
   "nbconvert_exporter": "python",
   "pygments_lexer": "ipython3",
   "version": "3.7.4"
  }
 },
 "nbformat": 4,
 "nbformat_minor": 4
}
