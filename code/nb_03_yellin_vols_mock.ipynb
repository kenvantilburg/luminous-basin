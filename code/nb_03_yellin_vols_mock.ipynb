{
 "cells": [
  {
   "cell_type": "markdown",
   "metadata": {},
   "source": [
    "# Preamble"
   ]
  },
  {
   "cell_type": "code",
   "execution_count": 1,
   "metadata": {},
   "outputs": [],
   "source": [
    "import sys\n",
    "#sys.path.insert(0, dir_notebook)\n",
    "\n",
    "from my_units import *\n",
    "from functions_model import * \n",
    "from functions_load import *\n",
    "from functions_yellin import *\n",
    "\n",
    "k = 10 # number of bins\n",
    "\n",
    "i_mock = 6 # mock file number\n",
    "\n",
    "i_m = 146 # projection file number"
   ]
  },
  {
   "cell_type": "code",
   "execution_count": 2,
   "metadata": {},
   "outputs": [],
   "source": [
    "dir_home = '/mnt/home/kvantilburg/'\n",
    "dir_ceph = dir_home+'ceph/luminous-basin/'\n",
    "dir_events = dir_ceph+'mocks/event_lists/'\n",
    "dir_source = dir_ceph+'data/products_80610202001_orbit1_chu12_spatialARF/'\n",
    "dir_production = dir_ceph+'data/production/'"
   ]
  },
  {
   "cell_type": "code",
   "execution_count": 3,
   "metadata": {},
   "outputs": [],
   "source": [
    "dir_res = dir_ceph+'results/mocks/mock_'+str(i_mock)+'/'\n",
    "\n",
    "file_proj = dir_res+'proj/proj_'+str(i_mock)+'_'+str(i_m)+'_fid.csv'"
   ]
  },
  {
   "cell_type": "code",
   "execution_count": 4,
   "metadata": {},
   "outputs": [],
   "source": [
    "df_proj = pd.read_csv(file_proj)\n",
    "N_proj = len(df_proj)\n",
    "i_down_max = np.max([0,np.int(np.ceil(np.log(N_proj/100)/np.log(2)))])\n",
    "\n",
    "for i_down in range(0,1+i_down_max):\n",
    "    file_vol = dir_res+'vols/vols_k'+str(k)+'_'+str(i_mock)+'_'+str(i_m)+'_d_'+f'{i_down:02d}'+'_fid.csv'\n",
    "    \n",
    "    df_proj_sample = df_proj.sample(frac=2**(-i_down))\n",
    "\n",
    "    A, edges = np.histogramdd(sample=df_proj_sample.to_numpy(),\n",
    "                              bins=4*[np.linspace(0,1,k+1)]);\n",
    "\n",
    "    vols = maximal_cuboid_volumes(A)\n",
    "\n",
    "    df_vols = pd.DataFrame([vols],columns=['V_'+str(i) for i in range(len(vols))])\n",
    "\n",
    "    with open(file_vol,'w') as f: #open data file, in 'write mode'\n",
    "        df_vols.to_csv(f, index=False)"
   ]
  },
  {
   "cell_type": "code",
   "execution_count": 5,
   "metadata": {},
   "outputs": [
    {
     "data": {
      "text/html": [
       "<div>\n",
       "<style scoped>\n",
       "    .dataframe tbody tr th:only-of-type {\n",
       "        vertical-align: middle;\n",
       "    }\n",
       "\n",
       "    .dataframe tbody tr th {\n",
       "        vertical-align: top;\n",
       "    }\n",
       "\n",
       "    .dataframe thead th {\n",
       "        text-align: right;\n",
       "    }\n",
       "</style>\n",
       "<table border=\"1\" class=\"dataframe\">\n",
       "  <thead>\n",
       "    <tr style=\"text-align: right;\">\n",
       "      <th></th>\n",
       "      <th>V_0</th>\n",
       "      <th>V_1</th>\n",
       "      <th>V_2</th>\n",
       "      <th>V_3</th>\n",
       "      <th>V_4</th>\n",
       "      <th>V_5</th>\n",
       "      <th>V_6</th>\n",
       "      <th>V_7</th>\n",
       "      <th>V_8</th>\n",
       "      <th>V_9</th>\n",
       "      <th>...</th>\n",
       "      <th>V_30</th>\n",
       "      <th>V_31</th>\n",
       "      <th>V_32</th>\n",
       "      <th>V_33</th>\n",
       "      <th>V_34</th>\n",
       "      <th>V_35</th>\n",
       "      <th>V_36</th>\n",
       "      <th>V_37</th>\n",
       "      <th>V_38</th>\n",
       "      <th>V_39</th>\n",
       "    </tr>\n",
       "  </thead>\n",
       "  <tbody>\n",
       "    <tr>\n",
       "      <th>0</th>\n",
       "      <td>0.3888</td>\n",
       "      <td>0.4374</td>\n",
       "      <td>0.486</td>\n",
       "      <td>0.504</td>\n",
       "      <td>0.56</td>\n",
       "      <td>0.567</td>\n",
       "      <td>0.567</td>\n",
       "      <td>0.6</td>\n",
       "      <td>0.64</td>\n",
       "      <td>0.648</td>\n",
       "      <td>...</td>\n",
       "      <td>0.9</td>\n",
       "      <td>0.9</td>\n",
       "      <td>0.9</td>\n",
       "      <td>0.9</td>\n",
       "      <td>0.9</td>\n",
       "      <td>0.9</td>\n",
       "      <td>0.9</td>\n",
       "      <td>0.9</td>\n",
       "      <td>0.9</td>\n",
       "      <td>1.0</td>\n",
       "    </tr>\n",
       "  </tbody>\n",
       "</table>\n",
       "<p>1 rows × 40 columns</p>\n",
       "</div>"
      ],
      "text/plain": [
       "      V_0     V_1    V_2    V_3   V_4    V_5    V_6  V_7   V_8    V_9  ...  \\\n",
       "0  0.3888  0.4374  0.486  0.504  0.56  0.567  0.567  0.6  0.64  0.648  ...   \n",
       "\n",
       "   V_30  V_31  V_32  V_33  V_34  V_35  V_36  V_37  V_38  V_39  \n",
       "0   0.9   0.9   0.9   0.9   0.9   0.9   0.9   0.9   0.9   1.0  \n",
       "\n",
       "[1 rows x 40 columns]"
      ]
     },
     "execution_count": 5,
     "metadata": {},
     "output_type": "execute_result"
    }
   ],
   "source": [
    "df_vols"
   ]
  },
  {
   "cell_type": "markdown",
   "metadata": {},
   "source": [
    "## old"
   ]
  },
  {
   "cell_type": "code",
   "execution_count": 23,
   "metadata": {},
   "outputs": [
    {
     "data": {
      "text/html": [
       "<div>\n",
       "<style scoped>\n",
       "    .dataframe tbody tr th:only-of-type {\n",
       "        vertical-align: middle;\n",
       "    }\n",
       "\n",
       "    .dataframe tbody tr th {\n",
       "        vertical-align: top;\n",
       "    }\n",
       "\n",
       "    .dataframe thead th {\n",
       "        text-align: right;\n",
       "    }\n",
       "</style>\n",
       "<table border=\"1\" class=\"dataframe\">\n",
       "  <thead>\n",
       "    <tr style=\"text-align: right;\">\n",
       "      <th></th>\n",
       "      <th>r_1</th>\n",
       "      <th>r_2</th>\n",
       "      <th>r_3</th>\n",
       "      <th>r_4</th>\n",
       "    </tr>\n",
       "  </thead>\n",
       "  <tbody>\n",
       "    <tr>\n",
       "      <th>0</th>\n",
       "      <td>0.726279</td>\n",
       "      <td>0.448857</td>\n",
       "      <td>0.007232</td>\n",
       "      <td>0.000314</td>\n",
       "    </tr>\n",
       "    <tr>\n",
       "      <th>1</th>\n",
       "      <td>0.726365</td>\n",
       "      <td>0.507507</td>\n",
       "      <td>0.038571</td>\n",
       "      <td>0.000294</td>\n",
       "    </tr>\n",
       "    <tr>\n",
       "      <th>2</th>\n",
       "      <td>0.473596</td>\n",
       "      <td>0.287758</td>\n",
       "      <td>0.010591</td>\n",
       "      <td>0.000404</td>\n",
       "    </tr>\n",
       "    <tr>\n",
       "      <th>3</th>\n",
       "      <td>0.961928</td>\n",
       "      <td>0.779661</td>\n",
       "      <td>0.033101</td>\n",
       "      <td>0.002371</td>\n",
       "    </tr>\n",
       "    <tr>\n",
       "      <th>4</th>\n",
       "      <td>0.237330</td>\n",
       "      <td>0.774180</td>\n",
       "      <td>0.008681</td>\n",
       "      <td>0.001645</td>\n",
       "    </tr>\n",
       "    <tr>\n",
       "      <th>...</th>\n",
       "      <td>...</td>\n",
       "      <td>...</td>\n",
       "      <td>...</td>\n",
       "      <td>...</td>\n",
       "    </tr>\n",
       "    <tr>\n",
       "      <th>4297</th>\n",
       "      <td>0.665235</td>\n",
       "      <td>0.067957</td>\n",
       "      <td>0.035701</td>\n",
       "      <td>0.989066</td>\n",
       "    </tr>\n",
       "    <tr>\n",
       "      <th>4298</th>\n",
       "      <td>0.841656</td>\n",
       "      <td>0.710971</td>\n",
       "      <td>0.000666</td>\n",
       "      <td>0.974029</td>\n",
       "    </tr>\n",
       "    <tr>\n",
       "      <th>4299</th>\n",
       "      <td>0.060323</td>\n",
       "      <td>0.785782</td>\n",
       "      <td>0.005384</td>\n",
       "      <td>0.964529</td>\n",
       "    </tr>\n",
       "    <tr>\n",
       "      <th>4300</th>\n",
       "      <td>0.770947</td>\n",
       "      <td>0.293007</td>\n",
       "      <td>0.036575</td>\n",
       "      <td>0.999111</td>\n",
       "    </tr>\n",
       "    <tr>\n",
       "      <th>4301</th>\n",
       "      <td>0.225545</td>\n",
       "      <td>0.429955</td>\n",
       "      <td>0.042728</td>\n",
       "      <td>0.983191</td>\n",
       "    </tr>\n",
       "  </tbody>\n",
       "</table>\n",
       "<p>4302 rows × 4 columns</p>\n",
       "</div>"
      ],
      "text/plain": [
       "           r_1       r_2       r_3       r_4\n",
       "0     0.726279  0.448857  0.007232  0.000314\n",
       "1     0.726365  0.507507  0.038571  0.000294\n",
       "2     0.473596  0.287758  0.010591  0.000404\n",
       "3     0.961928  0.779661  0.033101  0.002371\n",
       "4     0.237330  0.774180  0.008681  0.001645\n",
       "...        ...       ...       ...       ...\n",
       "4297  0.665235  0.067957  0.035701  0.989066\n",
       "4298  0.841656  0.710971  0.000666  0.974029\n",
       "4299  0.060323  0.785782  0.005384  0.964529\n",
       "4300  0.770947  0.293007  0.036575  0.999111\n",
       "4301  0.225545  0.429955  0.042728  0.983191\n",
       "\n",
       "[4302 rows x 4 columns]"
      ]
     },
     "execution_count": 23,
     "metadata": {},
     "output_type": "execute_result"
    }
   ],
   "source": [
    "list_files_proj = np.sort([dir_proj+file for file in listdir(dir_proj) if file[0:4]=='proj'])\n",
    "file = list_files_proj[i_file]\n",
    "df_proj = pd.read_csv(file)\n",
    "df_proj"
   ]
  },
  {
   "cell_type": "code",
   "execution_count": 28,
   "metadata": {},
   "outputs": [],
   "source": [
    "A, edges = np.histogramdd(sample=df_proj.to_numpy(),bins=4*[np.linspace(0,1,k+1)]);"
   ]
  },
  {
   "cell_type": "code",
   "execution_count": 31,
   "metadata": {},
   "outputs": [
    {
     "data": {
      "text/plain": [
       "18.0"
      ]
     },
     "execution_count": 31,
     "metadata": {},
     "output_type": "execute_result"
    }
   ],
   "source": [
    "np.sum(A)"
   ]
  },
  {
   "cell_type": "code",
   "execution_count": 36,
   "metadata": {},
   "outputs": [],
   "source": [
    "vols = maximal_cuboid_volumes(A)"
   ]
  },
  {
   "cell_type": "code",
   "execution_count": 37,
   "metadata": {},
   "outputs": [
    {
     "data": {
      "text/plain": [
       "array([0.3645, 0.504 , 0.504 , 0.567 , 0.648 , 0.648 , 0.729 , 0.729 ,\n",
       "       0.8   , 0.81  , 0.81  , 0.81  , 0.9   , 0.9   , 0.9   , 0.9   ,\n",
       "       0.9   , 0.9   , 1.    ])"
      ]
     },
     "execution_count": 37,
     "metadata": {},
     "output_type": "execute_result"
    }
   ],
   "source": [
    "vols"
   ]
  },
  {
   "cell_type": "code",
   "execution_count": 34,
   "metadata": {},
   "outputs": [],
   "source": [
    "df_vols = pd.DataFrame([vols],columns=['V_'+str(i) for i in range(len(vols))])"
   ]
  },
  {
   "cell_type": "code",
   "execution_count": 35,
   "metadata": {},
   "outputs": [
    {
     "data": {
      "text/html": [
       "<div>\n",
       "<style scoped>\n",
       "    .dataframe tbody tr th:only-of-type {\n",
       "        vertical-align: middle;\n",
       "    }\n",
       "\n",
       "    .dataframe tbody tr th {\n",
       "        vertical-align: top;\n",
       "    }\n",
       "\n",
       "    .dataframe thead th {\n",
       "        text-align: right;\n",
       "    }\n",
       "</style>\n",
       "<table border=\"1\" class=\"dataframe\">\n",
       "  <thead>\n",
       "    <tr style=\"text-align: right;\">\n",
       "      <th></th>\n",
       "      <th>V_0</th>\n",
       "      <th>V_1</th>\n",
       "      <th>V_2</th>\n",
       "      <th>V_3</th>\n",
       "      <th>V_4</th>\n",
       "      <th>V_5</th>\n",
       "      <th>V_6</th>\n",
       "      <th>V_7</th>\n",
       "      <th>V_8</th>\n",
       "      <th>V_9</th>\n",
       "      <th>V_10</th>\n",
       "      <th>V_11</th>\n",
       "      <th>V_12</th>\n",
       "      <th>V_13</th>\n",
       "      <th>V_14</th>\n",
       "      <th>V_15</th>\n",
       "      <th>V_16</th>\n",
       "      <th>V_17</th>\n",
       "      <th>V_18</th>\n",
       "    </tr>\n",
       "  </thead>\n",
       "  <tbody>\n",
       "    <tr>\n",
       "      <th>0</th>\n",
       "      <td>0.3645</td>\n",
       "      <td>0.504</td>\n",
       "      <td>0.504</td>\n",
       "      <td>0.567</td>\n",
       "      <td>0.648</td>\n",
       "      <td>0.648</td>\n",
       "      <td>0.729</td>\n",
       "      <td>0.729</td>\n",
       "      <td>0.8</td>\n",
       "      <td>0.81</td>\n",
       "      <td>0.81</td>\n",
       "      <td>0.81</td>\n",
       "      <td>0.9</td>\n",
       "      <td>0.9</td>\n",
       "      <td>0.9</td>\n",
       "      <td>0.9</td>\n",
       "      <td>0.9</td>\n",
       "      <td>0.9</td>\n",
       "      <td>1.0</td>\n",
       "    </tr>\n",
       "  </tbody>\n",
       "</table>\n",
       "</div>"
      ],
      "text/plain": [
       "      V_0    V_1    V_2    V_3    V_4    V_5    V_6    V_7  V_8   V_9  V_10  \\\n",
       "0  0.3645  0.504  0.504  0.567  0.648  0.648  0.729  0.729  0.8  0.81  0.81   \n",
       "\n",
       "   V_11  V_12  V_13  V_14  V_15  V_16  V_17  V_18  \n",
       "0  0.81   0.9   0.9   0.9   0.9   0.9   0.9   1.0  "
      ]
     },
     "execution_count": 35,
     "metadata": {},
     "output_type": "execute_result"
    }
   ],
   "source": [
    "df_vols"
   ]
  }
 ],
 "metadata": {
  "kernelspec": {
   "display_name": "ss_sim",
   "language": "python",
   "name": "ss_sim"
  },
  "language_info": {
   "codemirror_mode": {
    "name": "ipython",
    "version": 3
   },
   "file_extension": ".py",
   "mimetype": "text/x-python",
   "name": "python",
   "nbconvert_exporter": "python",
   "pygments_lexer": "ipython3",
   "version": "3.8.5"
  }
 },
 "nbformat": 4,
 "nbformat_minor": 4
}
