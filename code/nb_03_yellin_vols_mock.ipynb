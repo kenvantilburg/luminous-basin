{
 "cells": [
  {
   "cell_type": "markdown",
   "metadata": {},
   "source": [
    "# Preamble"
   ]
  },
  {
   "cell_type": "code",
   "execution_count": 1,
   "metadata": {},
   "outputs": [],
   "source": [
    "import sys\n",
    "#sys.path.insert(0, dir_notebook)\n",
    "\n",
    "from my_units import *\n",
    "from functions_model import * \n",
    "from functions_load import *\n",
    "from functions_yellin import *\n",
    "\n",
    "k = 10 # number of bins\n",
    "\n",
    "i_mock = 6 # mock file number\n",
    "\n",
    "i_m = 146 # projection file number"
   ]
  },
  {
   "cell_type": "code",
   "execution_count": 2,
   "metadata": {},
   "outputs": [],
   "source": [
    "dir_home = '/mnt/home/kvantilburg/'\n",
    "dir_ceph = dir_home+'ceph/luminous-basin/'\n",
    "dir_events = dir_ceph+'mocks/event_lists/'\n",
    "dir_source = dir_ceph+'data/products_80610202001_orbit1_chu12_spatialARF/'\n",
    "dir_production = dir_ceph+'data/production/'\n",
    "dir_res = dir_ceph+'results/mocks/mock_'+str(i_mock)+'/'\n",
    "\n",
    "file_proj = dir_res+'proj/proj_'+str(i_mock)+'_'+str(i_m)+'_fid.csv'"
   ]
  },
  {
   "cell_type": "code",
   "execution_count": 4,
   "metadata": {},
   "outputs": [],
   "source": [
    "df_proj = pd.read_csv(file_proj)\n",
    "N_proj = len(df_proj)\n",
    "i_down_max = np.max([0,np.int(np.ceil(np.log(N_proj/100)/np.log(2)))])\n",
    "\n",
    "for i_down in range(0,1+i_down_max):\n",
    "    file_vol = dir_res+'vols/vols_k'+str(k)+'_'+str(i_mock)+'_'+str(i_m)+'_d_'+f'{i_down:02d}'+'_fid.csv'\n",
    "    \n",
    "    df_proj_sample = df_proj.sample(frac=2**(-i_down))\n",
    "\n",
    "    A, edges = np.histogramdd(sample=df_proj_sample.to_numpy(),\n",
    "                              bins=4*[np.linspace(0,1,k+1)]);\n",
    "\n",
    "    vols = maximal_cuboid_volumes(A)\n",
    "\n",
    "    df_vols = pd.DataFrame([vols],columns=['V_'+str(i) for i in range(len(vols))])\n",
    "\n",
    "    with open(file_vol,'w') as f: #open data file, in 'write mode'\n",
    "        df_vols.to_csv(f, index=False)"
   ]
  },
  {
   "cell_type": "code",
   "execution_count": 5,
   "metadata": {},
   "outputs": [
    {
     "data": {
      "text/html": [
       "<div>\n",
       "<style scoped>\n",
       "    .dataframe tbody tr th:only-of-type {\n",
       "        vertical-align: middle;\n",
       "    }\n",
       "\n",
       "    .dataframe tbody tr th {\n",
       "        vertical-align: top;\n",
       "    }\n",
       "\n",
       "    .dataframe thead th {\n",
       "        text-align: right;\n",
       "    }\n",
       "</style>\n",
       "<table border=\"1\" class=\"dataframe\">\n",
       "  <thead>\n",
       "    <tr style=\"text-align: right;\">\n",
       "      <th></th>\n",
       "      <th>V_0</th>\n",
       "      <th>V_1</th>\n",
       "      <th>V_2</th>\n",
       "      <th>V_3</th>\n",
       "      <th>V_4</th>\n",
       "      <th>V_5</th>\n",
       "      <th>V_6</th>\n",
       "      <th>V_7</th>\n",
       "      <th>V_8</th>\n",
       "      <th>V_9</th>\n",
       "      <th>...</th>\n",
       "      <th>V_30</th>\n",
       "      <th>V_31</th>\n",
       "      <th>V_32</th>\n",
       "      <th>V_33</th>\n",
       "      <th>V_34</th>\n",
       "      <th>V_35</th>\n",
       "      <th>V_36</th>\n",
       "      <th>V_37</th>\n",
       "      <th>V_38</th>\n",
       "      <th>V_39</th>\n",
       "    </tr>\n",
       "  </thead>\n",
       "  <tbody>\n",
       "    <tr>\n",
       "      <th>0</th>\n",
       "      <td>0.3888</td>\n",
       "      <td>0.4374</td>\n",
       "      <td>0.486</td>\n",
       "      <td>0.504</td>\n",
       "      <td>0.56</td>\n",
       "      <td>0.567</td>\n",
       "      <td>0.567</td>\n",
       "      <td>0.6</td>\n",
       "      <td>0.64</td>\n",
       "      <td>0.648</td>\n",
       "      <td>...</td>\n",
       "      <td>0.9</td>\n",
       "      <td>0.9</td>\n",
       "      <td>0.9</td>\n",
       "      <td>0.9</td>\n",
       "      <td>0.9</td>\n",
       "      <td>0.9</td>\n",
       "      <td>0.9</td>\n",
       "      <td>0.9</td>\n",
       "      <td>0.9</td>\n",
       "      <td>1.0</td>\n",
       "    </tr>\n",
       "  </tbody>\n",
       "</table>\n",
       "<p>1 rows × 40 columns</p>\n",
       "</div>"
      ],
      "text/plain": [
       "      V_0     V_1    V_2    V_3   V_4    V_5    V_6  V_7   V_8    V_9  ...  \\\n",
       "0  0.3888  0.4374  0.486  0.504  0.56  0.567  0.567  0.6  0.64  0.648  ...   \n",
       "\n",
       "   V_30  V_31  V_32  V_33  V_34  V_35  V_36  V_37  V_38  V_39  \n",
       "0   0.9   0.9   0.9   0.9   0.9   0.9   0.9   0.9   0.9   1.0  \n",
       "\n",
       "[1 rows x 40 columns]"
      ]
     },
     "execution_count": 5,
     "metadata": {},
     "output_type": "execute_result"
    }
   ],
   "source": [
    "df_vols"
   ]
  }
 ],
 "metadata": {
  "kernelspec": {
   "display_name": "ss_sim",
   "language": "python",
   "name": "ss_sim"
  },
  "language_info": {
   "codemirror_mode": {
    "name": "ipython",
    "version": 3
   },
   "file_extension": ".py",
   "mimetype": "text/x-python",
   "name": "python",
   "nbconvert_exporter": "python",
   "pygments_lexer": "ipython3",
   "version": "3.8.5"
  }
 },
 "nbformat": 4,
 "nbformat_minor": 4
}
