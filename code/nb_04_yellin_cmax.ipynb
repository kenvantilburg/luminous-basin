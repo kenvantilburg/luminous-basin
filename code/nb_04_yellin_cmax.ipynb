{
 "cells": [
  {
   "cell_type": "markdown",
   "metadata": {},
   "source": [
    "# Preamble"
   ]
  },
  {
   "cell_type": "code",
   "execution_count": 6,
   "metadata": {},
   "outputs": [
    {
     "name": "stdout",
     "output_type": "stream",
     "text": [
      "12.100000000000009\n"
     ]
    }
   ],
   "source": [
    "import sys\n",
    "#sys.path.insert(0, dir_notebook)\n",
    "\n",
    "from my_units import *\n",
    "from functions_model import * \n",
    "from functions_load import *\n",
    "from functions_yellin import *\n",
    "\n",
    "i_mock = 6 # mock file number\n",
    "i_m = 91\n",
    "list_m = np.arange(3,40,0.1)\n",
    "m = list_m[i_m]  # axion mass [keV]\n",
    "print(m)\n",
    "k = 10 # number of bins"
   ]
  },
  {
   "cell_type": "code",
   "execution_count": 7,
   "metadata": {},
   "outputs": [],
   "source": [
    "dir_home = '/mnt/home/kvantilburg/'\n",
    "dir_ceph = dir_home+'ceph/luminous-basin/'\n",
    "dir_events = dir_ceph+'mocks/event_lists/'\n",
    "dir_source = dir_ceph+'data/products_80610202001_orbit1_chu12_spatialARF/'\n",
    "dir_production = dir_ceph+'data/production/'\n",
    "dir_mc = dir_ceph+'yellin_mc_vols/k10/'\n",
    "dir_res = dir_res = dir_ceph+'results/mocks/mock_'+str(i_mock)+'/'"
   ]
  },
  {
   "cell_type": "markdown",
   "metadata": {},
   "source": [
    "# Get $\\overline{C}_\\mathrm{max}$"
   ]
  },
  {
   "cell_type": "code",
   "execution_count": 9,
   "metadata": {},
   "outputs": [],
   "source": [
    "list_mu = np.logspace(0.2,2.11,201)[1:]\n",
    "df_C_max_bar = pd.read_csv(dir_mc+'vols_k10_cmax_bar.csv')\n",
    "df_C_max_bar = df_C_max_bar[df_C_max_bar['mu'] !='mu']\n",
    "df_C_max_bar = df_C_max_bar.astype('float')\n",
    "df_C_max_bar.sort_values(by='mu',ignore_index=True,inplace=True)\n",
    "err_frac = 1 / np.sqrt(df_C_max_bar['N_MC'] * (1-df_C_max_bar['C_max_bar']))\n",
    "int_C_max_bar = interp1d(df_C_max_bar['mu'],df_C_max_bar['C_max_bar'],kind='linear',bounds_error=False,fill_value=1.0)\n",
    "int_C_max_bar_2 = interp1d(df_C_max_bar['mu'],1-(1-2*err_frac)*(1-df_C_max_bar['C_max_bar']),kind='linear',bounds_error=False,fill_value=1.0)"
   ]
  },
  {
   "cell_type": "markdown",
   "metadata": {},
   "source": [
    "# Set mu limit"
   ]
  },
  {
   "cell_type": "code",
   "execution_count": 10,
   "metadata": {},
   "outputs": [
    {
     "data": {
      "text/plain": [
       "(10455, 7, 81.6796875)"
      ]
     },
     "execution_count": 10,
     "metadata": {},
     "output_type": "execute_result"
    }
   ],
   "source": [
    "file_proj = dir_res+'proj/proj_'+str(i_mock)+'_'+str(i_m)+'_fid.csv'\n",
    "\n",
    "df_proj = pd.read_csv(file_proj)\n",
    "N_proj = len(df_proj)\n",
    "i_down_max = np.max([0,np.int(np.ceil(np.log(N_proj/100)/np.log(2)))])\n",
    "N_proj, i_down_max, N_proj * 2.0**(-i_down_max)"
   ]
  },
  {
   "cell_type": "code",
   "execution_count": 11,
   "metadata": {},
   "outputs": [
    {
     "name": "stdout",
     "output_type": "stream",
     "text": [
      "i_down = 0 | len(vols) = 10456 | mu_guess = 128.82495516931337 | i_mu_guess = 199\n",
      "n_iter = 0 | mu = 128.82495516931337\n",
      "C_max = 0.0 | C_max_bar = 0.9981745407127439\n",
      "downsampling needed\n",
      "i_down = 1 | len(vols) = 5229 | mu_guess = 128.82495516931337 | i_mu_guess = 199\n",
      "n_iter = 0 | mu = 128.82495516931337\n",
      "C_max = 0.0 | C_max_bar = 0.9981745407127439\n",
      "downsampling needed\n",
      "i_down = 2 | len(vols) = 2615 | mu_guess = 128.82495516931337 | i_mu_guess = 199\n",
      "n_iter = 0 | mu = 128.82495516931337\n",
      "C_max = 0.0 | C_max_bar = 0.9981745407127439\n",
      "downsampling needed\n",
      "i_down = 3 | len(vols) = 1308 | mu_guess = 128.82495516931337 | i_mu_guess = 199\n",
      "n_iter = 0 | mu = 128.82495516931337\n",
      "C_max = 0.0 | C_max_bar = 0.9981745407127439\n",
      "downsampling needed\n",
      "i_down = 4 | len(vols) = 654 | mu_guess = 128.82495516931337 | i_mu_guess = 199\n",
      "n_iter = 0 | mu = 128.82495516931337\n",
      "C_max = 0.0 | C_max_bar = 0.9981745407127439\n",
      "downsampling needed\n",
      "i_down = 5 | len(vols) = 328 | mu_guess = 128.82495516931337 | i_mu_guess = 199\n",
      "n_iter = 0 | mu = 128.82495516931337\n",
      "C_max = 0.0 | C_max_bar = 0.9981745407127439\n",
      "downsampling needed\n",
      "i_down = 6 | len(vols) = 164 | mu_guess = 128.82495516931337 | i_mu_guess = 199\n",
      "n_iter = 0 | mu = 128.82495516931337\n",
      "C_max = 1.0 | C_max_bar = 0.9981745407127439\n",
      "hi\n",
      "n_iter = 1 | mu = 126.02305401393139\n",
      "C_max = 1.0 | C_max_bar = 0.9978990716960302\n",
      "hi\n",
      "n_iter = 2 | mu = 123.28209330346719\n",
      "C_max = 1.0 | C_max_bar = 0.9979086310607964\n",
      "hi\n",
      "n_iter = 3 | mu = 120.60074760293188\n",
      "C_max = 1.0 | C_max_bar = 0.9983475539522747\n",
      "hi\n",
      "n_iter = 4 | mu = 117.97772030511935\n",
      "C_max = 0.28048269998037717 | C_max_bar = 0.9976479424432054\n",
      "lo\n",
      "Iterative procedure converged.\n"
     ]
    }
   ],
   "source": [
    "for i_down in range(0,1+i_down_max):\n",
    "    file_vol = dir_res+'vols/vols_k'+str(k)+'_'+str(i_mock)+'_'+str(i_m)+'_d_'+f'{i_down:02d}'+'_fid.csv'\n",
    "    df_vol = pd.read_csv(file_vol)\n",
    "    vols = df_vol.iloc[0].to_numpy()\n",
    "    \n",
    "    try:\n",
    "        i_mu_guess = np.argwhere(list_mu > 1.5 * len(df_vol.iloc[0]))[0][0] # guess smallest mu > 1.5 counts observed\n",
    "        mu_guess = list_mu[i_mu_guess]\n",
    "    except:\n",
    "        i_mu_guess = len(list_mu)-1\n",
    "        mu_guess = np.max(list_mu)\n",
    "    print('i_down =',i_down,'| len(vols) =',len(vols),'| mu_guess =',mu_guess,'| i_mu_guess =',i_mu_guess)\n",
    "    \n",
    "    mu_lo = 0; C_max_lo = 0\n",
    "    mu_hi = 1e4; C_max_hi = 1\n",
    "    n_iter_max = 150\n",
    "    n_iter = 0\n",
    "    i_mu = i_mu_guess\n",
    "    n_hi = 0\n",
    "    n_lo = 0\n",
    "    while (n_iter < n_iter_max) & ((n_lo < 0.5) or (n_hi < 0.5)):\n",
    "        mu = list_mu[i_mu]\n",
    "        print('n_iter =',n_iter,'|','mu =',mu)\n",
    "        df = pd.read_csv(dir_mc+'vols_k10_imu_'+f'{i_mu:03d}'+'.csv',\n",
    "                         names=['mu']+list(range(0,np.int(50+1.2*mu),1)),skiprows=[0]) #set no. of columns large\n",
    "        df = df.replace(np.nan,1.0) #set all nan volumes to 1\n",
    "        nunique = df.nunique()\n",
    "        cols_to_drop = nunique[nunique == 1].index\n",
    "        df = df.drop(cols_to_drop[1:], axis=1)\n",
    "        \n",
    "        vols_mc = df.to_numpy()[:,1:] #get volumes\n",
    "        N = vols_mc.shape[0]\n",
    "        list_C_n = np.zeros(np.min([len(vols),vols_mc.shape[1]]))\n",
    "        for n in range(np.min([len(vols),vols_mc.shape[1]])):\n",
    "            res = stats.cumfreq(vols_mc[:,n],numbins = 1001,defaultreallimits=(0,1))\n",
    "            x = res.lowerlimit + np.linspace(0, res.binsize*res.cumcount.size,res.cumcount.size)\n",
    "            C_n = interp1d(x,res.cumcount/N)\n",
    "            list_C_n[n] = C_n(vols[n])\n",
    "        C_max = np.max(list_C_n);\n",
    " \n",
    "        print('C_max =',C_max,'| C_max_bar =', int_C_max_bar_2(mu))\n",
    "    \n",
    "        if (n_iter==0) & (C_max < int_C_max_bar_2(mu)):\n",
    "            print('downsampling needed')\n",
    "            break\n",
    "        \n",
    "        if C_max >= int_C_max_bar_2(mu):\n",
    "            mu_hi = mu\n",
    "            C_max_hi = C_max\n",
    "            print('hi')\n",
    "            n_hi = 1\n",
    "            n_lo = 0\n",
    "        else:\n",
    "            n_lo = 1\n",
    "            mu_lo = mu\n",
    "            C_max_lo = C_max\n",
    "            print('lo')\n",
    "            break\n",
    "        i_mu = i_mu - 1\n",
    "        n_iter += 1\n",
    "    if (n_lo == 1) & (n_hi == 1):\n",
    "        print('Iterative procedure converged.')\n",
    "        break\n",
    "N_sig_lim_yellin = mu_hi * (N_proj / (len(vols)-1))"
   ]
  },
  {
   "cell_type": "code",
   "execution_count": 12,
   "metadata": {},
   "outputs": [
    {
     "data": {
      "image/png": "[encoded data removed]",
      "text/plain": [
       "<Figure size 800x500 with 1 Axes>"
      ]
     },
     "metadata": {},
     "output_type": "display_data"
    }
   ],
   "source": [
    "fig,ax = plt.subplots(1,1,figsize=(8,5))\n",
    "ax.plot([mu_lo,mu_hi],1-np.asarray([C_max_lo,C_max_hi]),color=(0.2,0.2,0.8),marker='.',markersize=10,label='$C_\\mathrm{max}$');\n",
    "ax.plot([mu_lo,mu_hi],1-int_C_max_bar(np.asarray([mu_lo,mu_hi])),color=(0,0,0),marker='.',markersize=10,label='$\\overline{C}_\\mathrm{max}^\\mathrm{MC}$');\n",
    "ax.plot([mu_lo,mu_hi],1-int_C_max_bar_2(np.asarray([mu_lo,mu_hi])),color=(1,0,0),marker='.',markersize=10,label='$\\overline{C}_\\mathrm{max}^\\mathrm{lim}$');\n",
    "ax.set_xlabel('$\\mu$'); ax.set_ylabel('$1-C_\\mathrm{max}$'); \n",
    "ax.set_title(r'$N_\\mathrm{events} =$'+str(N_proj)+', $N_\\mathrm{sig}^\\mathrm{lim,Yellin} = $'\n",
    "             +str(N_sig_lim_yellin)[0:8]+'\\n'+'$N_\\mathrm{vols} = $'+str(len(vols))+', $\\log_2(\\mathrm{downsampling}) =$'+str(i_down))\n",
    "ax.set_yscale('log');\n",
    "ax.set_ylim(1e-4,1e0)\n",
    "ax.legend(loc='upper right');"
   ]
  },
  {
   "cell_type": "code",
   "execution_count": 13,
   "metadata": {},
   "outputs": [
    {
     "data": {
      "text/html": [
       "<div>\n",
       "<style scoped>\n",
       "    .dataframe tbody tr th:only-of-type {\n",
       "        vertical-align: middle;\n",
       "    }\n",
       "\n",
       "    .dataframe tbody tr th {\n",
       "        vertical-align: top;\n",
       "    }\n",
       "\n",
       "    .dataframe thead th {\n",
       "        text-align: right;\n",
       "    }\n",
       "</style>\n",
       "<table border=\"1\" class=\"dataframe\">\n",
       "  <thead>\n",
       "    <tr style=\"text-align: right;\">\n",
       "      <th></th>\n",
       "      <th>m</th>\n",
       "      <th>N_sig_lim_yellin</th>\n",
       "    </tr>\n",
       "  </thead>\n",
       "  <tbody>\n",
       "    <tr>\n",
       "      <th>0</th>\n",
       "      <td>12.1</td>\n",
       "      <td>7735.46513</td>\n",
       "    </tr>\n",
       "  </tbody>\n",
       "</table>\n",
       "</div>"
      ],
      "text/plain": [
       "      m  N_sig_lim_yellin\n",
       "0  12.1        7735.46513"
      ]
     },
     "execution_count": 13,
     "metadata": {},
     "output_type": "execute_result"
    }
   ],
   "source": [
    "df = pd.DataFrame(data = [[m,N_sig_lim_yellin,]], columns=['m','N_sig_lim_yellin'])\n",
    "df"
   ]
  },
  {
   "cell_type": "code",
   "execution_count": null,
   "metadata": {},
   "outputs": [],
   "source": []
  }
 ],
 "metadata": {
  "kernelspec": {
   "display_name": "ss_sim",
   "language": "python",
   "name": "ss_sim"
  },
  "language_info": {
   "codemirror_mode": {
    "name": "ipython",
    "version": 3
   },
   "file_extension": ".py",
   "mimetype": "text/x-python",
   "name": "python",
   "nbconvert_exporter": "python",
   "pygments_lexer": "ipython3",
   "version": "3.8.5"
  }
 },
 "nbformat": 4,
 "nbformat_minor": 4
}
