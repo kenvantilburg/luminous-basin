{
 "cells": [
  {
   "cell_type": "code",
   "execution_count": 20,
   "metadata": {},
   "outputs": [],
   "source": [
    "i_mock_str = '6'\n",
    "i_m_str = '240'"
   ]
  },
  {
   "cell_type": "code",
   "execution_count": 21,
   "metadata": {},
   "outputs": [
    {
     "name": "stdout",
     "output_type": "stream",
     "text": [
      "i_mock = 6 | i_m = 240\n",
      "m =27.00000: initialized, loading data...\n"
     ]
    }
   ],
   "source": [
    "dir_home = '/mnt/home/kvantilburg/'\n",
    "dir_ceph = dir_home+'ceph/LuminousBasin/'\n",
    "dir_events = dir_ceph+'mocks/event_lists/'\n",
    "dir_source = dir_ceph+'data/products_80610202001_orbit1_chu12_spatialARF/'\n",
    "dir_production = dir_ceph+'data/production/'\n",
    "dir_proj = dir_ceph+'yellin_projections/mocks/'\n",
    "\n",
    "import sys\n",
    "#sys.path.insert(0, dir_notebook)\n",
    "\n",
    "from my_units import *\n",
    "from model_functions import * \n",
    "from load_functions import *\n",
    "from yellin_functions import *\n",
    "\n",
    "#i_mock = np.int(sys.argv[1]) # mock file number\n",
    "#i_m = np.int(sys.argv[2]) # axion mass integer\n",
    "print('i_mock =',str(i_mock),'| i_m =',str(i_m))\n",
    "\n",
    "file_rho0 = dir_proj+'rho0_'+str(i_mock)+'_'+str(i_m)+'_fid.csv'\n",
    "file_proj = dir_proj+'proj_'+str(i_mock)+'_'+str(i_m)+'_fid.csv'\n",
    "\n",
    "# time intervals [seconds]\n",
    "good_time_ints = np.asarray([\n",
    "    [3.37603341e+08, 3.376033795e+08],\n",
    "    [3.376036305e+08, 3.3760522972e+08]\n",
    "])\n",
    "exposure = np.sum([interval[1]-interval[0] for interval in good_time_ints])\n",
    "livetime = np.asarray([1501.16599845754, 1481.86081041239])/exposure # effective fractional livetime of A and B\n",
    "duration = np.max(good_time_ints)- np.min(good_time_ints)\n",
    "\n",
    "# energy bins [units = keV]\n",
    "sigma_E = 0.166 # energy resolution [keV]\n",
    "n_sigma_E = 3\n",
    "width_E = 0.04 # energy bin width is 40 keV\n",
    "bins_E = np.arange(1.6,200.01,width_E)\n",
    "list_m = np.arange(3,40,0.1)\n",
    "m = list_m[i_m]  # axion mass [keV]\n",
    "\n",
    "# fiducial solar position \n",
    "ra_sun_fid = 170.66855149 * degree\n",
    "dec_sun_fid = 4.02092024 * degree\n",
    "# error on solar position \n",
    "sigma_sun = 2 * arcmin\n",
    "# shift in solar position over duration starting from t_min\n",
    "delta_ra_sun = 0.01962028 * degree\n",
    "delta_dec_sun = -0.00835105 * degree\n",
    "t_min = 3.37603341e+08\n",
    "sigma_sun = 2*arcmin # error on solar position\n",
    "\n",
    "# initial solar position\n",
    "ra_sun_0 = ra_sun_fid\n",
    "dec_sun_0 = dec_sun_fid\n",
    "\n",
    "list_file_events = np.sort([dir_events+file for file in listdir(dir_events) if file[0:len(str(i_mock))+1]==str(i_mock)+'_'])\n",
    "file_box_centers = dir_source+'box_centers.txt'\n",
    "list_file_arf = [dir_source+'arfs/'+file for file in listdir(dir_source+'arfs/')]\n",
    "\n",
    "##### load data #####\n",
    "print('m ='+str(m)[0:8]+': initialized, loading data...')\n",
    "\n",
    "df_box = load_box(file_box_centers)\n",
    "rotation = df_box['rotation'].iloc[0] * degree\n",
    "df_arf = load_arf_m(list_file_arf,bins_E,df_box,m,sigma_E,n_sigma_E)\n",
    "df_events_m = load_events_m(list_file_events,m,sigma_E,n_sigma_E)\n",
    "\n",
    "t = df_events_m['t'].to_numpy()\n",
    "E = df_events_m['E'].to_numpy()\n",
    "ra = df_events_m['ra'].to_numpy()\n",
    "dec = df_events_m['dec'].to_numpy()\n",
    "x,y = map_x_y_from_ra_dec(ra,dec,rotation)"
   ]
  },
  {
   "cell_type": "code",
   "execution_count": null,
   "metadata": {},
   "outputs": [],
   "source": [
    "print('m ='+str(m)[0:8]+': data files loaded, interpolating arf...')\n",
    "\n",
    "##### yellin/poisson projection #####\n",
    "int_arf, x_min, x_max, y_min, y_max = load_int_arf(m,df_arf,rotation,bins_E,width_E) # arf interpolation function + boundaries\n",
    "\n",
    "print('m ='+str(m)[0:8]+': arf interpolated, projecting onto unit cuboid...')\n",
    "\n",
    "r_1, r_2, r_3, r_4, rho_0 = proj_unit_cuboid(t,E,x,y,m,ra_sun_0,dec_sun_0,delta_ra_sun,delta_dec_sun,t_min,duration, good_time_ints,livetime,bins_E,sigma_E,n_sigma_E,x_min,x_max,y_min,y_max,rotation,df_arf,int_arf,N_x=26,N_y=26) # project onto unit cuboid\n",
    "\n",
    "print('m ='+str(m)[0:8]+': projection complete, writing out data...')\n",
    "\n",
    "df_rho0 = pd.DataFrame(data=[[m,ra_sun_0,dec_sun_0,rho_0]],columns=['m','ra_sun_0','dec_sun_0','rho_0'])\n",
    "df_proj = pd.DataFrame(data=np.transpose([r_1,r_2,r_3,r_4]),columns=['r_1','r_2','r_3','r_4'])\n",
    "\n",
    "with open(file_rho0,'w') as f: #open data file, in 'write mode'\n",
    "    df_rho0.to_csv(f, index=False)\n",
    "with open(file_proj,'w') as f: #open data file, in 'write mode'\n",
    "    df_proj.to_csv(f, index=False)\n",
    "    \n",
    "print('m ='+str(m)+': done.')"
   ]
  }
 ],
 "metadata": {
  "kernelspec": {
   "display_name": "ss_sim",
   "language": "python",
   "name": "ss_sim"
  },
  "language_info": {
   "codemirror_mode": {
    "name": "ipython",
    "version": 3
   },
   "file_extension": ".py",
   "mimetype": "text/x-python",
   "name": "python",
   "nbconvert_exporter": "python",
   "pygments_lexer": "ipython3",
   "version": "3.8.5"
  }
 },
 "nbformat": 4,
 "nbformat_minor": 4
}
