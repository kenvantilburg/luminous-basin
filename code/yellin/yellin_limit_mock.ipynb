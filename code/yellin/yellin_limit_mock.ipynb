{
 "cells": [
  {
   "cell_type": "markdown",
   "metadata": {},
   "source": [
    "# Preamble"
   ]
  },
  {
   "cell_type": "code",
   "execution_count": 12,
   "metadata": {},
   "outputs": [],
   "source": [
    "%matplotlib inline\n",
    "from my_units import *\n",
    "from load_functions import *\n",
    "from yellin_functions import *"
   ]
  },
  {
   "cell_type": "code",
   "execution_count": 13,
   "metadata": {},
   "outputs": [],
   "source": [
    "dir_home = '/Users/kvantilburg/Dropbox/projects/LuminousBasin/LuminousBasin/luminous-basin/'\n",
    "dir_events = dir_home+'mocks/event_lists/'\n",
    "dir_source = dir_home+'data/likelihood_yellin_data/products_80610202001_orbit1_chu12_spatialARF/'\n",
    "dir_production = dir_home+'data/production/'"
   ]
  },
  {
   "cell_type": "markdown",
   "metadata": {},
   "source": [
    "# Parameters"
   ]
  },
  {
   "cell_type": "code",
   "execution_count": 14,
   "metadata": {},
   "outputs": [],
   "source": [
    "i_mock = '6' # mock file number\n",
    "m = 12 # axion mass [keV]\n",
    "sigma_E = 0.166 # energy resolution [keV]"
   ]
  },
  {
   "cell_type": "code",
   "execution_count": 15,
   "metadata": {},
   "outputs": [
    {
     "data": {
      "text/plain": [
       "array([0.91661945, 0.9048316 ])"
      ]
     },
     "execution_count": 15,
     "metadata": {},
     "output_type": "execute_result"
    }
   ],
   "source": [
    "# time intervals [seconds]\n",
    "good_time_ints = np.asarray([\n",
    "    [3.37603341e+08, 3.376033795e+08],\n",
    "    [3.376036305e+08, 3.3760522972e+08]\n",
    "])\n",
    "exposure = ((good_time_ints[0,1]-good_time_ints[0,0]) + (good_time_ints[1,1]-good_time_ints[1,0]))\n",
    "livetime = np.asarray([1501.16599845754, 1481.86081041239])/exposure # effective fractional livetime of A and B\n",
    "livetime "
   ]
  },
  {
   "cell_type": "code",
   "execution_count": 16,
   "metadata": {},
   "outputs": [],
   "source": [
    "# time bins\n",
    "N_bins_t = 10\n",
    "bins_t = np.linspace(good_time_ints[0][0], good_time_ints[-1][1], N_bins_t+1)\n",
    "# energy bins\n",
    "width_E = 0.04 # energy bin width is 40 keV\n",
    "bins_E = np.arange(1.6,200.01,width_E)"
   ]
  },
  {
   "cell_type": "code",
   "execution_count": 17,
   "metadata": {},
   "outputs": [],
   "source": [
    "# fiducial solar position [degrees]\n",
    "alpha0 = 170.66855149\n",
    "delta0 = 4.02092024\n",
    "# error on solar"
   ]
  },
  {
   "cell_type": "code",
   "execution_count": 18,
   "metadata": {},
   "outputs": [],
   "source": [
    "list_file_events = [dir_events+file for file in listdir(dir_events) if file[0:len(i_mock)+1]==i_mock+'_']\n",
    "file_box_centers = dir_source+'box_centers.txt'\n",
    "list_file_arf = [dir_source+'arfs/'+file for file in listdir(dir_source+'arfs/')]"
   ]
  },
  {
   "cell_type": "markdown",
   "metadata": {},
   "source": [
    "# Load data"
   ]
  },
  {
   "cell_type": "code",
   "execution_count": 19,
   "metadata": {},
   "outputs": [
    {
     "name": "stderr",
     "output_type": "stream",
     "text": [
      "339it [00:35,  9.65it/s]\n"
     ]
    }
   ],
   "source": [
    "df_data = load_data(m,sigma_E,good_time_ints,livetime,bins_t,bins_E,list_file_events,file_box_centers,list_file_arf)"
   ]
  },
  {
   "cell_type": "code",
   "execution_count": 20,
   "metadata": {},
   "outputs": [
    {
     "data": {
      "text/html": [
       "<div>\n",
       "<style scoped>\n",
       "    .dataframe tbody tr th:only-of-type {\n",
       "        vertical-align: middle;\n",
       "    }\n",
       "\n",
       "    .dataframe tbody tr th {\n",
       "        vertical-align: top;\n",
       "    }\n",
       "\n",
       "    .dataframe thead th {\n",
       "        text-align: right;\n",
       "    }\n",
       "</style>\n",
       "<table border=\"1\" class=\"dataframe\">\n",
       "  <thead>\n",
       "    <tr style=\"text-align: right;\">\n",
       "      <th></th>\n",
       "      <th>detector</th>\n",
       "      <th>idx_t</th>\n",
       "      <th>idx_E</th>\n",
       "      <th>i1</th>\n",
       "      <th>i2</th>\n",
       "      <th>t</th>\n",
       "      <th>E</th>\n",
       "      <th>ra</th>\n",
       "      <th>dec</th>\n",
       "      <th>exp</th>\n",
       "      <th>arf</th>\n",
       "      <th>Omega</th>\n",
       "      <th>counts</th>\n",
       "    </tr>\n",
       "  </thead>\n",
       "  <tbody>\n",
       "    <tr>\n",
       "      <th>0</th>\n",
       "      <td>A</td>\n",
       "      <td>0</td>\n",
       "      <td>102</td>\n",
       "      <td>-6</td>\n",
       "      <td>-6</td>\n",
       "      <td>3.376033e+08</td>\n",
       "      <td>5.68</td>\n",
       "      <td>170.889</td>\n",
       "      <td>3.75981</td>\n",
       "      <td>0.000000</td>\n",
       "      <td>97.389603</td>\n",
       "      <td>1.0</td>\n",
       "      <td>0</td>\n",
       "    </tr>\n",
       "    <tr>\n",
       "      <th>1</th>\n",
       "      <td>A</td>\n",
       "      <td>0</td>\n",
       "      <td>102</td>\n",
       "      <td>-6</td>\n",
       "      <td>-5</td>\n",
       "      <td>3.376033e+08</td>\n",
       "      <td>5.68</td>\n",
       "      <td>170.881</td>\n",
       "      <td>3.77425</td>\n",
       "      <td>0.000000</td>\n",
       "      <td>71.114639</td>\n",
       "      <td>1.0</td>\n",
       "      <td>0</td>\n",
       "    </tr>\n",
       "    <tr>\n",
       "      <th>2</th>\n",
       "      <td>A</td>\n",
       "      <td>0</td>\n",
       "      <td>102</td>\n",
       "      <td>-6</td>\n",
       "      <td>-4</td>\n",
       "      <td>3.376033e+08</td>\n",
       "      <td>5.68</td>\n",
       "      <td>170.872</td>\n",
       "      <td>3.78868</td>\n",
       "      <td>0.000000</td>\n",
       "      <td>117.963196</td>\n",
       "      <td>1.0</td>\n",
       "      <td>0</td>\n",
       "    </tr>\n",
       "    <tr>\n",
       "      <th>3</th>\n",
       "      <td>A</td>\n",
       "      <td>0</td>\n",
       "      <td>102</td>\n",
       "      <td>-6</td>\n",
       "      <td>-3</td>\n",
       "      <td>3.376033e+08</td>\n",
       "      <td>5.68</td>\n",
       "      <td>170.864</td>\n",
       "      <td>3.80311</td>\n",
       "      <td>0.000000</td>\n",
       "      <td>116.242241</td>\n",
       "      <td>1.0</td>\n",
       "      <td>0</td>\n",
       "    </tr>\n",
       "    <tr>\n",
       "      <th>4</th>\n",
       "      <td>A</td>\n",
       "      <td>0</td>\n",
       "      <td>102</td>\n",
       "      <td>-6</td>\n",
       "      <td>-2</td>\n",
       "      <td>3.376033e+08</td>\n",
       "      <td>5.68</td>\n",
       "      <td>170.856</td>\n",
       "      <td>3.81755</td>\n",
       "      <td>0.000000</td>\n",
       "      <td>203.614990</td>\n",
       "      <td>1.0</td>\n",
       "      <td>0</td>\n",
       "    </tr>\n",
       "    <tr>\n",
       "      <th>...</th>\n",
       "      <td>...</td>\n",
       "      <td>...</td>\n",
       "      <td>...</td>\n",
       "      <td>...</td>\n",
       "      <td>...</td>\n",
       "      <td>...</td>\n",
       "      <td>...</td>\n",
       "      <td>...</td>\n",
       "      <td>...</td>\n",
       "      <td>...</td>\n",
       "      <td>...</td>\n",
       "      <td>...</td>\n",
       "      <td>...</td>\n",
       "    </tr>\n",
       "    <tr>\n",
       "      <th>57455</th>\n",
       "      <td>B</td>\n",
       "      <td>9</td>\n",
       "      <td>118</td>\n",
       "      <td>6</td>\n",
       "      <td>2</td>\n",
       "      <td>3.376050e+08</td>\n",
       "      <td>6.32</td>\n",
       "      <td>171.009</td>\n",
       "      <td>3.97187</td>\n",
       "      <td>170.897354</td>\n",
       "      <td>121.035553</td>\n",
       "      <td>1.0</td>\n",
       "      <td>0</td>\n",
       "    </tr>\n",
       "    <tr>\n",
       "      <th>57456</th>\n",
       "      <td>B</td>\n",
       "      <td>9</td>\n",
       "      <td>118</td>\n",
       "      <td>6</td>\n",
       "      <td>3</td>\n",
       "      <td>3.376050e+08</td>\n",
       "      <td>6.32</td>\n",
       "      <td>171.001</td>\n",
       "      <td>3.98630</td>\n",
       "      <td>170.897354</td>\n",
       "      <td>99.170128</td>\n",
       "      <td>1.0</td>\n",
       "      <td>0</td>\n",
       "    </tr>\n",
       "    <tr>\n",
       "      <th>57457</th>\n",
       "      <td>B</td>\n",
       "      <td>9</td>\n",
       "      <td>118</td>\n",
       "      <td>6</td>\n",
       "      <td>4</td>\n",
       "      <td>3.376050e+08</td>\n",
       "      <td>6.32</td>\n",
       "      <td>170.992</td>\n",
       "      <td>4.00073</td>\n",
       "      <td>170.897354</td>\n",
       "      <td>71.558678</td>\n",
       "      <td>1.0</td>\n",
       "      <td>0</td>\n",
       "    </tr>\n",
       "    <tr>\n",
       "      <th>57458</th>\n",
       "      <td>B</td>\n",
       "      <td>9</td>\n",
       "      <td>118</td>\n",
       "      <td>6</td>\n",
       "      <td>5</td>\n",
       "      <td>3.376050e+08</td>\n",
       "      <td>6.32</td>\n",
       "      <td>170.984</td>\n",
       "      <td>4.01517</td>\n",
       "      <td>170.897354</td>\n",
       "      <td>70.092308</td>\n",
       "      <td>1.0</td>\n",
       "      <td>0</td>\n",
       "    </tr>\n",
       "    <tr>\n",
       "      <th>57459</th>\n",
       "      <td>B</td>\n",
       "      <td>9</td>\n",
       "      <td>118</td>\n",
       "      <td>6</td>\n",
       "      <td>6</td>\n",
       "      <td>3.376050e+08</td>\n",
       "      <td>6.32</td>\n",
       "      <td>170.976</td>\n",
       "      <td>4.02960</td>\n",
       "      <td>170.897354</td>\n",
       "      <td>52.313225</td>\n",
       "      <td>1.0</td>\n",
       "      <td>0</td>\n",
       "    </tr>\n",
       "  </tbody>\n",
       "</table>\n",
       "<p>57460 rows × 13 columns</p>\n",
       "</div>"
      ],
      "text/plain": [
       "      detector  idx_t  idx_E  i1  i2             t     E       ra      dec  \\\n",
       "0            A      0    102  -6  -6  3.376033e+08  5.68  170.889  3.75981   \n",
       "1            A      0    102  -6  -5  3.376033e+08  5.68  170.881  3.77425   \n",
       "2            A      0    102  -6  -4  3.376033e+08  5.68  170.872  3.78868   \n",
       "3            A      0    102  -6  -3  3.376033e+08  5.68  170.864  3.80311   \n",
       "4            A      0    102  -6  -2  3.376033e+08  5.68  170.856  3.81755   \n",
       "...        ...    ...    ...  ..  ..           ...   ...      ...      ...   \n",
       "57455        B      9    118   6   2  3.376050e+08  6.32  171.009  3.97187   \n",
       "57456        B      9    118   6   3  3.376050e+08  6.32  171.001  3.98630   \n",
       "57457        B      9    118   6   4  3.376050e+08  6.32  170.992  4.00073   \n",
       "57458        B      9    118   6   5  3.376050e+08  6.32  170.984  4.01517   \n",
       "57459        B      9    118   6   6  3.376050e+08  6.32  170.976  4.02960   \n",
       "\n",
       "              exp         arf  Omega  counts  \n",
       "0        0.000000   97.389603    1.0       0  \n",
       "1        0.000000   71.114639    1.0       0  \n",
       "2        0.000000  117.963196    1.0       0  \n",
       "3        0.000000  116.242241    1.0       0  \n",
       "4        0.000000  203.614990    1.0       0  \n",
       "...           ...         ...    ...     ...  \n",
       "57455  170.897354  121.035553    1.0       0  \n",
       "57456  170.897354   99.170128    1.0       0  \n",
       "57457  170.897354   71.558678    1.0       0  \n",
       "57458  170.897354   70.092308    1.0       0  \n",
       "57459  170.897354   52.313225    1.0       0  \n",
       "\n",
       "[57460 rows x 13 columns]"
      ]
     },
     "execution_count": 20,
     "metadata": {},
     "output_type": "execute_result"
    }
   ],
   "source": [
    "df_data"
   ]
  },
  {
   "cell_type": "code",
   "execution_count": 21,
   "metadata": {},
   "outputs": [],
   "source": [
    "t = df_data['t'].to_numpy()\n",
    "E = df_data['E'].to_numpy()\n",
    "ra = df_data['ra'].to_numpy()\n",
    "dec = df_data['dec'].to_numpy()\n",
    "eps = df_data['exp'].to_numpy() * df_data['arf'].to_numpy() * df_data['Omega'].to_numpy()\n",
    "counts = df_data['counts'].to_numpy()"
   ]
  },
  {
   "cell_type": "code",
   "execution_count": 22,
   "metadata": {},
   "outputs": [
    {
     "data": {
      "text/plain": [
       "10561"
      ]
     },
     "execution_count": 22,
     "metadata": {},
     "output_type": "execute_result"
    }
   ],
   "source": [
    "np.sum(counts)"
   ]
  },
  {
   "cell_type": "code",
   "execution_count": null,
   "metadata": {},
   "outputs": [],
   "source": []
  }
 ],
 "metadata": {
  "kernelspec": {
   "display_name": "Python 3",
   "language": "python",
   "name": "python3"
  },
  "language_info": {
   "codemirror_mode": {
    "name": "ipython",
    "version": 3
   },
   "file_extension": ".py",
   "mimetype": "text/x-python",
   "name": "python",
   "nbconvert_exporter": "python",
   "pygments_lexer": "ipython3",
   "version": "3.8.3"
  }
 },
 "nbformat": 4,
 "nbformat_minor": 4
}
